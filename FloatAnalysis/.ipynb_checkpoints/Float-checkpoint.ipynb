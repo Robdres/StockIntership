{
 "cells": [
  {
   "cell_type": "code",
   "execution_count": 3,
   "id": "9f28c48b-c6c6-4e15-b4dc-136cf72f5acf",
   "metadata": {
    "tags": []
   },
   "outputs": [],
   "source": [
    "import requests\n",
    "import os\n",
    "import plotly\n",
    "import matplotlib.pyplot as plt \n",
    "import numpy as np \n",
    "import pandas as pd"
   ]
  },
  {
   "cell_type": "code",
   "execution_count": 5,
   "id": "e143ae16-b9d6-4439-9ba3-328e4e07d4fb",
   "metadata": {},
   "outputs": [],
   "source": [
    "insurace_NH = ['BSP','PNGAY','AAGIY','BUD','CI','ZURVY','XTER','HUM']"
   ]
  },
  {
   "cell_type": "code",
   "execution_count": 17,
   "id": "62e3da5e-c9aa-4b91-947e-805f597f71a0",
   "metadata": {
    "tags": []
   },
   "outputs": [],
   "source": [
    "def createDirectory(symbol:str):\n",
    "    if not os.path.exists(\"./data/\"+symbol):\n",
    "        os.mkdir(\"./data/\"+symbol)\n",
    "        return True\n",
    "    else:\n",
    "        return False"
   ]
  },
  {
   "cell_type": "code",
   "execution_count": 19,
   "id": "36713d3d-7db1-455d-8730-3fab58ca7f19",
   "metadata": {
    "tags": []
   },
   "outputs": [
    {
     "data": {
      "text/plain": [
       "False"
      ]
     },
     "execution_count": 19,
     "metadata": {},
     "output_type": "execute_result"
    }
   ],
   "source": [
    "createDirectory(insurace_NH[0])"
   ]
  },
  {
   "cell_type": "code",
   "execution_count": null,
   "id": "21f923e4-7d42-4022-a11a-ea5cf450c716",
   "metadata": {},
   "outputs": [],
   "source": [
    "#Function to get total assets \n",
    "def getTotalAssets(symbol:str):\n",
    "    createDirectory(symbol)\n",
    "    "
   ]
  }
 ],
 "metadata": {
  "kernelspec": {
   "display_name": "Python 3 (ipykernel)",
   "language": "python",
   "name": "python3"
  },
  "language_info": {
   "codemirror_mode": {
    "name": "ipython",
    "version": 3
   },
   "file_extension": ".py",
   "mimetype": "text/x-python",
   "name": "python",
   "nbconvert_exporter": "python",
   "pygments_lexer": "ipython3",
   "version": "3.10.10"
  }
 },
 "nbformat": 4,
 "nbformat_minor": 5
}
