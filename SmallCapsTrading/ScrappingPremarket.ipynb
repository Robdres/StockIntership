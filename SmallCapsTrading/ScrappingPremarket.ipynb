{
 "cells": [
  {
   "cell_type": "code",
   "execution_count": 2,
   "id": "ae70f636-395b-4fbe-8240-ea87cf46f563",
   "metadata": {
    "tags": []
   },
   "outputs": [],
   "source": [
    "from selenium import webdriver\n",
    "from selenium.webdriver.common.by import By\n",
    "from bs4 import BeautifulSoup\n",
    "import pandas as pd"
   ]
  },
  {
   "cell_type": "code",
   "execution_count": 4,
   "id": "4057a01b-9aa9-4b2e-9404-d9e813eb1351",
   "metadata": {
    "tags": []
   },
   "outputs": [
    {
     "name": "stderr",
     "output_type": "stream",
     "text": [
      "The version of firefox cannot be detected. Trying with latest driver version\n"
     ]
    },
    {
     "ename": "SessionNotCreatedException",
     "evalue": "Message: Expected browser binary location, but unable to find binary in default location, no 'moz:firefoxOptions.binary' capability provided, and no binary flag set on the command line\n",
     "output_type": "error",
     "traceback": [
      "\u001b[0;31m---------------------------------------------------------------------------\u001b[0m",
      "\u001b[0;31mSessionNotCreatedException\u001b[0m                Traceback (most recent call last)",
      "Cell \u001b[0;32mIn[4], line 5\u001b[0m\n\u001b[1;32m      3\u001b[0m stock \u001b[38;5;241m=\u001b[39m \u001b[38;5;124m'\u001b[39m\u001b[38;5;124maapl\u001b[39m\u001b[38;5;124m'\u001b[39m\n\u001b[1;32m      4\u001b[0m webpage \u001b[38;5;241m=\u001b[39m \u001b[38;5;124m\"\u001b[39m\u001b[38;5;124mhttps://www.nasdaq.com/market-activity/stocks/\u001b[39m\u001b[38;5;124m\"\u001b[39m\u001b[38;5;241m+\u001b[39mstock\u001b[38;5;241m+\u001b[39m\u001b[38;5;124m\"\u001b[39m\u001b[38;5;124m/pre-market\u001b[39m\u001b[38;5;124m\"\u001b[39m\n\u001b[0;32m----> 5\u001b[0m driver \u001b[38;5;241m=\u001b[39m \u001b[43mwebdriver\u001b[49m\u001b[38;5;241;43m.\u001b[39;49m\u001b[43mFirefox\u001b[49m\u001b[43m(\u001b[49m\u001b[43m)\u001b[49m\n\u001b[1;32m      6\u001b[0m driver\u001b[38;5;241m.\u001b[39mget(webpage)\n\u001b[1;32m      7\u001b[0m cells \u001b[38;5;241m=\u001b[39m driver\u001b[38;5;241m.\u001b[39mfind_elements(By\u001b[38;5;241m.\u001b[39mCLASS_NAME,\u001b[38;5;124m\"\u001b[39m\u001b[38;5;124mpre-market-quote-info__cell\u001b[39m\u001b[38;5;124m\"\u001b[39m)\n",
      "File \u001b[0;32m~/.local/lib/python3.11/site-packages/selenium/webdriver/firefox/webdriver.py:68\u001b[0m, in \u001b[0;36mWebDriver.__init__\u001b[0;34m(self, options, service, keep_alive)\u001b[0m\n\u001b[1;32m     61\u001b[0m \u001b[38;5;28mself\u001b[39m\u001b[38;5;241m.\u001b[39mservice\u001b[38;5;241m.\u001b[39mstart()\n\u001b[1;32m     63\u001b[0m executor \u001b[38;5;241m=\u001b[39m FirefoxRemoteConnection(\n\u001b[1;32m     64\u001b[0m     remote_server_addr\u001b[38;5;241m=\u001b[39m\u001b[38;5;28mself\u001b[39m\u001b[38;5;241m.\u001b[39mservice\u001b[38;5;241m.\u001b[39mservice_url,\n\u001b[1;32m     65\u001b[0m     ignore_proxy\u001b[38;5;241m=\u001b[39m\u001b[38;5;28mself\u001b[39m\u001b[38;5;241m.\u001b[39moptions\u001b[38;5;241m.\u001b[39m_ignore_local_proxy,\n\u001b[1;32m     66\u001b[0m     keep_alive\u001b[38;5;241m=\u001b[39m\u001b[38;5;28mself\u001b[39m\u001b[38;5;241m.\u001b[39mkeep_alive,\n\u001b[1;32m     67\u001b[0m )\n\u001b[0;32m---> 68\u001b[0m \u001b[38;5;28;43msuper\u001b[39;49m\u001b[43m(\u001b[49m\u001b[43m)\u001b[49m\u001b[38;5;241;43m.\u001b[39;49m\u001b[38;5;21;43m__init__\u001b[39;49m\u001b[43m(\u001b[49m\u001b[43mcommand_executor\u001b[49m\u001b[38;5;241;43m=\u001b[39;49m\u001b[43mexecutor\u001b[49m\u001b[43m,\u001b[49m\u001b[43m \u001b[49m\u001b[43moptions\u001b[49m\u001b[38;5;241;43m=\u001b[39;49m\u001b[38;5;28;43mself\u001b[39;49m\u001b[38;5;241;43m.\u001b[39;49m\u001b[43moptions\u001b[49m\u001b[43m)\u001b[49m\n\u001b[1;32m     70\u001b[0m \u001b[38;5;28mself\u001b[39m\u001b[38;5;241m.\u001b[39m_is_remote \u001b[38;5;241m=\u001b[39m \u001b[38;5;28;01mFalse\u001b[39;00m\n",
      "File \u001b[0;32m~/.local/lib/python3.11/site-packages/selenium/webdriver/remote/webdriver.py:206\u001b[0m, in \u001b[0;36mWebDriver.__init__\u001b[0;34m(self, command_executor, keep_alive, file_detector, options)\u001b[0m\n\u001b[1;32m    204\u001b[0m \u001b[38;5;28mself\u001b[39m\u001b[38;5;241m.\u001b[39m_authenticator_id \u001b[38;5;241m=\u001b[39m \u001b[38;5;28;01mNone\u001b[39;00m\n\u001b[1;32m    205\u001b[0m \u001b[38;5;28mself\u001b[39m\u001b[38;5;241m.\u001b[39mstart_client()\n\u001b[0;32m--> 206\u001b[0m \u001b[38;5;28;43mself\u001b[39;49m\u001b[38;5;241;43m.\u001b[39;49m\u001b[43mstart_session\u001b[49m\u001b[43m(\u001b[49m\u001b[43mcapabilities\u001b[49m\u001b[43m)\u001b[49m\n",
      "File \u001b[0;32m~/.local/lib/python3.11/site-packages/selenium/webdriver/remote/webdriver.py:291\u001b[0m, in \u001b[0;36mWebDriver.start_session\u001b[0;34m(self, capabilities)\u001b[0m\n\u001b[1;32m    283\u001b[0m \u001b[38;5;250m\u001b[39m\u001b[38;5;124;03m\"\"\"Creates a new session with the desired capabilities.\u001b[39;00m\n\u001b[1;32m    284\u001b[0m \n\u001b[1;32m    285\u001b[0m \u001b[38;5;124;03m:Args:\u001b[39;00m\n\u001b[1;32m    286\u001b[0m \u001b[38;5;124;03m - capabilities - a capabilities dict to start the session with.\u001b[39;00m\n\u001b[1;32m    287\u001b[0m \u001b[38;5;124;03m - browser_profile - A selenium.webdriver.firefox.firefox_profile.FirefoxProfile object. Only used if Firefox is requested.\u001b[39;00m\n\u001b[1;32m    288\u001b[0m \u001b[38;5;124;03m\"\"\"\u001b[39;00m\n\u001b[1;32m    290\u001b[0m caps \u001b[38;5;241m=\u001b[39m _create_caps(capabilities)\n\u001b[0;32m--> 291\u001b[0m response \u001b[38;5;241m=\u001b[39m \u001b[38;5;28;43mself\u001b[39;49m\u001b[38;5;241;43m.\u001b[39;49m\u001b[43mexecute\u001b[49m\u001b[43m(\u001b[49m\u001b[43mCommand\u001b[49m\u001b[38;5;241;43m.\u001b[39;49m\u001b[43mNEW_SESSION\u001b[49m\u001b[43m,\u001b[49m\u001b[43m \u001b[49m\u001b[43mcaps\u001b[49m\u001b[43m)\u001b[49m[\u001b[38;5;124m\"\u001b[39m\u001b[38;5;124mvalue\u001b[39m\u001b[38;5;124m\"\u001b[39m]\n\u001b[1;32m    292\u001b[0m \u001b[38;5;28mself\u001b[39m\u001b[38;5;241m.\u001b[39msession_id \u001b[38;5;241m=\u001b[39m response\u001b[38;5;241m.\u001b[39mget(\u001b[38;5;124m\"\u001b[39m\u001b[38;5;124msessionId\u001b[39m\u001b[38;5;124m\"\u001b[39m)\n\u001b[1;32m    293\u001b[0m \u001b[38;5;28mself\u001b[39m\u001b[38;5;241m.\u001b[39mcaps \u001b[38;5;241m=\u001b[39m response\u001b[38;5;241m.\u001b[39mget(\u001b[38;5;124m\"\u001b[39m\u001b[38;5;124mcapabilities\u001b[39m\u001b[38;5;124m\"\u001b[39m)\n",
      "File \u001b[0;32m~/.local/lib/python3.11/site-packages/selenium/webdriver/remote/webdriver.py:346\u001b[0m, in \u001b[0;36mWebDriver.execute\u001b[0;34m(self, driver_command, params)\u001b[0m\n\u001b[1;32m    344\u001b[0m response \u001b[38;5;241m=\u001b[39m \u001b[38;5;28mself\u001b[39m\u001b[38;5;241m.\u001b[39mcommand_executor\u001b[38;5;241m.\u001b[39mexecute(driver_command, params)\n\u001b[1;32m    345\u001b[0m \u001b[38;5;28;01mif\u001b[39;00m response:\n\u001b[0;32m--> 346\u001b[0m     \u001b[38;5;28;43mself\u001b[39;49m\u001b[38;5;241;43m.\u001b[39;49m\u001b[43merror_handler\u001b[49m\u001b[38;5;241;43m.\u001b[39;49m\u001b[43mcheck_response\u001b[49m\u001b[43m(\u001b[49m\u001b[43mresponse\u001b[49m\u001b[43m)\u001b[49m\n\u001b[1;32m    347\u001b[0m     response[\u001b[38;5;124m\"\u001b[39m\u001b[38;5;124mvalue\u001b[39m\u001b[38;5;124m\"\u001b[39m] \u001b[38;5;241m=\u001b[39m \u001b[38;5;28mself\u001b[39m\u001b[38;5;241m.\u001b[39m_unwrap_value(response\u001b[38;5;241m.\u001b[39mget(\u001b[38;5;124m\"\u001b[39m\u001b[38;5;124mvalue\u001b[39m\u001b[38;5;124m\"\u001b[39m, \u001b[38;5;28;01mNone\u001b[39;00m))\n\u001b[1;32m    348\u001b[0m     \u001b[38;5;28;01mreturn\u001b[39;00m response\n",
      "File \u001b[0;32m~/.local/lib/python3.11/site-packages/selenium/webdriver/remote/errorhandler.py:245\u001b[0m, in \u001b[0;36mErrorHandler.check_response\u001b[0;34m(self, response)\u001b[0m\n\u001b[1;32m    243\u001b[0m         alert_text \u001b[38;5;241m=\u001b[39m value[\u001b[38;5;124m\"\u001b[39m\u001b[38;5;124malert\u001b[39m\u001b[38;5;124m\"\u001b[39m]\u001b[38;5;241m.\u001b[39mget(\u001b[38;5;124m\"\u001b[39m\u001b[38;5;124mtext\u001b[39m\u001b[38;5;124m\"\u001b[39m)\n\u001b[1;32m    244\u001b[0m     \u001b[38;5;28;01mraise\u001b[39;00m exception_class(message, screen, stacktrace, alert_text)  \u001b[38;5;66;03m# type: ignore[call-arg]  # mypy is not smart enough here\u001b[39;00m\n\u001b[0;32m--> 245\u001b[0m \u001b[38;5;28;01mraise\u001b[39;00m exception_class(message, screen, stacktrace)\n",
      "\u001b[0;31mSessionNotCreatedException\u001b[0m: Message: Expected browser binary location, but unable to find binary in default location, no 'moz:firefoxOptions.binary' capability provided, and no binary flag set on the command line\n"
     ]
    }
   ],
   "source": [
    "#webScrapping for pre-market\n",
    "texts = []\n",
    "stock = 'aapl'\n",
    "webpage = \"https://www.nasdaq.com/market-activity/stocks/\"+stock+\"/pre-market\"\n",
    "driver = webdriver.Firefox()\n",
    "driver.get(webpage)\n",
    "cells = driver.find_elements(By.CLASS_NAME,\"pre-market-quote-info__cell\")\n",
    "for i in cells: \n",
    "    texts.append(i.get_attribute(\"outerHTML\"))\n",
    "driver.close()"
   ]
  },
  {
   "cell_type": "code",
   "execution_count": null,
   "id": "a9e83ed9-0ee3-47a5-9b9f-b6e1aa1825b1",
   "metadata": {
    "tags": []
   },
   "outputs": [],
   "source": [
    "data = []\n",
    "if(data == []): \n",
    "    print(\"no pre-data for \" + stock)\n",
    "    for i in texts:\n",
    "        data.append(i[i.find(\">\")+1:i.find(\"<\",i.find(\"<\")+1)])"
   ]
  },
  {
   "cell_type": "code",
   "execution_count": 70,
   "id": "a84c78c0-f19e-4f98-ac82-394d4800c620",
   "metadata": {
    "tags": []
   },
   "outputs": [
    {
     "ename": "IndexError",
     "evalue": "list index out of range",
     "output_type": "error",
     "traceback": [
      "\u001b[0;31m---------------------------------------------------------------------------\u001b[0m",
      "\u001b[0;31mIndexError\u001b[0m                                Traceback (most recent call last)",
      "Cell \u001b[0;32mIn[70], line 1\u001b[0m\n\u001b[0;32m----> 1\u001b[0m volume \u001b[38;5;241m=\u001b[39m \u001b[43mdata\u001b[49m\u001b[43m[\u001b[49m\u001b[38;5;241;43m3\u001b[39;49m\u001b[43m]\u001b[49m\n\u001b[1;32m      2\u001b[0m p_high  \u001b[38;5;241m=\u001b[39m data[\u001b[38;5;241m5\u001b[39m]\n\u001b[1;32m      3\u001b[0m p_low \u001b[38;5;241m=\u001b[39m data[\u001b[38;5;241m7\u001b[39m]\n",
      "\u001b[0;31mIndexError\u001b[0m: list index out of range"
     ]
    }
   ],
   "source": [
    "volume = data[3]\n",
    "p_high  = data[5]\n",
    "p_low = data[7]"
   ]
  },
  {
   "cell_type": "code",
   "execution_count": 67,
   "id": "a8bd022c-0efa-447d-ba19-0b83b61097d6",
   "metadata": {
    "tags": []
   },
   "outputs": [
    {
     "data": {
      "text/plain": [
       "'$164.48 (08:01:56 AM)'"
      ]
     },
     "execution_count": 67,
     "metadata": {},
     "output_type": "execute_result"
    }
   ],
   "source": [
    "premarket_stock = pd\n"
   ]
  },
  {
   "cell_type": "code",
   "execution_count": 86,
   "id": "c25202ba-36fd-4d15-8201-e8211ba90869",
   "metadata": {
    "tags": []
   },
   "outputs": [],
   "source": [
    "import yfinance as yf\n",
    "\n",
    "ticker = yf.Ticker(\"AAPL\")\n",
    "premarket_data = ticker.history(period='pre', interval='5m')"
   ]
  },
  {
   "cell_type": "code",
   "execution_count": 85,
   "id": "c62f955e-ef55-4420-9ab1-9165a32ec042",
   "metadata": {
    "tags": []
   },
   "outputs": [
    {
     "data": {
      "text/plain": [
       "Datetime\n",
       "2023-04-17 09:30:00-04:00    False\n",
       "2023-04-17 09:35:00-04:00     True\n",
       "2023-04-17 09:40:00-04:00    False\n",
       "2023-04-17 09:45:00-04:00    False\n",
       "2023-04-17 09:50:00-04:00    False\n",
       "                             ...  \n",
       "2023-04-17 15:35:00-04:00    False\n",
       "2023-04-17 15:40:00-04:00    False\n",
       "2023-04-17 15:45:00-04:00    False\n",
       "2023-04-17 15:50:00-04:00    False\n",
       "2023-04-17 15:55:00-04:00    False\n",
       "Name: High, Length: 78, dtype: bool"
      ]
     },
     "execution_count": 85,
     "metadata": {},
     "output_type": "execute_result"
    }
   ],
   "source": [
    "premarket_data.High==max(premarket_data.High)"
   ]
  },
  {
   "cell_type": "code",
   "execution_count": 120,
   "id": "b08bf06e-e94a-48b6-805a-b4391441b500",
   "metadata": {
    "tags": []
   },
   "outputs": [],
   "source": [
    "sp_symbols = [\n",
    "    'mmm', 'abt', 'abbv', 'abmd', 'acn', 'atvi', 'adbe', 'amd', 'aapl', 'aar',\n",
    "    'apd', 'akam', 'alk', 'alb', 'are', 'algn', 'ally', 'alxn', 'algn', 'amzn',\n",
    "    'amcr', 'aee', 'aapl', 'amgn', 'aph', 'abc', 'abt', 'amd', 'anet', 'anss',\n",
    "    'antm', 'aon', 'aiv', 'aapl', 'amh', 'apd', 'apa', 'aal', 'aptv', 'adm',\n",
    "    'arnc', 'ajg', 'aiz', 't', 'adsk', 'adp', 'azo', 'avb', 'avy', 'bkr',\n",
    "    'bac', 'bb', 'ba', 'bkng', 'bwa', 'bxp', 'bsx', 'bmy', 'avgo', 'br',\n",
    "    'bf.b', 'chl', 'ko', 'cl', 'cmcsa', 'cma', 'cag', 'cxo', 'cop', 'ed',\n",
    "    'cinf', 'ctas', 'c', 'cci', 'cogn', 'clx', 'cly', 'cms', 'ko', 'ctsh',\n",
    "    'cl', 'cpb', 'cof', 'cpri', 'cci', 'csx', 'cme', 'cvx', 'ctva', 'crm',\n",
    "    'dhi', 'dhr', 'dri', 'dva', 'dal', 'xray', 'de', 'dvy', 'dsx', 'dvx',\n",
    "    'dvn', 'dxcm', 'fis', 'fdx', 'fitb', 'fe', 'frc', 'flt', 'fisv', 'flir',\n",
    "    'fmc', 'frt', 'ftnt', 'ftv', 'fb', 'fast', 'f', 'gpc', 'gd', 'ge',\n",
    "    'gis', 'gild', 'gl', 'gnrc', 'gm', 'gild', 'goo', 'goog', 'googl', 'gpc',\n",
    "    'grmn', 'gpn', 'gs', 'gww', 'hal', 'hbi', 'hig', 'has', 'hca', 'hcp',\n",
    "    'hrl', 'hst', 'hsy', 'hum', 'hbann', 'idxx', 'info', 'itw', 'ilmn', 'incy',\n",
    "    'ice', 'ibm', 'ingr', 'inpx', 'intc', 'ice', 'ip', 'ipg', 'iff', 'intu',\n",
    "    'isrg', 'ivz', 'ipgp', 'iqv', 'irm', 'jnj', 'jnpr', 'ksu', 'k', 'key',\n",
    "    'keys', 'khc', 'kimb', 'kim', 'kmi', 'klac', 'kgc', 'kss', 'kro', 'lhx',\n",
    "    'lyv', 'lmt', 'l', 'low', 'lrcx', 'lvs', 'leg', 'lego', 'lly', 'lnc',\n",
    "    'lin', 'li', 'lmt', 'lnc' ]\n",
    "categories = [ 'Open','Close','High','Volumen']"
   ]
  },
  {
   "cell_type": "code",
   "execution_count": 121,
   "id": "eda019c2-b181-465a-b187-b85d8d3acaf3",
   "metadata": {
    "tags": []
   },
   "outputs": [],
   "source": [
    "sp_symbols = sp_symbols*4"
   ]
  },
  {
   "cell_type": "code",
   "execution_count": 122,
   "id": "762faab1-cf81-4d2d-aa56-5cb316bc95e1",
   "metadata": {
    "tags": []
   },
   "outputs": [],
   "source": [
    "sp_symbols.sort()"
   ]
  },
  {
   "cell_type": "code",
   "execution_count": 128,
   "id": "3219bcb8-7fa1-4b7b-b1f4-e62da2aefd2c",
   "metadata": {
    "tags": []
   },
   "outputs": [],
   "source": [
    "headers = list(zip(sp_symbols,categories*194))"
   ]
  },
  {
   "cell_type": "code",
   "execution_count": 131,
   "id": "f3b33b16-e3a4-4956-9378-bbb235295d66",
   "metadata": {
    "tags": []
   },
   "outputs": [],
   "source": [
    "stocks = pd.DataFrame(columns=headers)"
   ]
  },
  {
   "cell_type": "code",
   "execution_count": 132,
   "id": "e70cc82d-0c91-41d8-a701-124340676cee",
   "metadata": {
    "tags": []
   },
   "outputs": [
    {
     "data": {
      "text/html": [
       "<div>\n",
       "<style scoped>\n",
       "    .dataframe tbody tr th:only-of-type {\n",
       "        vertical-align: middle;\n",
       "    }\n",
       "\n",
       "    .dataframe tbody tr th {\n",
       "        vertical-align: top;\n",
       "    }\n",
       "\n",
       "    .dataframe thead th {\n",
       "        text-align: right;\n",
       "    }\n",
       "</style>\n",
       "<table border=\"1\" class=\"dataframe\">\n",
       "  <thead>\n",
       "    <tr style=\"text-align: right;\">\n",
       "      <th></th>\n",
       "      <th>(aal, Open)</th>\n",
       "      <th>(aal, Close)</th>\n",
       "      <th>(aal, High)</th>\n",
       "      <th>(aal, Volumen)</th>\n",
       "      <th>(aapl, Open)</th>\n",
       "      <th>(aapl, Close)</th>\n",
       "      <th>(aapl, High)</th>\n",
       "      <th>(aapl, Volumen)</th>\n",
       "      <th>(aapl, Open)</th>\n",
       "      <th>(aapl, Close)</th>\n",
       "      <th>...</th>\n",
       "      <th>(mmm, High)</th>\n",
       "      <th>(mmm, Volumen)</th>\n",
       "      <th>(t, Open)</th>\n",
       "      <th>(t, Close)</th>\n",
       "      <th>(t, High)</th>\n",
       "      <th>(t, Volumen)</th>\n",
       "      <th>(xray, Open)</th>\n",
       "      <th>(xray, Close)</th>\n",
       "      <th>(xray, High)</th>\n",
       "      <th>(xray, Volumen)</th>\n",
       "    </tr>\n",
       "  </thead>\n",
       "  <tbody>\n",
       "  </tbody>\n",
       "</table>\n",
       "<p>0 rows × 776 columns</p>\n",
       "</div>"
      ],
      "text/plain": [
       "Empty DataFrame\n",
       "Columns: [(aal, Open), (aal, Close), (aal, High), (aal, Volumen), (aapl, Open), (aapl, Close), (aapl, High), (aapl, Volumen), (aapl, Open), (aapl, Close), (aapl, High), (aapl, Volumen), (aapl, Open), (aapl, Close), (aapl, High), (aapl, Volumen), (aar, Open), (aar, Close), (aar, High), (aar, Volumen), (abbv, Open), (abbv, Close), (abbv, High), (abbv, Volumen), (abc, Open), (abc, Close), (abc, High), (abc, Volumen), (abmd, Open), (abmd, Close), (abmd, High), (abmd, Volumen), (abt, Open), (abt, Close), (abt, High), (abt, Volumen), (abt, Open), (abt, Close), (abt, High), (abt, Volumen), (acn, Open), (acn, Close), (acn, High), (acn, Volumen), (adbe, Open), (adbe, Close), (adbe, High), (adbe, Volumen), (adm, Open), (adm, Close), (adm, High), (adm, Volumen), (adp, Open), (adp, Close), (adp, High), (adp, Volumen), (adsk, Open), (adsk, Close), (adsk, High), (adsk, Volumen), (aee, Open), (aee, Close), (aee, High), (aee, Volumen), (aiv, Open), (aiv, Close), (aiv, High), (aiv, Volumen), (aiz, Open), (aiz, Close), (aiz, High), (aiz, Volumen), (ajg, Open), (ajg, Close), (ajg, High), (ajg, Volumen), (akam, Open), (akam, Close), (akam, High), (akam, Volumen), (alb, Open), (alb, Close), (alb, High), (alb, Volumen), (algn, Open), (algn, Close), (algn, High), (algn, Volumen), (algn, Open), (algn, Close), (algn, High), (algn, Volumen), (alk, Open), (alk, Close), (alk, High), (alk, Volumen), (ally, Open), (ally, Close), (ally, High), (ally, Volumen), ...]\n",
       "Index: []\n",
       "\n",
       "[0 rows x 776 columns]"
      ]
     },
     "execution_count": 132,
     "metadata": {},
     "output_type": "execute_result"
    }
   ],
   "source": []
  },
  {
   "cell_type": "code",
   "execution_count": null,
   "id": "cd63cb22-5f99-4083-b523-429c3febd1a0",
   "metadata": {},
   "outputs": [],
   "source": [
    "for i in sp_symbols: \n",
    "    "
   ]
  }
 ],
 "metadata": {
  "kernelspec": {
   "display_name": "Python 3 (ipykernel)",
   "language": "python",
   "name": "python3"
  },
  "language_info": {
   "codemirror_mode": {
    "name": "ipython",
    "version": 3
   },
   "file_extension": ".py",
   "mimetype": "text/x-python",
   "name": "python",
   "nbconvert_exporter": "python",
   "pygments_lexer": "ipython3",
   "version": "3.11.3"
  }
 },
 "nbformat": 4,
 "nbformat_minor": 5
}
