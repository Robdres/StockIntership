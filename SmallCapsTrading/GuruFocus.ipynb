{
 "cells": [
  {
   "cell_type": "code",
   "execution_count": 1,
   "id": "2f1abb04-b570-4995-91e6-36bdcada32f1",
   "metadata": {},
   "outputs": [],
   "source": [
    "import requests\n",
    "import http"
   ]
  },
  {
   "cell_type": "code",
   "execution_count": 1,
   "id": "cd4969b0-68a8-421a-9057-fd026208f519",
   "metadata": {},
   "outputs": [],
   "source": [
    "sp_symbols = [\n",
    "    'mmm', 'abt', 'abbv', 'abmd', 'acn', 'atvi', 'adbe', 'amd', 'aapl', 'aar',\n",
    "    'apd', 'akam', 'alk', 'alb', 'are', 'algn', 'ally', 'alxn', 'algn', 'amzn',\n",
    "    'amcr', 'aee', 'aapl', 'amgn', 'aph', 'abc', 'abt', 'amd', 'anet', 'anss',\n",
    "    'antm', 'aon', 'aiv', 'aapl', 'amh', 'apd', 'apa', 'aal', 'aptv', 'adm',\n",
    "    'arnc', 'ajg', 'aiz', 't', 'adsk', 'adp', 'azo', 'avb', 'avy', 'bkr',\n",
    "    'bac', 'bb', 'ba', 'bkng', 'bwa', 'bxp', 'bsx', 'bmy', 'avgo', 'br',\n",
    "    'bf.b', 'chl', 'ko', 'cl', 'cmcsa', 'cma', 'cag', 'cxo', 'cop', 'ed',\n",
    "    'cinf', 'ctas', 'c', 'cci', 'cogn', 'clx', 'cly', 'cms', 'ko', 'ctsh',\n",
    "    'cl', 'cpb', 'cof', 'cpri', 'cci', 'csx', 'cme', 'cvx', 'ctva', 'crm',\n",
    "    'dhi', 'dhr', 'dri', 'dva', 'dal', 'xray', 'de', 'dvy', 'dsx', 'dvx',\n",
    "    'dvn', 'dxcm', 'fis', 'fdx', 'fitb', 'fe', 'frc', 'flt', 'fisv', 'flir',\n",
    "    'fmc', 'frt', 'ftnt', 'ftv', 'fb', 'fast', 'f', 'gpc', 'gd', 'ge',\n",
    "    'gis', 'gild', 'gl', 'gnrc', 'gm', 'gild', 'goo', 'goog', 'googl', 'gpc',\n",
    "    'grmn', 'gpn', 'gs', 'gww', 'hal', 'hbi', 'hig', 'has', 'hca', 'hcp',\n",
    "    'hrl', 'hst', 'hsy', 'hum', 'hbann', 'idxx', 'info', 'itw', 'ilmn', 'incy',\n",
    "    'ice', 'ibm', 'ingr', 'inpx', 'intc', 'ice', 'ip', 'ipg', 'iff', 'intu',\n",
    "    'isrg', 'ivz', 'ipgp', 'iqv', 'irm', 'jnj', 'jnpr', 'ksu', 'k', 'key',\n",
    "    'keys', 'khc', 'kimb', 'kim', 'kmi', 'klac', 'kgc', 'kss', 'kro', 'lhx',\n",
    "    'lyv', 'lmt', 'l', 'low', 'lrcx', 'lvs', 'leg', 'lego', 'lly', 'lnc',\n",
    "    'lin', 'li', 'lmt', 'lnc' ]"
   ]
  },
  {
   "cell_type": "code",
   "execution_count": null,
   "id": "48537048-1cd2-42b8-8670-dce4f0b9db61",
   "metadata": {},
   "outputs": [],
   "source": []
  }
 ],
 "metadata": {
  "kernelspec": {
   "display_name": "Python 3 (ipykernel)",
   "language": "python",
   "name": "python3"
  },
  "language_info": {
   "codemirror_mode": {
    "name": "ipython",
    "version": 3
   },
   "file_extension": ".py",
   "mimetype": "text/x-python",
   "name": "python",
   "nbconvert_exporter": "python",
   "pygments_lexer": "ipython3",
   "version": "3.11.3"
  }
 },
 "nbformat": 4,
 "nbformat_minor": 5
}
