{
 "cells": [
  {
   "cell_type": "code",
   "execution_count": 1,
   "id": "2f1abb04-b570-4995-91e6-36bdcada32f1",
   "metadata": {},
   "outputs": [],
   "source": [
    "import requests\n",
    "import http"
   ]
  }
 ],
 "metadata": {
  "kernelspec": {
   "display_name": "Python 3 (ipykernel)",
   "language": "python",
   "name": "python3"
  },
  "language_info": {
   "codemirror_mode": {
    "name": "ipython",
    "version": 3
   },
   "file_extension": ".py",
   "mimetype": "text/x-python",
   "name": "python",
   "nbconvert_exporter": "python",
   "pygments_lexer": "ipython3",
   "version": "3.10.10"
  }
 },
 "nbformat": 4,
 "nbformat_minor": 5
}
