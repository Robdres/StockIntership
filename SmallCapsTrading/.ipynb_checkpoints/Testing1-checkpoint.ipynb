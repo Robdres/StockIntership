{
 "cells": [
  {
   "cell_type": "code",
   "execution_count": 36,
   "id": "1ed3bd4c-5a64-460a-b791-125334dae1cc",
   "metadata": {
    "tags": []
   },
   "outputs": [],
   "source": [
    "#import libraries\n",
    "import numpy as np\n",
    "import pandas as pd\n",
    "import matplotlib.pyplot as plt\n",
    "import datetime"
   ]
  },
  {
   "cell_type": "code",
   "execution_count": 2,
   "id": "f8b78e6e-eba0-4723-936e-30a51df8b1ea",
   "metadata": {
    "tags": []
   },
   "outputs": [],
   "source": [
    "#API for getting data\n",
    "import yfinance as yf"
   ]
  },
  {
   "cell_type": "code",
   "execution_count": 3,
   "id": "b3357303-7376-405a-984f-f0c0c34a6c91",
   "metadata": {
    "tags": []
   },
   "outputs": [],
   "source": [
    "msft = yf.Ticker(\"AMC,APPL,\")"
   ]
  },
  {
   "cell_type": "code",
   "execution_count": 35,
   "id": "d40c6161-1171-46a3-80d8-d6be5356e7c9",
   "metadata": {
    "tags": []
   },
   "outputs": [
    {
     "name": "stdout",
     "output_type": "stream",
     "text": [
      "[*********************100%***********************]  2 of 2 completed\n",
      "\n",
      "1 Failed download:\n",
      "- APPL: Period '1d' is invalid, must be one of ['1mo', '3mo', '6mo', 'ytd', '1y', '2y', '5y', '10y', 'max']\n"
     ]
    }
   ],
   "source": [
    "#Get historical data for stock\n",
    "stocks = [\"AMC\",\"APPL\"]\n",
    "data = yf.download(stocks,start=datetime,,period=\"1d\",group_by=\"stock\")"
   ]
  },
  {
   "cell_type": "code",
   "execution_count": 32,
   "id": "1634185b-f3e4-474f-8e62-ecd39a0043bc",
   "metadata": {
    "tags": []
   },
   "outputs": [
    {
     "data": {
      "text/html": [
       "<div>\n",
       "<style scoped>\n",
       "    .dataframe tbody tr th:only-of-type {\n",
       "        vertical-align: middle;\n",
       "    }\n",
       "\n",
       "    .dataframe tbody tr th {\n",
       "        vertical-align: top;\n",
       "    }\n",
       "\n",
       "    .dataframe thead tr th {\n",
       "        text-align: left;\n",
       "    }\n",
       "\n",
       "    .dataframe thead tr:last-of-type th {\n",
       "        text-align: right;\n",
       "    }\n",
       "</style>\n",
       "<table border=\"1\" class=\"dataframe\">\n",
       "  <thead>\n",
       "    <tr>\n",
       "      <th></th>\n",
       "      <th colspan=\"6\" halign=\"left\">APPL</th>\n",
       "      <th colspan=\"6\" halign=\"left\">AMC</th>\n",
       "    </tr>\n",
       "    <tr>\n",
       "      <th></th>\n",
       "      <th>Open</th>\n",
       "      <th>High</th>\n",
       "      <th>Low</th>\n",
       "      <th>Close</th>\n",
       "      <th>Adj Close</th>\n",
       "      <th>Volume</th>\n",
       "      <th>Open</th>\n",
       "      <th>High</th>\n",
       "      <th>Low</th>\n",
       "      <th>Close</th>\n",
       "      <th>Adj Close</th>\n",
       "      <th>Volume</th>\n",
       "    </tr>\n",
       "    <tr>\n",
       "      <th>Date</th>\n",
       "      <th></th>\n",
       "      <th></th>\n",
       "      <th></th>\n",
       "      <th></th>\n",
       "      <th></th>\n",
       "      <th></th>\n",
       "      <th></th>\n",
       "      <th></th>\n",
       "      <th></th>\n",
       "      <th></th>\n",
       "      <th></th>\n",
       "      <th></th>\n",
       "    </tr>\n",
       "  </thead>\n",
       "  <tbody>\n",
       "    <tr>\n",
       "      <th>2023-04-18 00:00:00</th>\n",
       "      <td>NaN</td>\n",
       "      <td>NaN</td>\n",
       "      <td>NaN</td>\n",
       "      <td>NaN</td>\n",
       "      <td>NaN</td>\n",
       "      <td>NaN</td>\n",
       "      <td>5.23</td>\n",
       "      <td>5.212</td>\n",
       "      <td>4.98</td>\n",
       "      <td>5.05</td>\n",
       "      <td>5.05</td>\n",
       "      <td>13188859</td>\n",
       "    </tr>\n",
       "  </tbody>\n",
       "</table>\n",
       "</div>"
      ],
      "text/plain": [
       "                    APPL                                   AMC               \\\n",
       "                    Open High Low Close Adj Close Volume  Open   High   Low   \n",
       "Date                                                                          \n",
       "2023-04-18 00:00:00  NaN  NaN NaN   NaN       NaN    NaN  5.23  5.212  4.98   \n",
       "\n",
       "                                               \n",
       "                    Close Adj Close    Volume  \n",
       "Date                                           \n",
       "2023-04-18 00:00:00  5.05      5.05  13188859  "
      ]
     },
     "execution_count": 32,
     "metadata": {},
     "output_type": "execute_result"
    }
   ],
   "source": [
    "data"
   ]
  },
  {
   "cell_type": "code",
   "execution_count": null,
   "id": "7912aa24-0020-4eae-801e-589eacdc5539",
   "metadata": {},
   "outputs": [],
   "source": [
    "pre"
   ]
  },
  {
   "cell_type": "code",
   "execution_count": 6,
   "id": "59b60f19-aef7-4818-89c0-92988d4b077b",
   "metadata": {
    "tags": []
   },
   "outputs": [],
   "source": [
    "#Get the ones that closed lower than open\n",
    "def redCloses(data,stocks):\n",
    "    aux = []\n",
    "    for i in stocks:\n",
    "        aux.append((data[i].Close - data[i].Open)/data[i].Open < 0)\n",
    "    return aux\n",
    "\n",
    "closes = redCloses(data,stocks)"
   ]
  },
  {
   "cell_type": "code",
   "execution_count": 5,
   "id": "c719c0e9-643b-4e5d-8a42-a5098424fefe",
   "metadata": {
    "tags": []
   },
   "outputs": [],
   "source": [
    "#function to check premarket gaps bigger than 0.2\n",
    "def premarketGap(data,stocks):\n",
    "    aux = []\n",
    "    #For all of our stocks\n",
    "    for i in stocks:\n",
    "        stock = data[i]\n",
    "        for j in range(len(stock)-1):\n",
    "            #Check the \n",
    "            premarket_gap= (stock.iloc[j+1].Open-stock.iloc[j].Close)/stock.iloc[j].Close\n",
    "            if(premarket_gap>0.2):\n",
    "                aux.append((i,stock.iloc[j].name))\n",
    "    return aux \n",
    "premarket_gaps = premarketGap(data,stocks)"
   ]
  },
  {
   "cell_type": "code",
   "execution_count": 18,
   "id": "1c62fe22-53b6-4534-8b31-bd3a9ea0195e",
   "metadata": {
    "tags": []
   },
   "outputs": [],
   "source": [
    "#function to get pre-market highs\n",
    "def hourPremarketHigh(data,stocks):\n",
    "    highs = []\n",
    "    for i in stocks:\n",
    "        highs.append(data[i][data[i].Close == max(data[i].Close)])\n",
    "    return highs\n",
    "highs = hourPremarketHigh(data,stocks)\n",
    "        "
   ]
  },
  {
   "cell_type": "code",
   "execution_count": 19,
   "id": "291c562c-b3b7-4045-8a41-4a5fe7c109dc",
   "metadata": {
    "tags": []
   },
   "outputs": [
    {
     "ename": "SyntaxError",
     "evalue": "incomplete input (703122669.py, line 2)",
     "output_type": "error",
     "traceback": [
      "\u001b[0;36m  Cell \u001b[0;32mIn[19], line 2\u001b[0;36m\u001b[0m\n\u001b[0;31m    \u001b[0m\n\u001b[0m    ^\u001b[0m\n\u001b[0;31mSyntaxError\u001b[0m\u001b[0;31m:\u001b[0m incomplete input\n"
     ]
    }
   ],
   "source": [
    " "
   ]
  },
  {
   "cell_type": "code",
   "execution_count": 26,
   "id": "d308fcc8-b5e7-460b-9959-41fb49c84e21",
   "metadata": {
    "tags": []
   },
   "outputs": [
    {
     "ename": "SyntaxError",
     "evalue": "invalid syntax (3234736938.py, line 42)",
     "output_type": "error",
     "traceback": [
      "\u001b[0;36m  Cell \u001b[0;32mIn[26], line 42\u001b[0;36m\u001b[0m\n\u001b[0;31m    self.max =\u001b[0m\n\u001b[0m               ^\u001b[0m\n\u001b[0;31mSyntaxError\u001b[0m\u001b[0;31m:\u001b[0m invalid syntax\n"
     ]
    }
   ],
   "source": [
    "#class to manage stocks and data of stocks\n",
    "class Stock:\n",
    "    #Init Function that creates the Stock\n",
    "    def __init__(self, closing,opening):\n",
    "        self.closing = closing\n",
    "        self.opening = opening\n",
    "        self.premarket_gap = (self.closing + self.opening)/self.closing \n",
    "        \n",
    "        # check if stock is Day1MOMO and categorize it\n",
    "        if(self.premarket_gap > 0.2):\n",
    "            self.day1MOMO = True\n",
    "            \n",
    "            if(self.premarket_gap<0.30):\n",
    "                #category for 20%-30%\n",
    "                self.category = 1\n",
    "                \n",
    "            elif(self.premarket_gap<0.50):\n",
    "                #category for 30%-50%\n",
    "                self.category = 2\n",
    "                \n",
    "            elif(self.premarket_gap<0.75):\n",
    "                #category for 50%-75%\n",
    "                self.category = 3\n",
    "                \n",
    "            elif(self.premarket_gap<1):\n",
    "                #category for 75%-100%\n",
    "                self.category = 4\n",
    "                \n",
    "            elif(self.premarket_gap<1.50):\n",
    "                #category for 100%-150%\n",
    "                self.category = 5\n",
    "                \n",
    "            elif(self.premarket_gap<2):\n",
    "                #category for 150%-200%\n",
    "                self.category = 6\n",
    "            \n",
    "            else:\n",
    "                #category for 200%>\n",
    "                self.category = 7\n",
    "                \n",
    "            self.max = max(\n",
    "            parameters = self.red_close(self)\n",
    "        else:\n",
    "            \n",
    "            self.day1MOMO = False\n",
    "            self.category = 0\n",
    "    \n",
    "    "
   ]
  },
  {
   "cell_type": "code",
   "execution_count": 7,
   "id": "1a811300-b1d2-4dd6-b9f8-52ca28ea29a6",
   "metadata": {},
   "outputs": [],
   "source": []
  },
  {
   "cell_type": "code",
   "execution_count": null,
   "id": "c25c708d-33c1-46b5-bffa-4e4c0f937ae9",
   "metadata": {},
   "outputs": [],
   "source": [
    "#"
   ]
  }
 ],
 "metadata": {
  "kernelspec": {
   "display_name": "Python 3 (ipykernel)",
   "language": "python",
   "name": "python3"
  },
  "language_info": {
   "codemirror_mode": {
    "name": "ipython",
    "version": 3
   },
   "file_extension": ".py",
   "mimetype": "text/x-python",
   "name": "python",
   "nbconvert_exporter": "python",
   "pygments_lexer": "ipython3",
   "version": "3.10.10"
  }
 },
 "nbformat": 4,
 "nbformat_minor": 5
}
