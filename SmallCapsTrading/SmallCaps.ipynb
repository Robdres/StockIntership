{
 "cells": [
  {
   "cell_type": "markdown",
   "id": "00cf70a5-823f-4468-b64f-ab77026d94aa",
   "metadata": {
    "tags": []
   },
   "source": [
    "# Libraries and helpers"
   ]
  },
  {
   "cell_type": "code",
   "execution_count": 355,
   "id": "963d0aaf-7e8c-44fb-954a-227b3561f457",
   "metadata": {
    "tags": []
   },
   "outputs": [],
   "source": [
    "from polygon import StocksClient\n",
    "import pandas as pd\n",
    "import numpy as np\n",
    "import Tiem\n",
    "#Polygon api\n",
    "api_key = \"d04PM4tdE4SJ6cUpXG7TXv_nNzA1Bdp2\""
   ]
  },
  {
   "cell_type": "markdown",
   "id": "71b2aeb1-fa36-42b1-8d4f-0286575492b9",
   "metadata": {
    "jp-MarkdownHeadingCollapsed": true,
    "tags": []
   },
   "source": [
    "# Testing"
   ]
  },
  {
   "cell_type": "code",
   "execution_count": 7,
   "id": "771445a2-9cec-4b36-800f-c56e850cead3",
   "metadata": {
    "tags": []
   },
   "outputs": [],
   "source": [
    "import datetime\n",
    "#Function to get times\n",
    "def get_unix_timestamps(day):\n",
    "    # Set the time to 4:00AM\n",
    "    time = datetime.time(hour=4)\n",
    "\n",
    "    # Combine the date and time\n",
    "    datetime_obj = datetime.datetime.combine(day, time)\n",
    "\n",
    "    # Convert to a Unix timestamp\n",
    "    unix_timestamp_4 = int(datetime_obj.timestamp())\n",
    "\n",
    "    # Set the time to 9:00AM\n",
    "    time = datetime.time(hour=9)\n",
    "\n",
    "    # Combine the date and time\n",
    "    datetime_obj = datetime.datetime.combine(day, time)\n",
    "\n",
    "    # Convert to a Unix timestamp\n",
    "    unix_timestamp_9 = int(datetime_obj.timestamp())\n",
    "\n",
    "    return (unix_timestamp_4, unix_timestamp_9)"
   ]
  },
  {
   "cell_type": "code",
   "execution_count": 121,
   "id": "f85e381e-68ca-4bc5-836e-2eafbedf7655",
   "metadata": {
    "tags": []
   },
   "outputs": [],
   "source": [
    "day = datetime.date(2023, 4, 17)\n",
    "#start premarket hour\n",
    "hour_4 = datetime.time(hour=4)\n",
    "#start market hour\n",
    "hour_9 = datetime.time(hour=9)\n",
    "#closed time \n",
    "hour_16 = datetime.time(hour=16)\n",
    "\n",
    "day_4 = datetime.datetime.combine(day,hour_4)\n",
    "day_9 = datetime.datetime.combine(day,hour_9)\n",
    "day_16 = datetime.datetime.combine(day,hour_16)\n"
   ]
  },
  {
   "cell_type": "code",
   "execution_count": 122,
   "id": "ba45e7da-bce4-4b60-a1b2-19d96bf746e6",
   "metadata": {
    "tags": []
   },
   "outputs": [],
   "source": [
    "client = StocksClient(api_key, connect_timeout=10)\n",
    "data = client.get_aggregate_bars('tsla',day_4, day_16,timespan='min')"
   ]
  },
  {
   "cell_type": "code",
   "execution_count": 112,
   "id": "c7e0d18d-a446-4e8f-832e-cfc9b63c4872",
   "metadata": {
    "tags": []
   },
   "outputs": [],
   "source": [
    "results = data['results']\n",
    "premarket = pd.DataFrame(results)\n",
    "premarket.t = list(map(datetime.datetime.utcfromtimestamp,premarket.t/1000))"
   ]
  },
  {
   "cell_type": "code",
   "execution_count": 135,
   "id": "f121601a-3658-49cc-af47-ae3067cbd450",
   "metadata": {
    "tags": []
   },
   "outputs": [],
   "source": [
    "premarket.columns = [\"volume\",\"w_volumen\",\"average\",\"open\",\"close\",\"high\",\"low\",\"time\",\"#transactions\",\"otc_ticker\"]"
   ]
  },
  {
   "cell_type": "code",
   "execution_count": 79,
   "id": "7d425dbd-fe41-4b6c-bf5c-60858615fb3c",
   "metadata": {
    "tags": []
   },
   "outputs": [
    {
     "data": {
      "text/plain": [
       "datetime.datetime(2023, 4, 17, 9, 0)"
      ]
     },
     "execution_count": 79,
     "metadata": {},
     "output_type": "execute_result"
    }
   ],
   "source": [
    "datetime.datetime.utcfromtimestamp(int(data['results'][-1]['t']/1000))"
   ]
  },
  {
   "cell_type": "code",
   "execution_count": 131,
   "id": "0e68eac8-d271-46ab-9eca-3d49dc9a1198",
   "metadata": {
    "tags": []
   },
   "outputs": [],
   "source": [
    "client = StocksClient(api_key, connect_timeout=10)\n",
    "data = client.get_aggregate_bars('aapl',day_4, day_16,timespan='min')"
   ]
  },
  {
   "cell_type": "code",
   "execution_count": 133,
   "id": "e827af1e-147e-4a42-8a1e-909b3b2320aa",
   "metadata": {
    "tags": []
   },
   "outputs": [],
   "source": [
    "results = data['results']\n",
    "premarket1 = pd.DataFrame(results)\n",
    "premarket1.t = list(map(datetime.datetime.utcfromtimestamp,premarket1.t/1000))\n",
    "premarket1.columns = [\"volume\",\"w_volumen\",\"average\",\"open\",\"close\",\"high\",\"low\",\"time\",\"#transactions\",\"otc_ticker\"]"
   ]
  },
  {
   "cell_type": "code",
   "execution_count": 146,
   "id": "f42cec5f-5314-4baa-a169-73e9c4bb6e77",
   "metadata": {
    "tags": []
   },
   "outputs": [],
   "source": [
    "day = datetime.date(2023, 4, 13)\n",
    "data_day = client.get_daily_open_close('aapl',day)"
   ]
  },
  {
   "cell_type": "code",
   "execution_count": null,
   "id": "a798b68f-af6e-4d83-b372-5dccfdc2b069",
   "metadata": {
    "tags": []
   },
   "outputs": [],
   "source": [
    "for i in data:\n",
    "    if(i['status']=='OK'):\n",
    "        print(i['symbol'],i['open'],i['close'],i['high'],i['low'],i['volume']))"
   ]
  },
  {
   "cell_type": "markdown",
   "id": "927373f8-dcbb-4830-986c-71cc3ef086d4",
   "metadata": {
    "jp-MarkdownHeadingCollapsed": true,
    "tags": []
   },
   "source": [
    "# Getting all small caps companies symbols"
   ]
  },
  {
   "cell_type": "code",
   "execution_count": 381,
   "id": "835aaf46-add4-4110-bb97-77d64a8f8295",
   "metadata": {
    "tags": []
   },
   "outputs": [],
   "source": [
    "import requests\n",
    "from bs4 import BeautifulSoup\n",
    "\n",
    "url = 'https://stockanalysis.com/list/small-cap-stocks/'\n",
    "response = requests.get(url)\n",
    "\n",
    "soup = BeautifulSoup(response.content, 'html.parser')\n",
    "\n",
    "table = soup.find_all('td')\n",
    "#array of all symbols to be analysed\n",
    "stocks = []\n",
    "for i in range(len(table)):\n",
    "    if (i-1)%7==0:\n",
    "        stocks.append(table[i].text)\n",
    "        \n",
    "#number of companies to be analyzed\n",
    "print(len(stocks))"
   ]
  },
  {
   "cell_type": "markdown",
   "id": "d1eac1ec-db7c-4a0c-8968-4144a737a2cf",
   "metadata": {
    "jp-MarkdownHeadingCollapsed": true,
    "tags": []
   },
   "source": [
    "# Downloading stock data (period = 1day) from 2021 to 2023"
   ]
  },
  {
   "cell_type": "code",
   "execution_count": 436,
   "id": "e053f7d5-f19a-4477-8a1c-1491924a14d7",
   "metadata": {
    "tags": []
   },
   "outputs": [
    {
     "name": "stdout",
     "output_type": "stream",
     "text": [
      "[*********************100%***********************]  500 of 500 completed\n",
      "\n",
      "4 Failed downloads:\n",
      "- AGM.A: No timezone found, symbol may be delisted\n",
      "- AESI: Data doesn't exist for startDate = 1609477200, endDate = 1675227600\n",
      "- HSAI: Data doesn't exist for startDate = 1609477200, endDate = 1675227600\n",
      "- SYT: Data doesn't exist for startDate = 1609477200, endDate = 1675227600\n"
     ]
    }
   ],
   "source": [
    "import yfinance as yf\n",
    "\n",
    "data = yf.download(stocks,start=datetime.date(2021,1,1),end=datetime.date(2023,2,1),period=\"11\",group_by=\"stock\")"
   ]
  },
  {
   "cell_type": "code",
   "execution_count": 443,
   "id": "56e7e596-ab5f-41eb-a864-4796585a660c",
   "metadata": {
    "tags": []
   },
   "outputs": [
    {
     "name": "stdout",
     "output_type": "stream",
     "text": [
      "500\n"
     ]
    }
   ],
   "source": [
    "a = set()\n",
    "for i in list(data.columns):\n",
    "    a.add(i[0])\n",
    "    \n",
    "#number of companies with data\n",
    "print(len(a))"
   ]
  },
  {
   "cell_type": "markdown",
   "id": "bda42dd8-827a-4a91-a73f-5281e6d46873",
   "metadata": {
    "jp-MarkdownHeadingCollapsed": true,
    "tags": []
   },
   "source": [
    "# Finding the Day1MOMO's stocks for each instance"
   ]
  },
  {
   "cell_type": "code",
   "execution_count": 868,
   "id": "1c763cc8-ff20-48e9-9d9c-8f4a8adce435",
   "metadata": {
    "tags": []
   },
   "outputs": [],
   "source": [
    "#function to check premarket gaps bigger than 0.2\n",
    "def day1MOMOs(data,stocks):\n",
    "    aux = []\n",
    "    #For all of our stocks\n",
    "    for i in stocks:\n",
    "        stock = data[i]\n",
    "        for j in range(len(stock)-1):\n",
    "            #Check the \n",
    "            premarket_gap= (stock.iloc[j+1].Open-stock.iloc[j].Close)/stock.iloc[j].Close\n",
    "            if(premarket_gap>0.2 and datetime.datetime.date(stock.iloc[j+1].name) - datetime.datetime.date(stock.iloc[j].name)== datetime.timedelta(1)):\n",
    "                aux.append([i,stock.iloc[j+1].name])\n",
    "    return aux \n",
    "day1MOMOs = np.array(day1MOMOs(data,a))"
   ]
  },
  {
   "cell_type": "markdown",
   "id": "696ba3ef-da34-49ad-ba34-51ce2d7295e7",
   "metadata": {
    "jp-MarkdownHeadingCollapsed": true,
    "tags": []
   },
   "source": [
    "# Downloading stock data (period = 1m) for each Day1MOMO where there was a gap in premarket "
   ]
  },
  {
   "cell_type": "code",
   "execution_count": 507,
   "id": "a59b8260-cb36-4602-84d1-01b72e8e9e66",
   "metadata": {
    "tags": []
   },
   "outputs": [],
   "source": [
    "#start premarket hour\n",
    "hour_4 = datetime.time(hour=4)\n",
    "#start market hour\n",
    "hour_9 = datetime.time(hour=9)\n",
    "#closed time \n",
    "hour_16 = datetime.time(hour=16)\n",
    "data_market = []\n",
    "for i in day1MOMOs[:2]:\n",
    "    day = datetime.datetime.date(i[1])\n",
    "    day_4 = datetime.datetime.combine(day,hour_4)\n",
    "    day_9 = datetime.datetime.combine(day,hour_9)\n",
    "    day_16 = datetime.datetime.combine(day,hour_16)\n",
    "    aux = client.get_aggregate_bars(i[0],day_4,day_16,timespan='min')\n",
    "    if aux['status']=='OK':\n",
    "        results = aux['results']\n",
    "        premarket = pd.DataFrame(results)\n",
    "        premarket.t = list(map(datetime.datetime.utcfromtimestamp,premarket.t/1000))\n",
    "        premarket.columns = [\"volume\",\"w_volumen\",\"open\",\"close\",\"high\",\"low\",\"time\",\"#transactions\"]\n",
    "        data_market.append([i[0],premarket])"
   ]
  },
  {
   "cell_type": "markdown",
   "id": "40a7bffd-052f-47f9-a06a-51db8387e2b9",
   "metadata": {
    "jp-MarkdownHeadingCollapsed": true,
    "tags": []
   },
   "source": [
    "# Divided the data in pre_market and market "
   ]
  },
  {
   "cell_type": "code",
   "execution_count": 554,
   "id": "845b0929-e81e-4049-beb0-1d120a4be3b5",
   "metadata": {
    "tags": []
   },
   "outputs": [],
   "source": [
    "pre_markets = []\n",
    "markets = []\n",
    "d1 = data_market[1][1]\n",
    "d1['time'] = pd.to_datetime(d1['time'])\n",
    "d1[d1['time'].dt.hour<9]\n",
    "\n",
    "for i in data_market:\n",
    "    aux = i[1][pd.to_datetime(i[1]['time']).dt.hour<9]\n",
    "    pre_markets.append((i[0],aux))\n",
    "    aux = i[1][pd.to_datetime(i[1]['time']).dt.hour>=9]\n",
    "    markets.append((i[0],aux))"
   ]
  },
  {
   "cell_type": "markdown",
   "id": "2fcd128b-4412-4128-8b33-ace220a99382",
   "metadata": {
    "jp-MarkdownHeadingCollapsed": true,
    "tags": []
   },
   "source": [
    "# Getting red closes for Day1MOMOs"
   ]
  },
  {
   "cell_type": "code",
   "execution_count": 563,
   "id": "47985f21-8993-451a-bbff-0468520cf247",
   "metadata": {
    "tags": []
   },
   "outputs": [],
   "source": [
    "#get red closes\n",
    "red_closes = []\n",
    "\n",
    "for i in markets:\n",
    "    red_closes.append((i[1].iloc[1,].open-i[1].iloc[-2,].close)/i[1].iloc[1,].open)\n",
    "red_closes = np.array(red_closes)"
   ]
  },
  {
   "cell_type": "code",
   "execution_count": 569,
   "id": "912a211b-0cdc-46ed-9727-fc34be7355f1",
   "metadata": {
    "tags": []
   },
   "outputs": [
    {
     "data": {
      "text/plain": [
       "1"
      ]
     },
     "execution_count": 569,
     "metadata": {},
     "output_type": "execute_result"
    }
   ],
   "source": [
    "#Get number of red closes\n",
    "number_red_closes = len(red_closes[red_closes < 0])"
   ]
  },
  {
   "cell_type": "markdown",
   "id": "ee22f895-7373-4800-948d-2370c175811c",
   "metadata": {
    "jp-MarkdownHeadingCollapsed": true,
    "tags": []
   },
   "source": [
    "# Fade and hour of premarket high"
   ]
  },
  {
   "cell_type": "code",
   "execution_count": 881,
   "id": "58c84c35-6d37-434b-b23d-e5a8546982ea",
   "metadata": {
    "tags": []
   },
   "outputs": [],
   "source": [
    "#% fade\n",
    "premarket_fades = np.zeros([40])\n",
    "premarket_high_hours = np.zeros([24])\n",
    "for symbol,pre_market in markets:\n",
    "    aux = pre_market[pre_market.high==max(pre_market.high)]\n",
    "    time = aux.time\n",
    "    high = aux.high\n",
    "    close = aux.close\n",
    "    premarket_fades[int(((high-close)/high).iloc[0] *10)]+=1\n",
    "    premarket_high_hours[time.iloc[0].hour] +=1\n",
    "    "
   ]
  },
  {
   "cell_type": "markdown",
   "id": "78e6a21a-333d-49c9-8d8f-aa6d44efbf4a",
   "metadata": {
    "jp-MarkdownHeadingCollapsed": true,
    "tags": []
   },
   "source": [
    "# Candles 5,10,15"
   ]
  },
  {
   "cell_type": "code",
   "execution_count": 768,
   "id": "4ba36c2a-e9cc-4491-940f-e955f38dec97",
   "metadata": {
    "tags": []
   },
   "outputs": [],
   "source": [
    "#Find candle types \n",
    "\n",
    "candles1  = {'red':0,'green':0}\n",
    "candles5  = {'red':0,'green':0}\n",
    "candles15  = {'red':0,'green':0}\n",
    "\n",
    "for symbol,market in markets: \n",
    "    hour_candle_1 =   market.iloc[0].time+datetime.timedelta(minutes=1)\n",
    "    hour_candle_5 =   market.iloc[0].time+datetime.timedelta(minutes=5)\n",
    "    hour_candle_15 =   market.iloc[0].time+datetime.timedelta(minutes=15)\n",
    "    \n",
    "    candle_1 = market[market.time == hour_candle_1]\n",
    "    candle_5 = market[market.time == hour_candle_5]\n",
    "    candle_15 = market[market.time == hour_candle_15]\n",
    "    \n",
    "    if(len(candle_1)!=0 and candle_1.open.iloc[0]>candle_1.close.iloc[0]):\n",
    "        candles1['red'] +=1 \n",
    "    else: \n",
    "        candles1['green'] +=1 \n",
    "        \n",
    "    if(len(candle_5)!=0 and candle_5.open.iloc[0]>candle_5.close.iloc[0]):\n",
    "        candles5['red'] +=1 \n",
    "    else: \n",
    "        candles5['green'] +=1 \n",
    "        \n",
    "    if(len(candle_15)!=0 and candle_15.open.iloc[0]>candle_15.close.iloc[0]):\n",
    "        candles15['red'] +=1 \n",
    "    else: \n",
    "        candles15['green'] +=1 "
   ]
  },
  {
   "cell_type": "markdown",
   "id": "96bbf9fb-72b2-45ce-9f5d-9a831855147a",
   "metadata": {
    "jp-MarkdownHeadingCollapsed": true,
    "tags": []
   },
   "source": [
    "# Fade percent 9:30 to 11:00"
   ]
  },
  {
   "cell_type": "code",
   "execution_count": 791,
   "id": "963bd680-8f3b-4242-b024-a998aa8beac5",
   "metadata": {
    "tags": []
   },
   "outputs": [],
   "source": [
    "start_markets_fades = []\n",
    "\n",
    "for symbol,market in markets:\n",
    "    \n",
    "    h_9 = pd.Timestamp.combine(market.iloc[0].time.date(),datetime.time(hour=9,minute=30))\n",
    "    h_11 = pd.Timestamp.combine(market.iloc[0].time.date(),datetime.time(hour=11))\n",
    "    \n",
    "    aux = (market[market.time == h_9].open - market[market.time==h_11].open)/(market[market.time == h_9].open)"
   ]
  },
  {
   "cell_type": "markdown",
   "id": "cf2b659b-d9d2-4f7b-8c50-cd08659b851a",
   "metadata": {
    "jp-MarkdownHeadingCollapsed": true,
    "tags": []
   },
   "source": [
    "# Check if market exceed or touched high (High-Clearout)"
   ]
  },
  {
   "cell_type": "code",
   "execution_count": 951,
   "id": "5db2e59a-3ef9-41bf-811c-0f22c6b98ec8",
   "metadata": {
    "tags": []
   },
   "outputs": [
    {
     "name": "stdout",
     "output_type": "stream",
     "text": [
      "   volume  w_volumen   open  close   high    low                time  \\\n",
      "0   17280    24.0318  15.33  23.11  44.29  15.33 2022-10-11 12:30:00   \n",
      "\n",
      "   #transactions  \n",
      "0            129  \n",
      "     volume  w_volumen    open  close    high   low                time  \\\n",
      "173  480939    20.2618  20.065  20.44  20.625  20.0 2022-02-25 14:38:00   \n",
      "\n",
      "     #transactions  \n",
      "173           2219  \n"
     ]
    }
   ],
   "source": [
    "highs = {}\n",
    "for symbol,pre_market in markets:\n",
    "    aux = pre_market[pre_market.high==max(pre_market.high)]\n",
    "    print(aux)\n",
    "    highs[symbol] = {'date':pre_market.iloc[0].time.date(),'high' : aux.high.iloc[0]}"
   ]
  },
  {
   "cell_type": "code",
   "execution_count": 915,
   "id": "ddb71151-ae59-4ff8-b8ac-fe760a2dd409",
   "metadata": {
    "tags": []
   },
   "outputs": [
    {
     "data": {
      "text/plain": [
       "{'FORG': {'date': datetime.date(2022, 10, 11), 'high': 44.29},\n",
       " 'FTCH': {'date': datetime.date(2022, 2, 25), 'high': 20.625}}"
      ]
     },
     "execution_count": 915,
     "metadata": {},
     "output_type": "execute_result"
    }
   ],
   "source": [
    "highs"
   ]
  },
  {
   "cell_type": "code",
   "execution_count": 837,
   "id": "e7b711f7-55e7-4d0c-8567-f8fd24138128",
   "metadata": {
    "tags": []
   },
   "outputs": [],
   "source": [
    "high_clearout = {}\n",
    "for symbol,market in markets:\n",
    "    if(np.count_nonzero(market[['open','close','high']].min(axis='columns')>highs[symbol]['high'])==0):\n",
    "        high_clearout[symbol] = {'market' : market} "
   ]
  },
  {
   "cell_type": "markdown",
   "id": "e376f7d7-efd2-4d6b-8fea-9bb032467213",
   "metadata": {
    "jp-MarkdownHeadingCollapsed": true,
    "tags": []
   },
   "source": [
    "# Second Day Play - 2DayPlay"
   ]
  },
  {
   "cell_type": "code",
   "execution_count": 976,
   "id": "8d69aa81-df0f-4b99-bc9a-1230ab5a9d32",
   "metadata": {
    "tags": []
   },
   "outputs": [
    {
     "name": "stderr",
     "output_type": "stream",
     "text": [
      "/home/robdres/.local/lib/python3.10/site-packages/pandas/core/ops/array_ops.py:73: FutureWarning: Comparison of Timestamp with datetime.date is deprecated in order to match the standard library behavior. In a future version these will be considered non-comparable. Use 'ts == pd.Timestamp(date)' or 'ts.date() == date' instead.\n",
      "  result = libops.scalar_compare(x.ravel(), y, op)\n"
     ]
    }
   ],
   "source": [
    "TwoDayPlay = []\n",
    "\n",
    "for i in highs:\n",
    "    aux = data[i][highs[i]['date'] + datetime.timedelta(days=1)== data[i].index].Open\n",
    "    if(len(aux)!=0):\n",
    "        if(abs(aux.iloc[0]-highs[i]['high'])>0.5):\n",
    "            day = highs[i]['date'] + datetime.timedelta(days=1)\n",
    "            day_4 = datetime.datetime.combine(day,hour_4)\n",
    "            day_9 = datetime.datetime.combine(day,hour_9)\n",
    "            day_16 = datetime.datetime.combine(day,hour_16)\n",
    "            aux = client.get_aggregate_bars(i[0],day_4,day_16,timespan='min')\n",
    "            if aux['status']=='OK':\n",
    "                results = aux['results']\n",
    "                premarket = pd.DataFrame(results)\n",
    "                premarket.t = list(map(datetime.datetime.utcfromtimestamp,premarket.t/1000))\n",
    "                premarket.columns = [\"volume\",\"w_volumen\",\"open\",\"close\",\"high\",\"low\",\"time\",\"#transactions\"]\n",
    "                TwoDayPlay.append([i,premarket])"
   ]
  },
  {
   "cell_type": "code",
   "execution_count": 977,
   "id": "f19e997f-5b36-4269-84ac-645ee33b3629",
   "metadata": {
    "tags": []
   },
   "outputs": [
    {
     "data": {
      "text/plain": [
       "[['FORG',\n",
       "         volume  w_volumen     open   close     high     low  \\\n",
       "  0       747.0    11.5700  11.5700  11.570  11.5700  11.570   \n",
       "  1      2428.0    11.5700  11.5700  11.570  11.5700  11.570   \n",
       "  2       580.0    11.6431  11.6400  11.640  11.6500  11.640   \n",
       "  3       200.0    11.6315  11.6300  11.630  11.6300  11.630   \n",
       "  4       289.0    11.6800  11.6800  11.680  11.6800  11.680   \n",
       "  ..        ...        ...      ...     ...      ...     ...   \n",
       "  270  302101.0    11.6212  11.6300  11.595  11.6400  11.595   \n",
       "  271  209991.0    11.5984  11.6000  11.600  11.6100  11.590   \n",
       "  272  242188.0    11.6036  11.5935  11.615  11.6150  11.590   \n",
       "  273  137512.0    11.6118  11.6150  11.610  11.6200  11.600   \n",
       "  274  240303.0    11.6159  11.6138  11.605  11.6276  11.600   \n",
       "  \n",
       "                     time  #transactions  \n",
       "  0   2022-10-12 08:00:00              9  \n",
       "  1   2022-10-12 08:04:00              5  \n",
       "  2   2022-10-12 08:13:00              3  \n",
       "  3   2022-10-12 08:26:00              2  \n",
       "  4   2022-10-12 08:33:00              1  \n",
       "  ..                  ...            ...  \n",
       "  270 2022-10-12 15:56:00            539  \n",
       "  271 2022-10-12 15:57:00            329  \n",
       "  272 2022-10-12 15:58:00            291  \n",
       "  273 2022-10-12 15:59:00            222  \n",
       "  274 2022-10-12 16:00:00            451  \n",
       "  \n",
       "  [275 rows x 8 columns]]]"
      ]
     },
     "execution_count": 977,
     "metadata": {},
     "output_type": "execute_result"
    }
   ],
   "source": [
    "TwoDayPlay"
   ]
  },
  {
   "cell_type": "code",
   "execution_count": null,
   "id": "127c3841-2ecc-46c8-b4cd-2d0513eba6c6",
   "metadata": {},
   "outputs": [],
   "source": []
  }
 ],
 "metadata": {
  "kernelspec": {
   "display_name": "Python 3 (ipykernel)",
   "language": "python",
   "name": "python3"
  },
  "language_info": {
   "codemirror_mode": {
    "name": "ipython",
    "version": 3
   },
   "file_extension": ".py",
   "mimetype": "text/x-python",
   "name": "python",
   "nbconvert_exporter": "python",
   "pygments_lexer": "ipython3",
   "version": "3.10.10"
  }
 },
 "nbformat": 4,
 "nbformat_minor": 5
}
