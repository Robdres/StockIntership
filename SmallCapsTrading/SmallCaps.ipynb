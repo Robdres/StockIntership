{
 "cells": [
  {
   "cell_type": "markdown",
   "id": "00cf70a5-823f-4468-b64f-ab77026d94aa",
   "metadata": {
    "tags": []
   },
   "source": [
    "# Libraries and helpers"
   ]
  },
  {
   "cell_type": "code",
   "execution_count": 27,
   "id": "963d0aaf-7e8c-44fb-954a-227b3561f457",
   "metadata": {
    "tags": []
   },
   "outputs": [],
   "source": [
    "from polygon import StocksClient\n",
    "import pandas as pd\n",
    "import numpy as np\n",
    "import datetime\n",
    "from env import POLYGON_API_KEY as api_key\n",
    "#Polygon api\n",
    "client = StocksClient(api_key, connect_timeout=10)"
   ]
  },
  {
   "cell_type": "markdown",
   "id": "71b2aeb1-fa36-42b1-8d4f-0286575492b9",
   "metadata": {
    "jp-MarkdownHeadingCollapsed": true,
    "tags": []
   },
   "source": [
    "# Testing"
   ]
  },
  {
   "cell_type": "code",
   "execution_count": 7,
   "id": "771445a2-9cec-4b36-800f-c56e850cead3",
   "metadata": {
    "tags": []
   },
   "outputs": [],
   "source": [
    "import datetime\n",
    "#Function to get times\n",
    "def get_unix_timestamps(day):\n",
    "    # Set the time to 4:00AM\n",
    "    time = datetime.time(hour=4)\n",
    "\n",
    "    # Combine the date and time\n",
    "    datetime_obj = datetime.datetime.combine(day, time)\n",
    "\n",
    "    # Convert to a Unix timestamp\n",
    "    unix_timestamp_4 = int(datetime_obj.timestamp())\n",
    "\n",
    "    # Set the time to 9:00AM\n",
    "    time = datetime.time(hour=9)\n",
    "\n",
    "    # Combine the date and time\n",
    "    datetime_obj = datetime.datetime.combine(day, time)\n",
    "\n",
    "    # Convert to a Unix timestamp\n",
    "    unix_timestamp_9 = int(datetime_obj.timestamp())\n",
    "\n",
    "    return (unix_timestamp_4, unix_timestamp_9)"
   ]
  },
  {
   "cell_type": "code",
   "execution_count": 121,
   "id": "f85e381e-68ca-4bc5-836e-2eafbedf7655",
   "metadata": {
    "tags": []
   },
   "outputs": [],
   "source": [
    "day = datetime.date(2023, 4, 17)\n",
    "#start premarket hour\n",
    "hour_4 = datetime.time(hour=4)\n",
    "#start market hour\n",
    "hour_9 = datetime.time(hour=9)\n",
    "#closed time \n",
    "hour_16 = datetime.time(hour=16)\n",
    "\n",
    "day_4 = datetime.datetime.combine(day,hour_4)\n",
    "day_9 = datetime.datetime.combine(day,hour_9)\n",
    "day_16 = datetime.datetime.combine(day,hour_16)\n"
   ]
  },
  {
   "cell_type": "code",
   "execution_count": 122,
   "id": "ba45e7da-bce4-4b60-a1b2-19d96bf746e6",
   "metadata": {
    "tags": []
   },
   "outputs": [],
   "source": [
    "client = StocksClient(api_key, connect_timeout=10)\n",
    "data = client.get_aggregate_bars('tsla',day_4, day_16,timespan='min')"
   ]
  },
  {
   "cell_type": "code",
   "execution_count": 112,
   "id": "c7e0d18d-a446-4e8f-832e-cfc9b63c4872",
   "metadata": {
    "tags": []
   },
   "outputs": [],
   "source": [
    "results = data['results']\n",
    "premarket = pd.DataFrame(results)\n",
    "premarket.t = list(map(datetime.datetime.utcfromtimestamp,premarket.t/1000))"
   ]
  },
  {
   "cell_type": "code",
   "execution_count": 135,
   "id": "f121601a-3658-49cc-af47-ae3067cbd450",
   "metadata": {
    "tags": []
   },
   "outputs": [],
   "source": [
    "premarket.columns = [\"volume\",\"w_volumen\",\"average\",\"open\",\"close\",\"high\",\"low\",\"time\",\"#transactions\",\"otc_ticker\"]"
   ]
  },
  {
   "cell_type": "code",
   "execution_count": 79,
   "id": "7d425dbd-fe41-4b6c-bf5c-60858615fb3c",
   "metadata": {
    "tags": []
   },
   "outputs": [
    {
     "data": {
      "text/plain": [
       "datetime.datetime(2023, 4, 17, 9, 0)"
      ]
     },
     "execution_count": 79,
     "metadata": {},
     "output_type": "execute_result"
    }
   ],
   "source": [
    "datetime.datetime.utcfromtimestamp(int(data['results'][-1]['t']/1000))"
   ]
  },
  {
   "cell_type": "code",
   "execution_count": 131,
   "id": "0e68eac8-d271-46ab-9eca-3d49dc9a1198",
   "metadata": {
    "tags": []
   },
   "outputs": [],
   "source": [
    "client = StocksClient(api_key, connect_timeout=10)\n",
    "data = client.get_aggregate_bars('aapl',day_4, day_16,timespan='min')"
   ]
  },
  {
   "cell_type": "code",
   "execution_count": 133,
   "id": "e827af1e-147e-4a42-8a1e-909b3b2320aa",
   "metadata": {
    "tags": []
   },
   "outputs": [],
   "source": [
    "results = data['results']\n",
    "premarket1 = pd.DataFrame(results)\n",
    "premarket1.t = list(map(datetime.datetime.utcfromtimestamp,premarket1.t/1000))\n",
    "premarket1.columns = [\"volume\",\"w_volumen\",\"average\",\"open\",\"close\",\"high\",\"low\",\"time\",\"#transactions\",\"otc_ticker\"]"
   ]
  },
  {
   "cell_type": "code",
   "execution_count": 146,
   "id": "f42cec5f-5314-4baa-a169-73e9c4bb6e77",
   "metadata": {
    "tags": []
   },
   "outputs": [],
   "source": [
    "day = datetime.date(2023, 4, 13)\n",
    "data_day = client.get_daily_open_close('aapl',day)"
   ]
  },
  {
   "cell_type": "code",
   "execution_count": null,
   "id": "a798b68f-af6e-4d83-b372-5dccfdc2b069",
   "metadata": {
    "tags": []
   },
   "outputs": [],
   "source": [
    "for i in data:\n",
    "    if(i['status']=='OK'):\n",
    "        print(i['symbol'],i['open'],i['close'],i['high'],i['low'],i['volume']))"
   ]
  },
  {
   "cell_type": "markdown",
   "id": "927373f8-dcbb-4830-986c-71cc3ef086d4",
   "metadata": {
    "tags": []
   },
   "source": [
    "# Getting all small caps companies symbols"
   ]
  },
  {
   "cell_type": "code",
   "execution_count": 28,
   "id": "835aaf46-add4-4110-bb97-77d64a8f8295",
   "metadata": {
    "tags": []
   },
   "outputs": [
    {
     "name": "stdout",
     "output_type": "stream",
     "text": [
      "500\n"
     ]
    }
   ],
   "source": [
    "import requests\n",
    "from bs4 import BeautifulSoup\n",
    "\n",
    "url = 'https://stockanalysis.com/list/small-cap-stocks/'\n",
    "response = requests.get(url)\n",
    "\n",
    "soup = BeautifulSoup(response.content, 'html.parser')\n",
    "\n",
    "table = soup.find_all('td')\n",
    "#array of all symbols to be analysed\n",
    "stocks = []\n",
    "for i in range(len(table)):\n",
    "    if (i-1)%7==0:\n",
    "        stocks.append(table[i].text)\n",
    "        \n",
    "#number of companies to be analyzed\n",
    "print(len(stocks))"
   ]
  },
  {
   "cell_type": "markdown",
   "id": "d1eac1ec-db7c-4a0c-8968-4144a737a2cf",
   "metadata": {
    "tags": []
   },
   "source": [
    "# Downloading stock data (period = 1day) from 2021 to 2023"
   ]
  },
  {
   "cell_type": "code",
   "execution_count": 29,
   "id": "e053f7d5-f19a-4477-8a1c-1491924a14d7",
   "metadata": {
    "tags": []
   },
   "outputs": [],
   "source": [
    "import yfinance as yf\n",
    "from tqdm import tqdm\n",
    "from alive_progress import alive_bar\n",
    "c=460\n",
    "#data = yf.download(stocks,start=datetime.date(2021,1,1),end=datetime.date(2023,2,1),period=\"11\",group_by=\"stock\")"
   ]
  },
  {
   "cell_type": "code",
   "execution_count": 30,
   "id": "4e5218a1-8b02-448c-96ed-ca795015998b",
   "metadata": {
    "tags": []
   },
   "outputs": [
    {
     "name": "stdout",
     "output_type": "stream",
     "text": [
      "460.Getting data NRDS\n",
      "|████████████████████████████████████████| 762/762 [100%] in 2:11.2 (5.81/s)    \n",
      "461.Getting data ZUO\n",
      "|████████████████████████████████████████| 762/762 [100%] in 2:39.8 (4.77/s)    \n",
      "462.Getting data MOD\n",
      "|████████████████████████████████████████| 762/762 [100%] in 2:28.2 (5.14/s)    \n",
      "463.Getting data TRS\n",
      "|████████████████████████████████████████| 762/762 [100%] in 2:36.1 (4.88/s)    \n",
      "464.Getting data ANGI\n",
      "|████████████████████████████████████████| 762/762 [100%] in 2:31.3 (5.04/s)    \n",
      "465.Getting data IBRX\n",
      "|████████████████████████████████████████| 762/762 [100%] in 2:25.2 (5.24/s)    \n",
      "466.Getting data PTLO\n",
      "|████████████████████████████████████████| 762/762 [100%] in 2:11.5 (5.79/s)    \n",
      "467.Getting data NTST\n",
      "|████████████████████████████████████████| 762/762 [100%] in 2:42.4 (4.69/s)    \n",
      "468.Getting data GRND\n",
      "|████████████████████████████████████████| 762/762 [100%] in 2:16.9 (5.57/s)    \n",
      "469.Getting data MATV\n",
      "|████████████████████████████████████████| 762/762 [100%] in 2:10.4 (5.84/s)    \n",
      "470.Getting data WDH\n",
      "|████████████████████████████████████████| 762/762 [100%] in 2:20.1 (5.44/s)    \n",
      "471.Getting data ARHS\n",
      "|████████████████████████████████████████| 762/762 [100%] in 2:35.2 (4.91/s)    \n",
      "472.Getting data NXRT\n",
      "|████████████████████████████████████████| 762/762 [100%] in 2:25.3 (5.24/s)    \n",
      "473.Getting data IMAX\n",
      "|████████████████████████████████████████| 762/762 [100%] in 2:36.5 (4.86/s)    \n",
      "474.Getting data STER\n",
      "|████████████████████████████████████████| 762/762 [100%] in 2:22.9 (5.33/s)    \n",
      "475.Getting data WABC\n",
      "|████████████████████████████████████████| 762/762 [100%] in 2:33.5 (4.96/s)    \n",
      "476.Getting data HLX\n",
      "|████████████████████████████████████████| 762/762 [100%] in 2:35.6 (4.90/s)    \n",
      "477.Getting data OSW\n",
      "|████████████████████████████████████████| 762/762 [100%] in 2:36.8 (4.86/s)    \n",
      "478.Getting data OPK\n",
      "|████████████████████████████████████████| 762/762 [100%] in 2:27.0 (5.18/s)    \n",
      "479.Getting data HNI\n",
      "|████████████████████████████████████████| 762/762 [100%] in 2:37.0 (4.85/s)    \n",
      "480.Getting data DCPH\n",
      "|████████████████████████████████████████| 762/762 [100%] in 2:28.6 (5.13/s)    \n",
      "481.Getting data AFYA\n",
      "|████████████████████████████████████████| 762/762 [100%] in 2:30.1 (5.07/s)    \n",
      "482.Getting data GES\n",
      "|████████████████████████████████████████| 762/762 [100%] in 2:25.5 (5.24/s)    \n",
      "483.Getting data GLP\n",
      "|████████████████████████████████████████| 762/762 [100%] in 2:26.4 (5.20/s)    \n",
      "484.Getting data SPHR\n",
      "|████████████████████████████████████████| 762/762 [100%] in 2:06.5 (6.02/s)    \n",
      "485.Getting data SRCE\n",
      "|████████████████████████████████████████| 762/762 [100%] in 2:22.1 (5.36/s)    \n",
      "486.Getting data ATEN\n",
      "|████████████████████████████████████████| 762/762 [100%] in 2:29.5 (5.10/s)    \n",
      "487.Getting data CNXN\n",
      "|████████████████████████████████████████| 762/762 [100%] in 2:25.9 (5.22/s)    \n",
      "488.Getting data STBA\n",
      "|████████████████████████████████████████| 762/762 [100%] in 2:34.3 (4.94/s)    \n",
      "489.Getting data SNCY\n",
      "|████████████████████████████████████████| 762/762 [100%] in 2:26.4 (5.20/s)    \n",
      "490.Getting data UFPT\n",
      "|████████████████████████████████████████| 762/762 [100%] in 2:13.8 (5.69/s)    \n",
      "491.Getting data PLL\n",
      "|████████████████████████████████████████| 762/762 [100%] in 2:31.2 (5.04/s)    \n",
      "492.Getting data YEXT\n",
      "|████████████████████████████████████████| 762/762 [100%] in 2:48.6 (4.52/s)    \n",
      "493.Getting data FSM\n",
      "|████████████████████████████████████████| 762/762 [100%] in 2:38.1 (4.82/s)    \n",
      "494.Getting data PMT\n",
      "|████████████████████████████████████████| 762/762 [100%] in 2:39.0 (4.79/s)    \n",
      "495.Getting data BMEA\n",
      "|████████████████████████████████████████| 762/762 [100%] in 2:30.2 (5.07/s)    \n",
      "496.Getting data BRCC\n",
      "|████████████████████████████████████████| 762/762 [100%] in 2:08.3 (5.93/s)    \n",
      "497.Getting data MSGE\n",
      "|████████████████████████████████████████| 762/762 [100%] in 2:16.3 (5.59/s)    \n",
      "498.Getting data JELD\n",
      "|████████████████████████████████████████| 762/762 [100%] in 2:23.2 (5.32/s)    \n",
      "499.Getting data WNC\n",
      "|████████████████████████████████████████| 762/762 [100%] in 2:46.6 (4.57/s)    \n",
      "500.Getting data MBIN\n",
      "|████████████████████████████████████████| 762/762 [100%] in 2:32.5 (4.99/s)    \n"
     ]
    }
   ],
   "source": [
    "results = []\n",
    "for i in stocks[c-1:]:\n",
    "    print(str(c)+\".Getting data \"+ i)\n",
    "    c+=1\n",
    "    with alive_bar(762,force_tty=True) as bar:\n",
    "        start_date = datetime.date(2021,1,1)\n",
    "        end_date=datetime.date(2023,2,1)\n",
    "        delta = datetime.timedelta(days=1)\n",
    "        not_data_weekdays = []\n",
    "        while start_date <= end_date:\n",
    "            day_result = client.get_daily_open_close(i,date=start_date)\n",
    "            if(day_result['status']!='OK' and start_date.day!=6 and start_date.day!=5):\n",
    "                not_data_weekdays.append([i,start_date])\n",
    "            elif(day_result['status']=='OK'):\n",
    "                results.append(day_result)\n",
    "            start_date += delta\n",
    "            bar()\n",
    "        pd.DataFrame(results).to_csv(\"./stocks/\"+i+\"_data_stock.csv\")\n",
    "        pd.DataFrame(not_data_weekdays).to_csv(\"./stocks/\"+i+\"_no_data_days.csv\")\n",
    "        results =[] "
   ]
  },
  {
   "cell_type": "code",
   "execution_count": null,
   "id": "da9fd070-dff3-43b6-83a6-7837c1898be8",
   "metadata": {
    "tags": []
   },
   "outputs": [],
   "source": []
  },
  {
   "cell_type": "code",
   "execution_count": 32,
   "id": "61c26a47-bee2-4e5e-a1bd-bc82289fc4a9",
   "metadata": {
    "tags": []
   },
   "outputs": [],
   "source": [
    "# import necessary libraries\n",
    "import pandas as pd\n",
    "import os\n",
    "import glob\n",
    "  \n",
    "path = os.path.join(os.getcwd(),\"stocks\")\n",
    "csv_files = glob.glob(os.path.join(path, \"*.csv\"))\n",
    "  \n",
    "stocks_data = pd.DataFrame()\n",
    "for f in csv_files:\n",
    "    # read the csv file\n",
    "    if('stock.csv' in f):\n",
    "        df = pd.read_csv(f)\n",
    "        stocks_data = pd.concat([stocks_data,df])\n",
    "    "
   ]
  },
  {
   "cell_type": "code",
   "execution_count": 33,
   "id": "f4d1e641-27f6-4b35-9b69-098c73f4ea66",
   "metadata": {},
   "outputs": [
    {
     "data": {
      "text/html": [
       "<div>\n",
       "<style scoped>\n",
       "    .dataframe tbody tr th:only-of-type {\n",
       "        vertical-align: middle;\n",
       "    }\n",
       "\n",
       "    .dataframe tbody tr th {\n",
       "        vertical-align: top;\n",
       "    }\n",
       "\n",
       "    .dataframe thead th {\n",
       "        text-align: right;\n",
       "    }\n",
       "</style>\n",
       "<table border=\"1\" class=\"dataframe\">\n",
       "  <thead>\n",
       "    <tr style=\"text-align: right;\">\n",
       "      <th></th>\n",
       "      <th>Unnamed: 0</th>\n",
       "      <th>status</th>\n",
       "      <th>from</th>\n",
       "      <th>symbol</th>\n",
       "      <th>open</th>\n",
       "      <th>high</th>\n",
       "      <th>low</th>\n",
       "      <th>close</th>\n",
       "      <th>volume</th>\n",
       "      <th>afterHours</th>\n",
       "      <th>preMarket</th>\n",
       "    </tr>\n",
       "  </thead>\n",
       "  <tbody>\n",
       "    <tr>\n",
       "      <th>0</th>\n",
       "      <td>0</td>\n",
       "      <td>OK</td>\n",
       "      <td>2022-11-18</td>\n",
       "      <td>GRND</td>\n",
       "      <td>16.900</td>\n",
       "      <td>71.5100</td>\n",
       "      <td>16.000</td>\n",
       "      <td>36.50</td>\n",
       "      <td>2716758.0</td>\n",
       "      <td>35.440000</td>\n",
       "      <td>12.96</td>\n",
       "    </tr>\n",
       "    <tr>\n",
       "      <th>1</th>\n",
       "      <td>1</td>\n",
       "      <td>OK</td>\n",
       "      <td>2022-11-21</td>\n",
       "      <td>GRND</td>\n",
       "      <td>38.395</td>\n",
       "      <td>40.0000</td>\n",
       "      <td>19.600</td>\n",
       "      <td>19.71</td>\n",
       "      <td>1868598.0</td>\n",
       "      <td>19.210000</td>\n",
       "      <td>33.00</td>\n",
       "    </tr>\n",
       "    <tr>\n",
       "      <th>2</th>\n",
       "      <td>2</td>\n",
       "      <td>OK</td>\n",
       "      <td>2022-11-22</td>\n",
       "      <td>GRND</td>\n",
       "      <td>20.000</td>\n",
       "      <td>25.8799</td>\n",
       "      <td>11.540</td>\n",
       "      <td>12.25</td>\n",
       "      <td>3326084.0</td>\n",
       "      <td>12.280000</td>\n",
       "      <td>18.51</td>\n",
       "    </tr>\n",
       "    <tr>\n",
       "      <th>3</th>\n",
       "      <td>3</td>\n",
       "      <td>OK</td>\n",
       "      <td>2022-11-23</td>\n",
       "      <td>GRND</td>\n",
       "      <td>13.000</td>\n",
       "      <td>13.4500</td>\n",
       "      <td>9.810</td>\n",
       "      <td>10.00</td>\n",
       "      <td>2231038.0</td>\n",
       "      <td>10.210000</td>\n",
       "      <td>12.24</td>\n",
       "    </tr>\n",
       "    <tr>\n",
       "      <th>4</th>\n",
       "      <td>4</td>\n",
       "      <td>OK</td>\n",
       "      <td>2022-11-25</td>\n",
       "      <td>GRND</td>\n",
       "      <td>10.000</td>\n",
       "      <td>10.0600</td>\n",
       "      <td>9.100</td>\n",
       "      <td>9.55</td>\n",
       "      <td>983817.0</td>\n",
       "      <td>9.550000</td>\n",
       "      <td>10.40</td>\n",
       "    </tr>\n",
       "    <tr>\n",
       "      <th>...</th>\n",
       "      <td>...</td>\n",
       "      <td>...</td>\n",
       "      <td>...</td>\n",
       "      <td>...</td>\n",
       "      <td>...</td>\n",
       "      <td>...</td>\n",
       "      <td>...</td>\n",
       "      <td>...</td>\n",
       "      <td>...</td>\n",
       "      <td>...</td>\n",
       "      <td>...</td>\n",
       "    </tr>\n",
       "    <tr>\n",
       "      <th>519</th>\n",
       "      <td>519</td>\n",
       "      <td>OK</td>\n",
       "      <td>2023-01-26</td>\n",
       "      <td>NG</td>\n",
       "      <td>6.980</td>\n",
       "      <td>6.9800</td>\n",
       "      <td>6.430</td>\n",
       "      <td>6.50</td>\n",
       "      <td>1481687.0</td>\n",
       "      <td>6.460000</td>\n",
       "      <td>6.98</td>\n",
       "    </tr>\n",
       "    <tr>\n",
       "      <th>520</th>\n",
       "      <td>520</td>\n",
       "      <td>OK</td>\n",
       "      <td>2023-01-27</td>\n",
       "      <td>NG</td>\n",
       "      <td>6.460</td>\n",
       "      <td>6.4662</td>\n",
       "      <td>6.280</td>\n",
       "      <td>6.32</td>\n",
       "      <td>936238.0</td>\n",
       "      <td>6.320000</td>\n",
       "      <td>6.54</td>\n",
       "    </tr>\n",
       "    <tr>\n",
       "      <th>521</th>\n",
       "      <td>521</td>\n",
       "      <td>OK</td>\n",
       "      <td>2023-01-30</td>\n",
       "      <td>NG</td>\n",
       "      <td>6.330</td>\n",
       "      <td>6.3650</td>\n",
       "      <td>6.230</td>\n",
       "      <td>6.23</td>\n",
       "      <td>868365.0</td>\n",
       "      <td>6.310000</td>\n",
       "      <td>6.32</td>\n",
       "    </tr>\n",
       "    <tr>\n",
       "      <th>522</th>\n",
       "      <td>522</td>\n",
       "      <td>OK</td>\n",
       "      <td>2023-01-31</td>\n",
       "      <td>NG</td>\n",
       "      <td>6.200</td>\n",
       "      <td>6.3550</td>\n",
       "      <td>6.152</td>\n",
       "      <td>6.31</td>\n",
       "      <td>1834245.0</td>\n",
       "      <td>6.312467</td>\n",
       "      <td>6.22</td>\n",
       "    </tr>\n",
       "    <tr>\n",
       "      <th>523</th>\n",
       "      <td>523</td>\n",
       "      <td>OK</td>\n",
       "      <td>2023-02-01</td>\n",
       "      <td>NG</td>\n",
       "      <td>6.270</td>\n",
       "      <td>6.5400</td>\n",
       "      <td>6.230</td>\n",
       "      <td>6.42</td>\n",
       "      <td>1475020.0</td>\n",
       "      <td>6.500000</td>\n",
       "      <td>6.27</td>\n",
       "    </tr>\n",
       "  </tbody>\n",
       "</table>\n",
       "<p>230995 rows × 11 columns</p>\n",
       "</div>"
      ],
      "text/plain": [
       "    Unnamed: 0 status        from symbol    open     high     low  close  \\\n",
       "0            0     OK  2022-11-18   GRND  16.900  71.5100  16.000  36.50   \n",
       "1            1     OK  2022-11-21   GRND  38.395  40.0000  19.600  19.71   \n",
       "2            2     OK  2022-11-22   GRND  20.000  25.8799  11.540  12.25   \n",
       "3            3     OK  2022-11-23   GRND  13.000  13.4500   9.810  10.00   \n",
       "4            4     OK  2022-11-25   GRND  10.000  10.0600   9.100   9.55   \n",
       "..         ...    ...         ...    ...     ...      ...     ...    ...   \n",
       "519        519     OK  2023-01-26     NG   6.980   6.9800   6.430   6.50   \n",
       "520        520     OK  2023-01-27     NG   6.460   6.4662   6.280   6.32   \n",
       "521        521     OK  2023-01-30     NG   6.330   6.3650   6.230   6.23   \n",
       "522        522     OK  2023-01-31     NG   6.200   6.3550   6.152   6.31   \n",
       "523        523     OK  2023-02-01     NG   6.270   6.5400   6.230   6.42   \n",
       "\n",
       "        volume  afterHours  preMarket  \n",
       "0    2716758.0   35.440000      12.96  \n",
       "1    1868598.0   19.210000      33.00  \n",
       "2    3326084.0   12.280000      18.51  \n",
       "3    2231038.0   10.210000      12.24  \n",
       "4     983817.0    9.550000      10.40  \n",
       "..         ...         ...        ...  \n",
       "519  1481687.0    6.460000       6.98  \n",
       "520   936238.0    6.320000       6.54  \n",
       "521   868365.0    6.310000       6.32  \n",
       "522  1834245.0    6.312467       6.22  \n",
       "523  1475020.0    6.500000       6.27  \n",
       "\n",
       "[230995 rows x 11 columns]"
      ]
     },
     "execution_count": 33,
     "metadata": {},
     "output_type": "execute_result"
    }
   ],
   "source": [
    "stocks_data"
   ]
  },
  {
   "cell_type": "code",
   "execution_count": 34,
   "id": "56e7e596-ab5f-41eb-a864-4796585a660c",
   "metadata": {
    "tags": []
   },
   "outputs": [
    {
     "name": "stdout",
     "output_type": "stream",
     "text": [
      "{'a', 'p', 'c', 'f', 'v', 's', 'h', 'o', 'l', 'U'}\n"
     ]
    }
   ],
   "source": [
    "a = set()\n",
    "for i in list(stocks_data):\n",
    "    a.add(i[0])\n",
    "#number of companies with data\n",
    "print(a)"
   ]
  },
  {
   "cell_type": "markdown",
   "id": "bda42dd8-827a-4a91-a73f-5281e6d46873",
   "metadata": {
    "tags": []
   },
   "source": [
    "# Finding the Day1MOMO's stocks for each instance"
   ]
  },
  {
   "cell_type": "code",
   "execution_count": 35,
   "id": "aca17626-047a-4fa4-aaaf-c0bbd2edc9ad",
   "metadata": {
    "tags": []
   },
   "outputs": [
    {
     "name": "stdout",
     "output_type": "stream",
     "text": [
      "|████████████████████████████████████████| 230995/230995 [100%] in 1:00.0 (3849.\n"
     ]
    }
   ],
   "source": [
    "#function to check premarket gaps bigger than 0.2\n",
    "def day1MOMOs(data):\n",
    "    aux = []\n",
    "    #For all of our stocks\n",
    "    with alive_bar(len(data),force_tty=True) as bar:\n",
    "        for i in range(len(data)):\n",
    "            #print(data.iloc[i])\n",
    "            premarket_gap= (data.iloc[i].open-data.iloc[i].close)/data.iloc[i].close\n",
    "            bar()\n",
    "            if(premarket_gap>0.2 and datetime.datetime.fromisoformat(data.iloc[i+1]['from']).date() - datetime.datetime.fromisoformat(data.iloc[i]['from']).date()== datetime.timedelta(1)):\n",
    "                aux.append([data.iloc[i+1]['symbol'],data.iloc[i+1]['from']])\n",
    "    return aux \n",
    "day1MOMOs_array=day1MOMOs(stocks_data)"
   ]
  },
  {
   "cell_type": "code",
   "execution_count": 37,
   "id": "eacc9775-6a57-4a41-87ea-dd08e2b2c9a8",
   "metadata": {
    "tags": []
   },
   "outputs": [
    {
     "data": {
      "text/plain": [
       "117"
      ]
     },
     "execution_count": 37,
     "metadata": {},
     "output_type": "execute_result"
    }
   ],
   "source": [
    "day1MOMOs_array = np.array(day1MOMOs_array)\n",
    "len(day1MOMOs_array)"
   ]
  },
  {
   "cell_type": "markdown",
   "id": "696ba3ef-da34-49ad-ba34-51ce2d7295e7",
   "metadata": {
    "tags": []
   },
   "source": [
    "# Downloading stock data (period = 1m) for each Day1MOMO where there was a gap in premarket "
   ]
  },
  {
   "cell_type": "code",
   "execution_count": 61,
   "id": "a59b8260-cb36-4602-84d1-01b72e8e9e66",
   "metadata": {
    "tags": []
   },
   "outputs": [
    {
     "name": "stdout",
     "output_type": "stream",
     "text": [
      "|████████████████████████████████████████| 117/117 [100%] in 47.8s (2.46/s)     \n"
     ]
    }
   ],
   "source": [
    "#start premarket hour\n",
    "hour_4 = datetime.time(hour=4)\n",
    "#start market hour\n",
    "hour_9 = datetime.time(hour=9)\n",
    "#closed time \n",
    "hour_16 = datetime.time(hour=16)\n",
    "data_market = []\n",
    "with alive_bar(len(day1MOMOs_array),force_tty=True) as bar:\n",
    "    for i in day1MOMOs_array:\n",
    "        bar()\n",
    "        day = datetime.datetime.fromisoformat(i[1])\n",
    "        day_4 = datetime.datetime.combine(day,hour_4)\n",
    "        day_9 = datetime.datetime.combine(day,hour_9)\n",
    "        day_16 = datetime.datetime.combine(day,hour_16)\n",
    "        aux = client.get_aggregate_bars(i[0],day_4,day_16,timespan='min')\n",
    "        if aux['status']=='OK':\n",
    "            results = aux['results']\n",
    "            premarket = pd.DataFrame(results)\n",
    "            premarket.t = list(map(datetime.datetime.utcfromtimestamp,premarket.t/1000))\n",
    "            premarket.columns = [\"volume\",\"w_volumen\",\"open\",\"close\",\"high\",\"low\",\"time\",\"#transactions\"]\n",
    "            data_market.append([i[0],premarket])"
   ]
  },
  {
   "cell_type": "markdown",
   "id": "40a7bffd-052f-47f9-a06a-51db8387e2b9",
   "metadata": {
    "tags": []
   },
   "source": [
    "# Divided the data in pre_market and market "
   ]
  },
  {
   "cell_type": "code",
   "execution_count": 113,
   "id": "845b0929-e81e-4049-beb0-1d120a4be3b5",
   "metadata": {
    "tags": []
   },
   "outputs": [],
   "source": [
    "pre_markets = []\n",
    "markets = []\n",
    "d1 = data_market[1][1]\n",
    "d1['time'] = pd.to_datetime(d1['time'])\n",
    "d1[d1['time'].dt.hour<9]\n",
    "\n",
    "for i in data_market:\n",
    "    aux = i[1][pd.to_datetime(i[1]['time']).dt.hour<9]\n",
    "    pre_markets.append((i[0],aux))\n",
    "    aux = i[1][pd.to_datetime(i[1]['time']).dt.hour>=9]\n",
    "    markets.append((i[0],aux))"
   ]
  },
  {
   "cell_type": "markdown",
   "id": "2fcd128b-4412-4128-8b33-ace220a99382",
   "metadata": {
    "tags": []
   },
   "source": [
    "# Getting red closes for Day1MOMOs"
   ]
  },
  {
   "cell_type": "code",
   "execution_count": 114,
   "id": "47985f21-8993-451a-bbff-0468520cf247",
   "metadata": {
    "tags": []
   },
   "outputs": [],
   "source": [
    "#get red closes\n",
    "red_closes = []\n",
    "for i in markets:\n",
    "    red_closes.append((i[1].iloc[1,].open-i[1].iloc[-2,].close)/i[1].iloc[1,].open)\n",
    "red_closes = np.array(red_closes)\n",
    "red_closes = red_closes<0"
   ]
  },
  {
   "cell_type": "code",
   "execution_count": 118,
   "id": "912a211b-0cdc-46ed-9727-fc34be7355f1",
   "metadata": {
    "tags": []
   },
   "outputs": [
    {
     "name": "stderr",
     "output_type": "stream",
     "text": [
      "/tmp/ipykernel_20257/3235070387.py:3: VisibleDeprecationWarning: Creating an ndarray from ragged nested sequences (which is a list-or-tuple of lists-or-tuples-or ndarrays with different lengths or shapes) is deprecated. If you meant to do this, you must specify 'dtype=object' when creating the ndarray.\n",
      "  red_close_markets = np.array(markets)[list(compress(range(len(red_closes)), red_closes))]\n",
      "/tmp/ipykernel_20257/3235070387.py:4: VisibleDeprecationWarning: Creating an ndarray from ragged nested sequences (which is a list-or-tuple of lists-or-tuples-or ndarrays with different lengths or shapes) is deprecated. If you meant to do this, you must specify 'dtype=object' when creating the ndarray.\n",
      "  red_close_premarkets = np.array(pre_markets)[list(compress(range(len(red_closes)), red_closes))]\n"
     ]
    }
   ],
   "source": [
    "#Get number of red closes\n",
    "from itertools import compress\n",
    "red_close_markets = np.array(markets)[list(compress(range(len(red_closes)), red_closes))]\n",
    "red_close_premarkets = np.array(pre_markets)[list(compress(range(len(red_closes)), red_closes))]"
   ]
  },
  {
   "cell_type": "code",
   "execution_count": 124,
   "id": "8f6d6acb-63e4-4eac-8271-3c8caf4c2237",
   "metadata": {
    "tags": []
   },
   "outputs": [
    {
     "name": "stdout",
     "output_type": "stream",
     "text": [
      "Red Closes In Day1MOMOs from 2021-01-01 to 2023-02-01\n",
      "red_closes: 61\n"
     ]
    }
   ],
   "source": [
    "start_date = datetime.date(2021,1,1)\n",
    "end_date=datetime.date(2023,2,1)\n",
    "print(\"Red Closes In Day1MOMOs from \" + str(start_date)+\" to \"+str(end_date))\n",
    "print(\"red_closes: \" +str(len(red_close_markets)))"
   ]
  },
  {
   "cell_type": "code",
   "execution_count": null,
   "id": "f7c4e13c-c3fb-4593-b697-1206fb6c71e6",
   "metadata": {
    "tags": []
   },
   "outputs": [],
   "source": []
  },
  {
   "cell_type": "markdown",
   "id": "ee22f895-7373-4800-948d-2370c175811c",
   "metadata": {
    "tags": []
   },
   "source": [
    "# Fade and hour of premarket high"
   ]
  },
  {
   "cell_type": "code",
   "execution_count": 126,
   "id": "58c84c35-6d37-434b-b23d-e5a8546982ea",
   "metadata": {
    "tags": []
   },
   "outputs": [
    {
     "name": "stdout",
     "output_type": "stream",
     "text": [
      "Series([], Name: high, dtype: float64)\n"
     ]
    },
    {
     "ename": "ValueError",
     "evalue": "max() arg is an empty sequence",
     "output_type": "error",
     "traceback": [
      "\u001b[0;31m---------------------------------------------------------------------------\u001b[0m",
      "\u001b[0;31mValueError\u001b[0m                                Traceback (most recent call last)",
      "Cell \u001b[0;32mIn[126], line 6\u001b[0m\n\u001b[1;32m      4\u001b[0m \u001b[38;5;28;01mfor\u001b[39;00m symbol,pre_market \u001b[38;5;129;01min\u001b[39;00m red_close_premarkets:\n\u001b[1;32m      5\u001b[0m     \u001b[38;5;28mprint\u001b[39m(pre_market\u001b[38;5;241m.\u001b[39mhigh)\n\u001b[0;32m----> 6\u001b[0m     aux \u001b[38;5;241m=\u001b[39m pre_market[pre_market\u001b[38;5;241m.\u001b[39mhigh\u001b[38;5;241m==\u001b[39m\u001b[38;5;28;43mmax\u001b[39;49m\u001b[43m(\u001b[49m\u001b[43mpre_market\u001b[49m\u001b[38;5;241;43m.\u001b[39;49m\u001b[43mhigh\u001b[49m\u001b[43m)\u001b[49m]\n\u001b[1;32m      7\u001b[0m     time \u001b[38;5;241m=\u001b[39m aux\u001b[38;5;241m.\u001b[39mtime\n\u001b[1;32m      8\u001b[0m     high \u001b[38;5;241m=\u001b[39m aux\u001b[38;5;241m.\u001b[39mhigh\n",
      "\u001b[0;31mValueError\u001b[0m: max() arg is an empty sequence"
     ]
    }
   ],
   "source": [
    "#% fade\n",
    "premarket_fades = np.zeros([40])\n",
    "premarket_high_hours = np.zeros([24])\n",
    "for symbol,pre_market in red_close_premarkets:\n",
    "    print(pre_market.high)\n",
    "    aux = pre_market[pre_market.high==max(pre_market.high)]\n",
    "    time = aux.time\n",
    "    high = aux.high\n",
    "    close = aux.close\n",
    "    premarket_fades[int(((high-close)/high).iloc[0] *10)]+=1\n",
    "    premarket_high_hours[time.iloc[0].hour] +=1\n",
    "    "
   ]
  },
  {
   "cell_type": "code",
   "execution_count": null,
   "id": "4cd985d9-4a5e-46ce-a02f-c1619b9a4358",
   "metadata": {},
   "outputs": [],
   "source": []
  },
  {
   "cell_type": "markdown",
   "id": "78e6a21a-333d-49c9-8d8f-aa6d44efbf4a",
   "metadata": {
    "tags": []
   },
   "source": [
    "# Candles 5,10,15"
   ]
  },
  {
   "cell_type": "code",
   "execution_count": 132,
   "id": "4ba36c2a-e9cc-4491-940f-e955f38dec97",
   "metadata": {
    "tags": []
   },
   "outputs": [],
   "source": [
    "#Find candle types \n",
    "\n",
    "candles1  = {'red':0,'green':0}\n",
    "candles5  = {'red':0,'green':0}\n",
    "candles15  = {'red':0,'green':0}\n",
    "\n",
    "for symbol,market in red_close_markets: \n",
    "    hour_candle_1 =   market.iloc[0].time+datetime.timedelta(minutes=1)\n",
    "    hour_candle_5 =   market.iloc[0].time+datetime.timedelta(minutes=5)\n",
    "    hour_candle_15 =   market.iloc[0].time+datetime.timedelta(minutes=15)\n",
    "    \n",
    "    candle_1 = market[market.time == hour_candle_1]\n",
    "    candle_5 = market[market.time == hour_candle_5]\n",
    "    candle_15 = market[market.time == hour_candle_15]\n",
    "    \n",
    "    if(len(candle_1)!=0 and candle_1.open.iloc[0]>candle_1.close.iloc[0]):\n",
    "        candles1['red'] +=1 \n",
    "    else: \n",
    "        candles1['green'] +=1 \n",
    "        \n",
    "    if(len(candle_5)!=0 and candle_5.open.iloc[0]>candle_5.close.iloc[0]):\n",
    "        candles5['red'] +=1 \n",
    "    else: \n",
    "        candles5['green'] +=1 \n",
    "        \n",
    "    if(len(candle_15)!=0 and candle_15.open.iloc[0]>candle_15.close.iloc[0]):\n",
    "        candles15['red'] +=1 \n",
    "    else: \n",
    "        candles15['green'] +=1 "
   ]
  },
  {
   "cell_type": "code",
   "execution_count": 139,
   "id": "d82a17fb-2e71-452a-99b8-6485754869f9",
   "metadata": {
    "tags": []
   },
   "outputs": [
    {
     "name": "stdout",
     "output_type": "stream",
     "text": [
      "{'red': 8, 'green': 53}\n",
      "{'red': 7, 'green': 54}\n",
      "{'red': 7, 'green': 54}\n"
     ]
    }
   ],
   "source": [
    "print(candles1)\n",
    "print(candles5)\n",
    "print(candles15)"
   ]
  },
  {
   "cell_type": "markdown",
   "id": "96bbf9fb-72b2-45ce-9f5d-9a831855147a",
   "metadata": {
    "tags": []
   },
   "source": [
    "# Fade percent 9:30 to 11:00"
   ]
  },
  {
   "cell_type": "code",
   "execution_count": 145,
   "id": "963bd680-8f3b-4242-b024-a998aa8beac5",
   "metadata": {
    "tags": []
   },
   "outputs": [],
   "source": [
    "start_markets_fades = []\n",
    "\n",
    "for symbol,market in red_close_markets:\n",
    "    h_9 = pd.Timestamp.combine(market.iloc[0].time.date(),datetime.time(hour=9,minute=30))\n",
    "    h_11 = pd.Timestamp.combine(market.iloc[0].time.date(),datetime.time(hour=11))\n",
    "    aux = (market[market.time == h_9].open - market[market.time==h_11].open)/(market[market.time == h_9].open)"
   ]
  },
  {
   "cell_type": "code",
   "execution_count": null,
   "id": "56a18963-5d6a-49e5-aef0-7a5dbcdabc7f",
   "metadata": {},
   "outputs": [],
   "source": []
  },
  {
   "cell_type": "markdown",
   "id": "cf2b659b-d9d2-4f7b-8c50-cd08659b851a",
   "metadata": {
    "jp-MarkdownHeadingCollapsed": true,
    "tags": []
   },
   "source": [
    "# Check if market exceed or touched high (High-Clearout)"
   ]
  },
  {
   "cell_type": "code",
   "execution_count": 951,
   "id": "5db2e59a-3ef9-41bf-811c-0f22c6b98ec8",
   "metadata": {
    "tags": []
   },
   "outputs": [
    {
     "name": "stdout",
     "output_type": "stream",
     "text": [
      "   volume  w_volumen   open  close   high    low                time  \\\n",
      "0   17280    24.0318  15.33  23.11  44.29  15.33 2022-10-11 12:30:00   \n",
      "\n",
      "   #transactions  \n",
      "0            129  \n",
      "     volume  w_volumen    open  close    high   low                time  \\\n",
      "173  480939    20.2618  20.065  20.44  20.625  20.0 2022-02-25 14:38:00   \n",
      "\n",
      "     #transactions  \n",
      "173           2219  \n"
     ]
    }
   ],
   "source": [
    "highs = {}\n",
    "for symbol,pre_market in markets:\n",
    "    aux = pre_market[pre_market.high==max(pre_market.high)]\n",
    "    print(aux)\n",
    "    highs[symbol] = {'date':pre_market.iloc[0].time.date(),'high' : aux.high.iloc[0]}"
   ]
  },
  {
   "cell_type": "code",
   "execution_count": 915,
   "id": "ddb71151-ae59-4ff8-b8ac-fe760a2dd409",
   "metadata": {
    "tags": []
   },
   "outputs": [
    {
     "data": {
      "text/plain": [
       "{'FORG': {'date': datetime.date(2022, 10, 11), 'high': 44.29},\n",
       " 'FTCH': {'date': datetime.date(2022, 2, 25), 'high': 20.625}}"
      ]
     },
     "execution_count": 915,
     "metadata": {},
     "output_type": "execute_result"
    }
   ],
   "source": [
    "highs"
   ]
  },
  {
   "cell_type": "code",
   "execution_count": 837,
   "id": "e7b711f7-55e7-4d0c-8567-f8fd24138128",
   "metadata": {
    "tags": []
   },
   "outputs": [],
   "source": [
    "high_clearout = {}\n",
    "for symbol,market in markets:\n",
    "    if(np.count_nonzero(market[['open','close','high']].min(axis='columns')>highs[symbol]['high'])==0):\n",
    "        high_clearout[symbol] = {'market' : market} "
   ]
  },
  {
   "cell_type": "markdown",
   "id": "e376f7d7-efd2-4d6b-8fea-9bb032467213",
   "metadata": {
    "tags": []
   },
   "source": [
    "# Second Day Play - 2DayPlay"
   ]
  },
  {
   "cell_type": "code",
   "execution_count": 976,
   "id": "8d69aa81-df0f-4b99-bc9a-1230ab5a9d32",
   "metadata": {
    "tags": []
   },
   "outputs": [
    {
     "name": "stderr",
     "output_type": "stream",
     "text": [
      "/home/robdres/.local/lib/python3.10/site-packages/pandas/core/ops/array_ops.py:73: FutureWarning: Comparison of Timestamp with datetime.date is deprecated in order to match the standard library behavior. In a future version these will be considered non-comparable. Use 'ts == pd.Timestamp(date)' or 'ts.date() == date' instead.\n",
      "  result = libops.scalar_compare(x.ravel(), y, op)\n"
     ]
    }
   ],
   "source": [
    "TwoDayPlay = []\n",
    "\n",
    "for i in highs:\n",
    "    aux = data[i][highs[i]['date'] + datetime.timedelta(days=1)== data[i].index].Open\n",
    "    if(len(aux)!=0):\n",
    "        if(abs(aux.iloc[0]-highs[i]['high'])>0.5):\n",
    "            day = highs[i]['date'] + datetime.timedelta(days=1)\n",
    "            day_4 = datetime.datetime.combine(day,hour_4)\n",
    "            day_9 = datetime.datetime.combine(day,hour_9)\n",
    "            day_16 = datetime.datetime.combine(day,hour_16)\n",
    "            aux = client.get_aggregate_bars(i[0],day_4,day_16,timespan='min')\n",
    "            if aux['status']=='OK':\n",
    "                results = aux['results']\n",
    "                premarket = pd.DataFrame(results)\n",
    "                premarket.t = list(map(datetime.datetime.utcfromtimestamp,premarket.t/1000))\n",
    "                premarket.columns = [\"volume\",\"w_volumen\",\"open\",\"close\",\"high\",\"low\",\"time\",\"#transactions\"]\n",
    "                TwoDayPlay.append([i,premarket])"
   ]
  },
  {
   "cell_type": "code",
   "execution_count": 977,
   "id": "f19e997f-5b36-4269-84ac-645ee33b3629",
   "metadata": {
    "tags": []
   },
   "outputs": [
    {
     "data": {
      "text/plain": [
       "[['FORG',\n",
       "         volume  w_volumen     open   close     high     low  \\\n",
       "  0       747.0    11.5700  11.5700  11.570  11.5700  11.570   \n",
       "  1      2428.0    11.5700  11.5700  11.570  11.5700  11.570   \n",
       "  2       580.0    11.6431  11.6400  11.640  11.6500  11.640   \n",
       "  3       200.0    11.6315  11.6300  11.630  11.6300  11.630   \n",
       "  4       289.0    11.6800  11.6800  11.680  11.6800  11.680   \n",
       "  ..        ...        ...      ...     ...      ...     ...   \n",
       "  270  302101.0    11.6212  11.6300  11.595  11.6400  11.595   \n",
       "  271  209991.0    11.5984  11.6000  11.600  11.6100  11.590   \n",
       "  272  242188.0    11.6036  11.5935  11.615  11.6150  11.590   \n",
       "  273  137512.0    11.6118  11.6150  11.610  11.6200  11.600   \n",
       "  274  240303.0    11.6159  11.6138  11.605  11.6276  11.600   \n",
       "  \n",
       "                     time  #transactions  \n",
       "  0   2022-10-12 08:00:00              9  \n",
       "  1   2022-10-12 08:04:00              5  \n",
       "  2   2022-10-12 08:13:00              3  \n",
       "  3   2022-10-12 08:26:00              2  \n",
       "  4   2022-10-12 08:33:00              1  \n",
       "  ..                  ...            ...  \n",
       "  270 2022-10-12 15:56:00            539  \n",
       "  271 2022-10-12 15:57:00            329  \n",
       "  272 2022-10-12 15:58:00            291  \n",
       "  273 2022-10-12 15:59:00            222  \n",
       "  274 2022-10-12 16:00:00            451  \n",
       "  \n",
       "  [275 rows x 8 columns]]]"
      ]
     },
     "execution_count": 977,
     "metadata": {},
     "output_type": "execute_result"
    }
   ],
   "source": [
    "TwoDayPlay"
   ]
  },
  {
   "cell_type": "code",
   "execution_count": null,
   "id": "127c3841-2ecc-46c8-b4cd-2d0513eba6c6",
   "metadata": {},
   "outputs": [],
   "source": []
  }
 ],
 "metadata": {
  "kernelspec": {
   "display_name": "Python 3 (ipykernel)",
   "language": "python",
   "name": "python3"
  },
  "language_info": {
   "codemirror_mode": {
    "name": "ipython",
    "version": 3
   },
   "file_extension": ".py",
   "mimetype": "text/x-python",
   "name": "python",
   "nbconvert_exporter": "python",
   "pygments_lexer": "ipython3",
   "version": "3.10.10"
  }
 },
 "nbformat": 4,
 "nbformat_minor": 5
}
