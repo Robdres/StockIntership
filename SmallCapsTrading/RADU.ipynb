{
 "cells": [
  {
   "cell_type": "code",
   "execution_count": 1,
   "id": "65b5b35e-b41f-4527-baae-ce871833ca66",
   "metadata": {
    "tags": []
   },
   "outputs": [],
   "source": [
    "import numpy as np \n",
    "import matplotlib.pyplot as plt \n",
    "import pandas as pd\n",
    "import datetime \n",
    "from polygon import StocksClient\n",
    "from env import POLYGON_API_KEY as api_key\n",
    "import yfinance as yf\n",
    "from tqdm import tqdm\n",
    "from alive_progress import alive_bar\n",
    "import os\n",
    "#Polygon api\n",
    "client = StocksClient(api_key, connect_timeout=10)"
   ]
  },
  {
   "cell_type": "code",
   "execution_count": 2,
   "id": "110f1da6-68d7-4f71-a840-0262bbde2f69",
   "metadata": {
    "tags": []
   },
   "outputs": [],
   "source": [
    "days = pd.read_csv('matchDays.csv',index_col=False)\n",
    "c=50000\n",
    "data = []\n",
    "days.columns = ['date','symbol']\n",
    "hour_4 = datetime.time(hour=4)\n",
    "hour_9 = datetime.time(hour=9)\n",
    "hour_16 = datetime.time(hour=16)\n",
    "\n",
    "#os.mkdir(\"daily_stocks\")"
   ]
  },
  {
   "cell_type": "code",
   "execution_count": 3,
   "id": "d7a47c5f-0b46-41f3-8a91-5b42fb93a03e",
   "metadata": {
    "tags": []
   },
   "outputs": [
    {
     "data": {
      "text/html": [
       "<div>\n",
       "<style scoped>\n",
       "    .dataframe tbody tr th:only-of-type {\n",
       "        vertical-align: middle;\n",
       "    }\n",
       "\n",
       "    .dataframe tbody tr th {\n",
       "        vertical-align: top;\n",
       "    }\n",
       "\n",
       "    .dataframe thead th {\n",
       "        text-align: right;\n",
       "    }\n",
       "</style>\n",
       "<table border=\"1\" class=\"dataframe\">\n",
       "  <thead>\n",
       "    <tr style=\"text-align: right;\">\n",
       "      <th></th>\n",
       "      <th>date</th>\n",
       "      <th>symbol</th>\n",
       "    </tr>\n",
       "  </thead>\n",
       "  <tbody>\n",
       "    <tr>\n",
       "      <th>0</th>\n",
       "      <td>03/12/2020</td>\n",
       "      <td>AA</td>\n",
       "    </tr>\n",
       "    <tr>\n",
       "      <th>1</th>\n",
       "      <td>03/13/2020</td>\n",
       "      <td>AA</td>\n",
       "    </tr>\n",
       "    <tr>\n",
       "      <th>2</th>\n",
       "      <td>03/18/2020</td>\n",
       "      <td>AA</td>\n",
       "    </tr>\n",
       "    <tr>\n",
       "      <th>3</th>\n",
       "      <td>03/19/2020</td>\n",
       "      <td>AA</td>\n",
       "    </tr>\n",
       "    <tr>\n",
       "      <th>4</th>\n",
       "      <td>03/23/2020</td>\n",
       "      <td>AA</td>\n",
       "    </tr>\n",
       "    <tr>\n",
       "      <th>...</th>\n",
       "      <td>...</td>\n",
       "      <td>...</td>\n",
       "    </tr>\n",
       "    <tr>\n",
       "      <th>95001</th>\n",
       "      <td>04/14/2023</td>\n",
       "      <td>HUBC</td>\n",
       "    </tr>\n",
       "    <tr>\n",
       "      <th>95002</th>\n",
       "      <td>04/14/2023</td>\n",
       "      <td>CRBP</td>\n",
       "    </tr>\n",
       "    <tr>\n",
       "      <th>95003</th>\n",
       "      <td>04/14/2023</td>\n",
       "      <td>BITF</td>\n",
       "    </tr>\n",
       "    <tr>\n",
       "      <th>95004</th>\n",
       "      <td>04/14/2023</td>\n",
       "      <td>ALLR</td>\n",
       "    </tr>\n",
       "    <tr>\n",
       "      <th>95005</th>\n",
       "      <td>04/14/2023</td>\n",
       "      <td>MNMD</td>\n",
       "    </tr>\n",
       "  </tbody>\n",
       "</table>\n",
       "<p>95006 rows × 2 columns</p>\n",
       "</div>"
      ],
      "text/plain": [
       "             date symbol\n",
       "0      03/12/2020     AA\n",
       "1      03/13/2020     AA\n",
       "2      03/18/2020     AA\n",
       "3      03/19/2020     AA\n",
       "4      03/23/2020     AA\n",
       "...           ...    ...\n",
       "95001  04/14/2023   HUBC\n",
       "95002  04/14/2023   CRBP\n",
       "95003  04/14/2023   BITF\n",
       "95004  04/14/2023   ALLR\n",
       "95005  04/14/2023   MNMD\n",
       "\n",
       "[95006 rows x 2 columns]"
      ]
     },
     "execution_count": 3,
     "metadata": {},
     "output_type": "execute_result"
    }
   ],
   "source": [
    "days"
   ]
  },
  {
   "cell_type": "markdown",
   "id": "4e753d7f-0411-40a0-a093-b8bee30ddc4a",
   "metadata": {
    "tags": []
   },
   "source": [
    "# Creating the database"
   ]
  },
  {
   "cell_type": "code",
   "execution_count": 122,
   "id": "9decaf9a-59ef-4835-9256-49024384bb62",
   "metadata": {
    "tags": []
   },
   "outputs": [
    {
     "name": "stdout",
     "output_type": "stream",
     "text": [
      "|⚠︎                                       | (!) 1/42263 [0%] in 0.0s (1485.71/s) \n"
     ]
    },
    {
     "ename": "AttributeError",
     "evalue": "'float' object has no attribute 'upper'",
     "output_type": "error",
     "traceback": [
      "\u001b[0;31m---------------------------------------------------------------------------\u001b[0m",
      "\u001b[0;31mAttributeError\u001b[0m                            Traceback (most recent call last)",
      "Cell \u001b[0;32mIn[122], line 15\u001b[0m\n\u001b[1;32m     13\u001b[0m day_16 \u001b[38;5;241m=\u001b[39m datetime\u001b[38;5;241m.\u001b[39mdatetime\u001b[38;5;241m.\u001b[39mcombine(day,hour_16)\n\u001b[1;32m     14\u001b[0m bar()\n\u001b[0;32m---> 15\u001b[0m aux \u001b[38;5;241m=\u001b[39m \u001b[43mclient\u001b[49m\u001b[38;5;241;43m.\u001b[39;49m\u001b[43mget_aggregate_bars\u001b[49m\u001b[43m(\u001b[49m\u001b[43mi\u001b[49m\u001b[43m[\u001b[49m\u001b[38;5;241;43m1\u001b[39;49m\u001b[43m]\u001b[49m\u001b[43m,\u001b[49m\u001b[43mday_4\u001b[49m\u001b[43m,\u001b[49m\u001b[43mday_16\u001b[49m\u001b[43m,\u001b[49m\u001b[43mtimespan\u001b[49m\u001b[38;5;241;43m=\u001b[39;49m\u001b[38;5;124;43m'\u001b[39;49m\u001b[38;5;124;43mmin\u001b[39;49m\u001b[38;5;124;43m'\u001b[39;49m\u001b[43m)\u001b[49m\n\u001b[1;32m     16\u001b[0m \u001b[38;5;28;01mif\u001b[39;00m(\u001b[38;5;129;01mnot\u001b[39;00m os\u001b[38;5;241m.\u001b[39mpath\u001b[38;5;241m.\u001b[39mexists(os\u001b[38;5;241m.\u001b[39mpath\u001b[38;5;241m.\u001b[39mjoin(\u001b[38;5;124m\"\u001b[39m\u001b[38;5;124mdaily_stocks\u001b[39m\u001b[38;5;124m\"\u001b[39m,i[\u001b[38;5;241m1\u001b[39m]))):\n\u001b[1;32m     17\u001b[0m     os\u001b[38;5;241m.\u001b[39mmkdir(os\u001b[38;5;241m.\u001b[39mpath\u001b[38;5;241m.\u001b[39mjoin(\u001b[38;5;124m\"\u001b[39m\u001b[38;5;124mdaily_stocks\u001b[39m\u001b[38;5;124m\"\u001b[39m,i[\u001b[38;5;241m1\u001b[39m]))\n",
      "File \u001b[0;32m~/.local/lib/python3.10/site-packages/polygon/stocks/stocks.py:412\u001b[0m, in \u001b[0;36mSyncStocksClient.get_aggregate_bars\u001b[0;34m(self, symbol, from_date, to_date, adjusted, sort, limit, multiplier, timespan, full_range, run_parallel, max_concurrent_workers, warnings, high_volatility, raw_response)\u001b[0m\n\u001b[1;32m    408\u001b[0m     timespan \u001b[38;5;241m=\u001b[39m \u001b[38;5;124m'\u001b[39m\u001b[38;5;124mminute\u001b[39m\u001b[38;5;124m'\u001b[39m\n\u001b[1;32m    410\u001b[0m timespan, sort \u001b[38;5;241m=\u001b[39m \u001b[38;5;28mself\u001b[39m\u001b[38;5;241m.\u001b[39m_change_enum(timespan, \u001b[38;5;28mstr\u001b[39m), \u001b[38;5;28mself\u001b[39m\u001b[38;5;241m.\u001b[39m_change_enum(sort, \u001b[38;5;28mstr\u001b[39m)\n\u001b[0;32m--> 412\u001b[0m _path \u001b[38;5;241m=\u001b[39m \u001b[38;5;124mf\u001b[39m\u001b[38;5;124m'\u001b[39m\u001b[38;5;124m/v2/aggs/ticker/\u001b[39m\u001b[38;5;132;01m{\u001b[39;00m\u001b[43msymbol\u001b[49m\u001b[38;5;241;43m.\u001b[39;49m\u001b[43mupper\u001b[49m()\u001b[38;5;132;01m}\u001b[39;00m\u001b[38;5;124m/range/\u001b[39m\u001b[38;5;132;01m{\u001b[39;00mmultiplier\u001b[38;5;132;01m}\u001b[39;00m\u001b[38;5;124m/\u001b[39m\u001b[38;5;132;01m{\u001b[39;00mtimespan\u001b[38;5;132;01m}\u001b[39;00m\u001b[38;5;124m/\u001b[39m\u001b[38;5;132;01m{\u001b[39;00mfrom_date\u001b[38;5;132;01m}\u001b[39;00m\u001b[38;5;124m/\u001b[39m\u001b[38;5;132;01m{\u001b[39;00mto_date\u001b[38;5;132;01m}\u001b[39;00m\u001b[38;5;124m'\u001b[39m\n\u001b[1;32m    414\u001b[0m _data \u001b[38;5;241m=\u001b[39m {\u001b[38;5;124m'\u001b[39m\u001b[38;5;124madjusted\u001b[39m\u001b[38;5;124m'\u001b[39m: \u001b[38;5;124m'\u001b[39m\u001b[38;5;124mtrue\u001b[39m\u001b[38;5;124m'\u001b[39m \u001b[38;5;28;01mif\u001b[39;00m adjusted \u001b[38;5;28;01melse\u001b[39;00m \u001b[38;5;124m'\u001b[39m\u001b[38;5;124mfalse\u001b[39m\u001b[38;5;124m'\u001b[39m,\n\u001b[1;32m    415\u001b[0m          \u001b[38;5;124m'\u001b[39m\u001b[38;5;124msort\u001b[39m\u001b[38;5;124m'\u001b[39m: sort,\n\u001b[1;32m    416\u001b[0m          \u001b[38;5;124m'\u001b[39m\u001b[38;5;124mlimit\u001b[39m\u001b[38;5;124m'\u001b[39m: limit}\n\u001b[1;32m    418\u001b[0m _res \u001b[38;5;241m=\u001b[39m \u001b[38;5;28mself\u001b[39m\u001b[38;5;241m.\u001b[39m_get_response(_path, params\u001b[38;5;241m=\u001b[39m_data)\n",
      "\u001b[0;31mAttributeError\u001b[0m: 'float' object has no attribute 'upper'"
     ]
    }
   ],
   "source": [
    "hour_4 = datetime.time(hour=4)\n",
    "hour_9 = datetime.time(hour=9)\n",
    "hour_16 = datetime.time(hour=16)\n",
    "\n",
    "h=0\n",
    "with alive_bar(len(days)-c,force_tty=True) as bar:\n",
    "    for _,i in days[c:].iterrows():\n",
    "        c+=1\n",
    "        day = datetime.datetime.strptime(i[0],\"%m/%d/%Y\") + datetime.timedelta(days=1)\n",
    "        day_4 = datetime.datetime.combine(day,hour_4)\n",
    "        day_9 = datetime.datetime.combine(day,hour_9)\n",
    "        day_16 = datetime.datetime.combine(day,hour_16)\n",
    "        bar()\n",
    "        aux = client.get_aggregate_bars(i[1],day_4,day_16,timespan='min')\n",
    "        if(not os.path.exists(os.path.join(\"daily_stocks\",i[1]))):\n",
    "            os.mkdir(os.path.join(\"daily_stocks\",i[1]))\n",
    "        if(aux['status']=='OK' and aux['queryCount']!=0):\n",
    "            df = pd.DataFrame(aux['results'])\n",
    "            df['symbol'] = i[1]\n",
    "            df.to_csv(os.path.join(os.getcwd(),\"daily_stocks\",i[1],i[0].replace('/','-')+\".csv\"))"
   ]
  },
  {
   "cell_type": "markdown",
   "id": "4f44f342-f000-4ef6-8c94-54cbb6a0bc21",
   "metadata": {
    "tags": []
   },
   "source": [
    "# Important Functions to get data"
   ]
  },
  {
   "cell_type": "code",
   "execution_count": 4,
   "id": "a43c30ec-e68d-4c33-9a6e-d93075f706b5",
   "metadata": {
    "tags": []
   },
   "outputs": [],
   "source": [
    "#function to get files in a folder\n",
    "def process_files_in_folder(folder_path):\n",
    "    filenames =[] \n",
    "    for filename in os.listdir(folder_path):\n",
    "        file_path = os.path.join(folder_path, filename)\n",
    "        if os.path.isfile(file_path):\n",
    "            # Process the file here\n",
    "            filenames.append(file_path)\n",
    "        elif os.path.isdir(file_path):\n",
    "            # Recursively call this function for subfolders\n",
    "            process_files_in_folder(file_path)\n",
    "    return filenames\n",
    "\n",
    "\n",
    "#Function to get data from an specific date and stock\n",
    "def getDataDayStock(stock,date):\n",
    "    day = datetime.datetime.strptime(date,\"%m-%d-%Y\") + datetime.timedelta(days=1)\n",
    "    day_4 = datetime.datetime.combine(day,hour_4)\n",
    "    day_9 = datetime.datetime.combine(day,hour_9)\n",
    "    day_16 = datetime.datetime.combine(day,hour_16)\n",
    "    aux = client.get_aggregate_bars(stock,day_4,day_16,timespan='min')\n",
    "    if(not os.path.exists(os.path.join(\"daily_stocks\",stock))):\n",
    "        os.mkdir(os.path.join(\"daily_stocks\",stock))\n",
    "    if(aux['status']=='OK' and aux['queryCount']!=0):\n",
    "        df = pd.DataFrame(aux['results'])\n",
    "        df['symbol'] = stock\n",
    "        df.to_csv(os.path.join(os.getcwd(),\"daily_stocks\",stock,date+\".csv\"))\n",
    "    return pd.read_csv(os.path.join(os.getcwd(),\"daily_stocks\",stock,date+\".csv\"),index_col=False)\n",
    "\n",
    "#function to manage changes because of a split\n",
    "def checkChanges(path):\n",
    "    fileName = process_files_in_folder(path)\n",
    "    aux = fileName[0].split(\"/\")[1:]\n",
    "    stock = aux[0]\n",
    "    date = aux[1].split(\".\")[0]\n",
    "    temp_file = pd.read_csv(os.path.join(os.getcwd(),\"daily_stocks\",stock,date+\".csv\"),index_col=False)\n",
    "    df = getDataDayStock(stock,date)\n",
    "    if (temp_file.iloc[0].o == df.iloc[0].o):\n",
    "        print(\"No changes in \"+stock)\n",
    "    else:\n",
    "        for i in fileName:\n",
    "            aux = i.split(\"/\")[1:]\n",
    "            stock = aux[0]\n",
    "            date = aux[1].split(\".\")[0]\n",
    "            getDataDayStock(stock,date)\n",
    "\n",
    "def checkChangesDividends(path):\n",
    "    fileName = process_files_in_folder(path)\n",
    "    aux = fileName[0].split(\"/\")[1:]\n",
    "    stock = aux[0]\n",
    "    date = aux[1].split(\".\")[0]\n",
    "    temp_file = pd.read_csv(os.path.join(os.getcwd(),\"daily_stocks\",stock,date+\".csv\"),index_col=False)\n",
    "    df = getDataDayStock(stock,date)\n"
   ]
  },
  {
   "cell_type": "code",
   "execution_count": 18,
   "id": "c94b9c12-52cc-4ff3-b47f-ca23c5a05cf5",
   "metadata": {
    "tags": []
   },
   "outputs": [
    {
     "name": "stdout",
     "output_type": "stream",
     "text": [
      "No changes in AA\n"
     ]
    }
   ],
   "source": [
    "checkChanges(\"daily_stocks/AA\")"
   ]
  },
  {
   "cell_type": "code",
   "execution_count": 123,
   "id": "21844ea7-4a4e-4536-81df-4214b5289451",
   "metadata": {
    "tags": []
   },
   "outputs": [
    {
     "name": "stdout",
     "output_type": "stream",
     "text": [
      "|⚠︎                                       | (!) 7/5579 [0%] in 0.0s (10647.79/s) \n"
     ]
    },
    {
     "ename": "NameError",
     "evalue": "name 'process_files_in_folder' is not defined",
     "output_type": "error",
     "traceback": [
      "\u001b[0;31m---------------------------------------------------------------------------\u001b[0m",
      "\u001b[0;31mNameError\u001b[0m                                 Traceback (most recent call last)",
      "Cell \u001b[0;32mIn[123], line 19\u001b[0m\n\u001b[1;32m     17\u001b[0m match \u001b[38;5;241m=\u001b[39m re\u001b[38;5;241m.\u001b[39mmatch(pattern, i)\n\u001b[1;32m     18\u001b[0m \u001b[38;5;28;01mif\u001b[39;00m match:\n\u001b[0;32m---> 19\u001b[0m     files \u001b[38;5;241m=\u001b[39m \u001b[43mprocess_files_in_folder\u001b[49m(\u001b[38;5;124m'\u001b[39m\u001b[38;5;124mdaily_stocks/\u001b[39m\u001b[38;5;124m'\u001b[39m\u001b[38;5;241m+\u001b[39mi)\n\u001b[1;32m     20\u001b[0m     \u001b[38;5;28;01mfor\u001b[39;00m i \u001b[38;5;129;01min\u001b[39;00m files:\n\u001b[1;32m     21\u001b[0m         data \u001b[38;5;241m=\u001b[39m pd\u001b[38;5;241m.\u001b[39mconcat([data,pd\u001b[38;5;241m.\u001b[39mread_csv(i)])\n",
      "\u001b[0;31mNameError\u001b[0m: name 'process_files_in_folder' is not defined"
     ]
    }
   ],
   "source": [
    "# import necessary libraries\n",
    "import pandas as pd\n",
    "import os\n",
    "import glob\n",
    "import re\n",
    "path = os.path.join(os.getcwd(),\"daily_stocks\")\n",
    "stocks_data = pd.DataFrame()\n",
    "data_to_analyze = pd.DataFrame()\n",
    "\n",
    "    \n",
    "folders = next(os.walk(\"daily_stocks/\"))[1]\n",
    "data = pd.DataFrame()\n",
    "with alive_bar(len(folders),force_tty=True) as bar:\n",
    "    for i in folders: \n",
    "        bar()\n",
    "        pattern = \"^[A-D].*\"\n",
    "        match = re.match(pattern, i)\n",
    "        if match:\n",
    "            files = process_files_in_folder('daily_stocks/'+i)\n",
    "            for i in files:\n",
    "                data = pd.concat([data,pd.read_csv(i)])"
   ]
  },
  {
   "cell_type": "code",
   "execution_count": 5,
   "id": "a095385c-03dd-48e0-b53d-4dd3fec57646",
   "metadata": {
    "tags": []
   },
   "outputs": [
    {
     "data": {
      "text/plain": [
       "[]"
      ]
     },
     "execution_count": 5,
     "metadata": {},
     "output_type": "execute_result"
    }
   ],
   "source": [
    "data"
   ]
  },
  {
   "cell_type": "code",
   "execution_count": 93,
   "id": "97fa3a5c-d3c5-4df5-8462-3cd6f6df14ee",
   "metadata": {},
   "outputs": [
    {
     "data": {
      "text/plain": [
       "datetime.date(2022, 2, 17)"
      ]
     },
     "execution_count": 93,
     "metadata": {},
     "output_type": "execute_result"
    }
   ],
   "source": [
    "#start premarket hour\n",
    "hour_4 = datetime.time(hour=4)\n",
    "#start market hour\n",
    "hour_9 = datetime.time(hour=9)\n",
    "#closed time \n",
    "hour_16 = datetime.time(hour=16)\n",
    "data_market = []\n",
    "\n",
    "data.columns = [\"index\",\"volume\",\"w_volumen\",\"open\",\"close\",\"high\",\"low\",\"time\",\"#transactions\",\"symbol\"]\n",
    "datetime.date.fromtimestamp(data.time.iloc[0]/1000)\n",
    "#data['time'] = pd.to_datetime(data.time)\n",
    "#print(data.loc[0].head())"
   ]
  },
  {
   "cell_type": "code",
   "execution_count": 83,
   "id": "2e925747-be79-425d-85c4-759678ad0b46",
   "metadata": {},
   "outputs": [
    {
     "name": "stdout",
     "output_type": "stream",
     "text": [
      "|████████████████████████████████████████| 42265/42265 [100%] in 2:13:49.9 (5.26\n"
     ]
    }
   ],
   "source": [
    "#get red closes\n",
    "red_closes = []\n",
    "last_symbol = \"\"\n",
    "last_date = None\n",
    "data = []\n",
    "import math\n",
    "with alive_bar(len(days)-(30499+22242),force_tty=True) as bar:\n",
    "    for i in range(30499+22242,len(days)):\n",
    "        bar()\n",
    "        date_aux = datetime.datetime.strptime(days.iloc[i]['date'],'%m/%d/%Y')\n",
    "        if(isinstance((days.iloc[i]['symbol']),str) or not math.isnan(days.iloc[i]['symbol'])):\n",
    "            aux = client.get_daily_open_close(days.iloc[i]['symbol'],date_aux)\n",
    "            data.append(aux)\n",
    "            if (aux['close']-aux['open'])/aux['open'] <0:\n",
    "                red_closes.append(days.iloc[i])"
   ]
  },
  {
   "cell_type": "code",
   "execution_count": 16,
   "id": "f1b8db81-0004-467e-b147-539954df0fbd",
   "metadata": {
    "tags": []
   },
   "outputs": [
    {
     "name": "stdout",
     "output_type": "stream",
     "text": [
      "             date symbol\n",
      "0      03/12/2020     AA\n",
      "1      03/13/2020     AA\n",
      "2      03/18/2020     AA\n",
      "3      03/19/2020     AA\n",
      "4      03/23/2020     AA\n",
      "...           ...    ...\n",
      "95001  04/14/2023   HUBC\n",
      "95002  04/14/2023   CRBP\n",
      "95003  04/14/2023   BITF\n",
      "95004  04/14/2023   ALLR\n",
      "95005  04/14/2023   MNMD\n",
      "\n",
      "[95006 rows x 2 columns]\n"
     ]
    }
   ],
   "source": [
    "print(days.)"
   ]
  },
  {
   "cell_type": "code",
   "execution_count": 22,
   "id": "468f9e97-875b-479c-bbc2-78c886d88a35",
   "metadata": {
    "tags": []
   },
   "outputs": [
    {
     "name": "stdout",
     "output_type": "stream",
     "text": [
      "22241\n",
      "95006\n"
     ]
    }
   ],
   "source": [
    "red_closes1=red_closes\n",
    "x = pd.read_csv(\"data3.csv\")\n",
    "print(len(x))\n",
    "print(len(days))"
   ]
  },
  {
   "cell_type": "code",
   "execution_count": 62,
   "id": "619277b0-046d-4a9e-a6bf-16a40ed0a118",
   "metadata": {
    "tags": []
   },
   "outputs": [],
   "source": [
    "pd.DataFrame(data).to_csv(\"data3.csv\")\n",
    "pd.DataFrame(np.array(red_closes)).to_csv(\"red_3.csv\")"
   ]
  },
  {
   "cell_type": "code",
   "execution_count": 71,
   "id": "bdf72ed1-5125-4521-9531-eac28f035ab6",
   "metadata": {
    "tags": []
   },
   "outputs": [
    {
     "name": "stdout",
     "output_type": "stream",
     "text": [
      "<class 'pandas.core.frame.DataFrame'>\n"
     ]
    }
   ],
   "source": [
    "red_closes = pd.DataFrame(np.array(red_closes))\n",
    "red_closes.columns=['date','symbol']\n",
    "red_closes.to_csv('red_3.csv')\n",
    "print(type(red_closes))"
   ]
  },
  {
   "cell_type": "code",
   "execution_count": 6,
   "id": "83827009-3bbd-4ad2-a6ee-dad54e9c49ba",
   "metadata": {
    "tags": []
   },
   "outputs": [],
   "source": [
    "red1 = pd.read_csv('red_1.csv')\n",
    "red2 = pd.read_csv('red_2.csv')\n",
    "red3 = pd.read_csv('red_3.csv')"
   ]
  },
  {
   "cell_type": "code",
   "execution_count": 12,
   "id": "3de8cf2c-0664-4254-9b8c-3a438b5540cb",
   "metadata": {
    "tags": []
   },
   "outputs": [
    {
     "data": {
      "text/plain": [
       "25789"
      ]
     },
     "execution_count": 12,
     "metadata": {},
     "output_type": "execute_result"
    }
   ],
   "source": [
    "red_closes = pd.concat([red1,red2,red3])\n",
    "len(x['symbol'])"
   ]
  },
  {
   "cell_type": "code",
   "execution_count": 10,
   "id": "5349a236-72b2-426c-8ecb-24fca337546d",
   "metadata": {
    "tags": []
   },
   "outputs": [
    {
     "name": "stdout",
     "output_type": "stream",
     "text": [
      "|█▏⚠︎                                     | (!) 719/25789 [3%] in 1.1s (676.12/s)\n"
     ]
    },
    {
     "ename": "KeyboardInterrupt",
     "evalue": "",
     "output_type": "error",
     "traceback": [
      "\u001b[0;31m---------------------------------------------------------------------------\u001b[0m",
      "\u001b[0;31mKeyboardInterrupt\u001b[0m                         Traceback (most recent call last)",
      "Cell \u001b[0;32mIn[10], line 6\u001b[0m\n\u001b[1;32m      4\u001b[0m \u001b[38;5;28;01mif\u001b[39;00m(\u001b[38;5;28misinstance\u001b[39m((i[\u001b[38;5;241m1\u001b[39m][\u001b[38;5;124m'\u001b[39m\u001b[38;5;124msymbol\u001b[39m\u001b[38;5;124m'\u001b[39m]),\u001b[38;5;28mstr\u001b[39m) \u001b[38;5;129;01mor\u001b[39;00m \u001b[38;5;129;01mnot\u001b[39;00m math\u001b[38;5;241m.\u001b[39misnan(i[\u001b[38;5;241m1\u001b[39m][\u001b[38;5;124m'\u001b[39m\u001b[38;5;124msymbol\u001b[39m\u001b[38;5;124m'\u001b[39m])):\n\u001b[1;32m      5\u001b[0m     \u001b[38;5;28;01mif\u001b[39;00m(os\u001b[38;5;241m.\u001b[39mpath\u001b[38;5;241m.\u001b[39mexists(\u001b[38;5;124m'\u001b[39m\u001b[38;5;124mdaily_stocks/\u001b[39m\u001b[38;5;124m'\u001b[39m \u001b[38;5;241m+\u001b[39m i[\u001b[38;5;241m1\u001b[39m][\u001b[38;5;124m'\u001b[39m\u001b[38;5;124msymbol\u001b[39m\u001b[38;5;124m'\u001b[39m] \u001b[38;5;241m+\u001b[39m\u001b[38;5;124m\"\u001b[39m\u001b[38;5;124m/\u001b[39m\u001b[38;5;124m\"\u001b[39m\u001b[38;5;241m+\u001b[39mi[\u001b[38;5;241m1\u001b[39m][\u001b[38;5;124m'\u001b[39m\u001b[38;5;124mdate\u001b[39m\u001b[38;5;124m'\u001b[39m]\u001b[38;5;241m.\u001b[39mreplace(\u001b[38;5;124m\"\u001b[39m\u001b[38;5;124m/\u001b[39m\u001b[38;5;124m\"\u001b[39m,\u001b[38;5;124m\"\u001b[39m\u001b[38;5;124m-\u001b[39m\u001b[38;5;124m\"\u001b[39m) \u001b[38;5;241m+\u001b[39m\u001b[38;5;124m\"\u001b[39m\u001b[38;5;124m.csv\u001b[39m\u001b[38;5;124m\"\u001b[39m)):\n\u001b[0;32m----> 6\u001b[0m         aux \u001b[38;5;241m=\u001b[39m \u001b[43mpd\u001b[49m\u001b[38;5;241;43m.\u001b[39;49m\u001b[43mread_csv\u001b[49m\u001b[43m(\u001b[49m\u001b[38;5;124;43m'\u001b[39;49m\u001b[38;5;124;43mdaily_stocks/\u001b[39;49m\u001b[38;5;124;43m'\u001b[39;49m\u001b[43m \u001b[49m\u001b[38;5;241;43m+\u001b[39;49m\u001b[43m \u001b[49m\u001b[43mi\u001b[49m\u001b[43m[\u001b[49m\u001b[38;5;241;43m1\u001b[39;49m\u001b[43m]\u001b[49m\u001b[43m[\u001b[49m\u001b[38;5;124;43m'\u001b[39;49m\u001b[38;5;124;43msymbol\u001b[39;49m\u001b[38;5;124;43m'\u001b[39;49m\u001b[43m]\u001b[49m\u001b[43m \u001b[49m\u001b[38;5;241;43m+\u001b[39;49m\u001b[38;5;124;43m\"\u001b[39;49m\u001b[38;5;124;43m/\u001b[39;49m\u001b[38;5;124;43m\"\u001b[39;49m\u001b[38;5;241;43m+\u001b[39;49m\u001b[43mi\u001b[49m\u001b[43m[\u001b[49m\u001b[38;5;241;43m1\u001b[39;49m\u001b[43m]\u001b[49m\u001b[43m[\u001b[49m\u001b[38;5;124;43m'\u001b[39;49m\u001b[38;5;124;43mdate\u001b[39;49m\u001b[38;5;124;43m'\u001b[39;49m\u001b[43m]\u001b[49m\u001b[38;5;241;43m.\u001b[39;49m\u001b[43mreplace\u001b[49m\u001b[43m(\u001b[49m\u001b[38;5;124;43m\"\u001b[39;49m\u001b[38;5;124;43m/\u001b[39;49m\u001b[38;5;124;43m\"\u001b[39;49m\u001b[43m,\u001b[49m\u001b[38;5;124;43m\"\u001b[39;49m\u001b[38;5;124;43m-\u001b[39;49m\u001b[38;5;124;43m\"\u001b[39;49m\u001b[43m)\u001b[49m\u001b[43m \u001b[49m\u001b[38;5;241;43m+\u001b[39;49m\u001b[38;5;124;43m\"\u001b[39;49m\u001b[38;5;124;43m.csv\u001b[39;49m\u001b[38;5;124;43m\"\u001b[39;49m\u001b[43m)\u001b[49m\n\u001b[1;32m      7\u001b[0m     \u001b[38;5;28;01melse\u001b[39;00m:\n\u001b[1;32m      8\u001b[0m         \u001b[38;5;28;01mcontinue\u001b[39;00m\n",
      "File \u001b[0;32m~/.local/lib/python3.10/site-packages/pandas/util/_decorators.py:311\u001b[0m, in \u001b[0;36mdeprecate_nonkeyword_arguments.<locals>.decorate.<locals>.wrapper\u001b[0;34m(*args, **kwargs)\u001b[0m\n\u001b[1;32m    305\u001b[0m \u001b[38;5;28;01mif\u001b[39;00m \u001b[38;5;28mlen\u001b[39m(args) \u001b[38;5;241m>\u001b[39m num_allow_args:\n\u001b[1;32m    306\u001b[0m     warnings\u001b[38;5;241m.\u001b[39mwarn(\n\u001b[1;32m    307\u001b[0m         msg\u001b[38;5;241m.\u001b[39mformat(arguments\u001b[38;5;241m=\u001b[39marguments),\n\u001b[1;32m    308\u001b[0m         \u001b[38;5;167;01mFutureWarning\u001b[39;00m,\n\u001b[1;32m    309\u001b[0m         stacklevel\u001b[38;5;241m=\u001b[39mstacklevel,\n\u001b[1;32m    310\u001b[0m     )\n\u001b[0;32m--> 311\u001b[0m \u001b[38;5;28;01mreturn\u001b[39;00m \u001b[43mfunc\u001b[49m\u001b[43m(\u001b[49m\u001b[38;5;241;43m*\u001b[39;49m\u001b[43margs\u001b[49m\u001b[43m,\u001b[49m\u001b[43m \u001b[49m\u001b[38;5;241;43m*\u001b[39;49m\u001b[38;5;241;43m*\u001b[39;49m\u001b[43mkwargs\u001b[49m\u001b[43m)\u001b[49m\n",
      "File \u001b[0;32m~/.local/lib/python3.10/site-packages/pandas/io/parsers/readers.py:680\u001b[0m, in \u001b[0;36mread_csv\u001b[0;34m(filepath_or_buffer, sep, delimiter, header, names, index_col, usecols, squeeze, prefix, mangle_dupe_cols, dtype, engine, converters, true_values, false_values, skipinitialspace, skiprows, skipfooter, nrows, na_values, keep_default_na, na_filter, verbose, skip_blank_lines, parse_dates, infer_datetime_format, keep_date_col, date_parser, dayfirst, cache_dates, iterator, chunksize, compression, thousands, decimal, lineterminator, quotechar, quoting, doublequote, escapechar, comment, encoding, encoding_errors, dialect, error_bad_lines, warn_bad_lines, on_bad_lines, delim_whitespace, low_memory, memory_map, float_precision, storage_options)\u001b[0m\n\u001b[1;32m    665\u001b[0m kwds_defaults \u001b[38;5;241m=\u001b[39m _refine_defaults_read(\n\u001b[1;32m    666\u001b[0m     dialect,\n\u001b[1;32m    667\u001b[0m     delimiter,\n\u001b[0;32m   (...)\u001b[0m\n\u001b[1;32m    676\u001b[0m     defaults\u001b[38;5;241m=\u001b[39m{\u001b[38;5;124m\"\u001b[39m\u001b[38;5;124mdelimiter\u001b[39m\u001b[38;5;124m\"\u001b[39m: \u001b[38;5;124m\"\u001b[39m\u001b[38;5;124m,\u001b[39m\u001b[38;5;124m\"\u001b[39m},\n\u001b[1;32m    677\u001b[0m )\n\u001b[1;32m    678\u001b[0m kwds\u001b[38;5;241m.\u001b[39mupdate(kwds_defaults)\n\u001b[0;32m--> 680\u001b[0m \u001b[38;5;28;01mreturn\u001b[39;00m \u001b[43m_read\u001b[49m\u001b[43m(\u001b[49m\u001b[43mfilepath_or_buffer\u001b[49m\u001b[43m,\u001b[49m\u001b[43m \u001b[49m\u001b[43mkwds\u001b[49m\u001b[43m)\u001b[49m\n",
      "File \u001b[0;32m~/.local/lib/python3.10/site-packages/pandas/io/parsers/readers.py:581\u001b[0m, in \u001b[0;36m_read\u001b[0;34m(filepath_or_buffer, kwds)\u001b[0m\n\u001b[1;32m    578\u001b[0m     \u001b[38;5;28;01mreturn\u001b[39;00m parser\n\u001b[1;32m    580\u001b[0m \u001b[38;5;28;01mwith\u001b[39;00m parser:\n\u001b[0;32m--> 581\u001b[0m     \u001b[38;5;28;01mreturn\u001b[39;00m \u001b[43mparser\u001b[49m\u001b[38;5;241;43m.\u001b[39;49m\u001b[43mread\u001b[49m\u001b[43m(\u001b[49m\u001b[43mnrows\u001b[49m\u001b[43m)\u001b[49m\n",
      "File \u001b[0;32m~/.local/lib/python3.10/site-packages/pandas/io/parsers/readers.py:1269\u001b[0m, in \u001b[0;36mTextFileReader.read\u001b[0;34m(self, nrows)\u001b[0m\n\u001b[1;32m   1266\u001b[0m     \u001b[38;5;28;01melse\u001b[39;00m:\n\u001b[1;32m   1267\u001b[0m         new_rows \u001b[38;5;241m=\u001b[39m \u001b[38;5;28mlen\u001b[39m(index)\n\u001b[0;32m-> 1269\u001b[0m     df \u001b[38;5;241m=\u001b[39m \u001b[43mDataFrame\u001b[49m\u001b[43m(\u001b[49m\u001b[43mcol_dict\u001b[49m\u001b[43m,\u001b[49m\u001b[43m \u001b[49m\u001b[43mcolumns\u001b[49m\u001b[38;5;241;43m=\u001b[39;49m\u001b[43mcolumns\u001b[49m\u001b[43m,\u001b[49m\u001b[43m \u001b[49m\u001b[43mindex\u001b[49m\u001b[38;5;241;43m=\u001b[39;49m\u001b[43mindex\u001b[49m\u001b[43m)\u001b[49m\n\u001b[1;32m   1271\u001b[0m     \u001b[38;5;28mself\u001b[39m\u001b[38;5;241m.\u001b[39m_currow \u001b[38;5;241m+\u001b[39m\u001b[38;5;241m=\u001b[39m new_rows\n\u001b[1;32m   1273\u001b[0m \u001b[38;5;28;01mif\u001b[39;00m \u001b[38;5;28mself\u001b[39m\u001b[38;5;241m.\u001b[39msqueeze \u001b[38;5;129;01mand\u001b[39;00m \u001b[38;5;28mlen\u001b[39m(df\u001b[38;5;241m.\u001b[39mcolumns) \u001b[38;5;241m==\u001b[39m \u001b[38;5;241m1\u001b[39m:\n",
      "File \u001b[0;32m~/.local/lib/python3.10/site-packages/pandas/core/frame.py:636\u001b[0m, in \u001b[0;36mDataFrame.__init__\u001b[0;34m(self, data, index, columns, dtype, copy)\u001b[0m\n\u001b[1;32m    630\u001b[0m     mgr \u001b[38;5;241m=\u001b[39m \u001b[38;5;28mself\u001b[39m\u001b[38;5;241m.\u001b[39m_init_mgr(\n\u001b[1;32m    631\u001b[0m         data, axes\u001b[38;5;241m=\u001b[39m{\u001b[38;5;124m\"\u001b[39m\u001b[38;5;124mindex\u001b[39m\u001b[38;5;124m\"\u001b[39m: index, \u001b[38;5;124m\"\u001b[39m\u001b[38;5;124mcolumns\u001b[39m\u001b[38;5;124m\"\u001b[39m: columns}, dtype\u001b[38;5;241m=\u001b[39mdtype, copy\u001b[38;5;241m=\u001b[39mcopy\n\u001b[1;32m    632\u001b[0m     )\n\u001b[1;32m    634\u001b[0m \u001b[38;5;28;01melif\u001b[39;00m \u001b[38;5;28misinstance\u001b[39m(data, \u001b[38;5;28mdict\u001b[39m):\n\u001b[1;32m    635\u001b[0m     \u001b[38;5;66;03m# GH#38939 de facto copy defaults to False only in non-dict cases\u001b[39;00m\n\u001b[0;32m--> 636\u001b[0m     mgr \u001b[38;5;241m=\u001b[39m \u001b[43mdict_to_mgr\u001b[49m\u001b[43m(\u001b[49m\u001b[43mdata\u001b[49m\u001b[43m,\u001b[49m\u001b[43m \u001b[49m\u001b[43mindex\u001b[49m\u001b[43m,\u001b[49m\u001b[43m \u001b[49m\u001b[43mcolumns\u001b[49m\u001b[43m,\u001b[49m\u001b[43m \u001b[49m\u001b[43mdtype\u001b[49m\u001b[38;5;241;43m=\u001b[39;49m\u001b[43mdtype\u001b[49m\u001b[43m,\u001b[49m\u001b[43m \u001b[49m\u001b[43mcopy\u001b[49m\u001b[38;5;241;43m=\u001b[39;49m\u001b[43mcopy\u001b[49m\u001b[43m,\u001b[49m\u001b[43m \u001b[49m\u001b[43mtyp\u001b[49m\u001b[38;5;241;43m=\u001b[39;49m\u001b[43mmanager\u001b[49m\u001b[43m)\u001b[49m\n\u001b[1;32m    637\u001b[0m \u001b[38;5;28;01melif\u001b[39;00m \u001b[38;5;28misinstance\u001b[39m(data, ma\u001b[38;5;241m.\u001b[39mMaskedArray):\n\u001b[1;32m    638\u001b[0m     \u001b[38;5;28;01mimport\u001b[39;00m \u001b[38;5;21;01mnumpy\u001b[39;00m\u001b[38;5;21;01m.\u001b[39;00m\u001b[38;5;21;01mma\u001b[39;00m\u001b[38;5;21;01m.\u001b[39;00m\u001b[38;5;21;01mmrecords\u001b[39;00m \u001b[38;5;28;01mas\u001b[39;00m \u001b[38;5;21;01mmrecords\u001b[39;00m\n",
      "File \u001b[0;32m~/.local/lib/python3.10/site-packages/pandas/core/internals/construction.py:478\u001b[0m, in \u001b[0;36mdict_to_mgr\u001b[0;34m(data, index, columns, dtype, typ, copy)\u001b[0m\n\u001b[1;32m    475\u001b[0m             arrays\u001b[38;5;241m.\u001b[39mloc[missing] \u001b[38;5;241m=\u001b[39m rhs\n\u001b[1;32m    477\u001b[0m     arrays \u001b[38;5;241m=\u001b[39m \u001b[38;5;28mlist\u001b[39m(arrays)\n\u001b[0;32m--> 478\u001b[0m     columns \u001b[38;5;241m=\u001b[39m \u001b[43mensure_index\u001b[49m\u001b[43m(\u001b[49m\u001b[43mcolumns\u001b[49m\u001b[43m)\u001b[49m\n\u001b[1;32m    480\u001b[0m \u001b[38;5;28;01melse\u001b[39;00m:\n\u001b[1;32m    481\u001b[0m     keys \u001b[38;5;241m=\u001b[39m \u001b[38;5;28mlist\u001b[39m(data\u001b[38;5;241m.\u001b[39mkeys())\n",
      "File \u001b[0;32m~/.local/lib/python3.10/site-packages/pandas/core/indexes/base.py:7041\u001b[0m, in \u001b[0;36mensure_index\u001b[0;34m(index_like, copy)\u001b[0m\n\u001b[1;32m   7039\u001b[0m         \u001b[38;5;28;01mreturn\u001b[39;00m MultiIndex\u001b[38;5;241m.\u001b[39mfrom_arrays(index_like)\n\u001b[1;32m   7040\u001b[0m     \u001b[38;5;28;01melse\u001b[39;00m:\n\u001b[0;32m-> 7041\u001b[0m         \u001b[38;5;28;01mreturn\u001b[39;00m \u001b[43mIndex\u001b[49m\u001b[38;5;241;43m.\u001b[39;49m\u001b[43m_with_infer\u001b[49m\u001b[43m(\u001b[49m\u001b[43mindex_like\u001b[49m\u001b[43m,\u001b[49m\u001b[43m \u001b[49m\u001b[43mcopy\u001b[49m\u001b[38;5;241;43m=\u001b[39;49m\u001b[43mcopy\u001b[49m\u001b[43m,\u001b[49m\u001b[43m \u001b[49m\u001b[43mtupleize_cols\u001b[49m\u001b[38;5;241;43m=\u001b[39;49m\u001b[38;5;28;43;01mFalse\u001b[39;49;00m\u001b[43m)\u001b[49m\n\u001b[1;32m   7042\u001b[0m \u001b[38;5;28;01melse\u001b[39;00m:\n\u001b[1;32m   7043\u001b[0m     \u001b[38;5;28;01mreturn\u001b[39;00m Index\u001b[38;5;241m.\u001b[39m_with_infer(index_like, copy\u001b[38;5;241m=\u001b[39mcopy)\n",
      "File \u001b[0;32m~/.local/lib/python3.10/site-packages/pandas/core/indexes/base.py:686\u001b[0m, in \u001b[0;36mIndex._with_infer\u001b[0;34m(cls, *args, **kwargs)\u001b[0m\n\u001b[1;32m    680\u001b[0m     result \u001b[38;5;241m=\u001b[39m \u001b[38;5;28mcls\u001b[39m(\u001b[38;5;241m*\u001b[39margs, \u001b[38;5;241m*\u001b[39m\u001b[38;5;241m*\u001b[39mkwargs)\n\u001b[1;32m    682\u001b[0m \u001b[38;5;28;01mif\u001b[39;00m result\u001b[38;5;241m.\u001b[39mdtype \u001b[38;5;241m==\u001b[39m _dtype_obj \u001b[38;5;129;01mand\u001b[39;00m \u001b[38;5;129;01mnot\u001b[39;00m result\u001b[38;5;241m.\u001b[39m_is_multi:\n\u001b[1;32m    683\u001b[0m     \u001b[38;5;66;03m# error: Argument 1 to \"maybe_convert_objects\" has incompatible type\u001b[39;00m\n\u001b[1;32m    684\u001b[0m     \u001b[38;5;66;03m# \"Union[ExtensionArray, ndarray[Any, Any]]\"; expected\u001b[39;00m\n\u001b[1;32m    685\u001b[0m     \u001b[38;5;66;03m# \"ndarray[Any, Any]\"\u001b[39;00m\n\u001b[0;32m--> 686\u001b[0m     values \u001b[38;5;241m=\u001b[39m \u001b[43mlib\u001b[49m\u001b[38;5;241;43m.\u001b[39;49m\u001b[43mmaybe_convert_objects\u001b[49m\u001b[43m(\u001b[49m\u001b[43mresult\u001b[49m\u001b[38;5;241;43m.\u001b[39;49m\u001b[43m_values\u001b[49m\u001b[43m)\u001b[49m  \u001b[38;5;66;03m# type: ignore[arg-type]\u001b[39;00m\n\u001b[1;32m    687\u001b[0m     \u001b[38;5;28;01mif\u001b[39;00m values\u001b[38;5;241m.\u001b[39mdtype\u001b[38;5;241m.\u001b[39mkind \u001b[38;5;129;01min\u001b[39;00m [\u001b[38;5;124m\"\u001b[39m\u001b[38;5;124mi\u001b[39m\u001b[38;5;124m\"\u001b[39m, \u001b[38;5;124m\"\u001b[39m\u001b[38;5;124mu\u001b[39m\u001b[38;5;124m\"\u001b[39m, \u001b[38;5;124m\"\u001b[39m\u001b[38;5;124mf\u001b[39m\u001b[38;5;124m\"\u001b[39m]:\n\u001b[1;32m    688\u001b[0m         \u001b[38;5;28;01mreturn\u001b[39;00m Index(values, name\u001b[38;5;241m=\u001b[39mresult\u001b[38;5;241m.\u001b[39mname)\n",
      "File \u001b[0;32m~/.local/lib/python3.10/site-packages/pandas/_libs/lib.pyx:2461\u001b[0m, in \u001b[0;36mpandas._libs.lib.maybe_convert_objects\u001b[0;34m()\u001b[0m\n",
      "File \u001b[0;32m~/.local/lib/python3.10/site-packages/numpy/core/numeric.py:341\u001b[0m, in \u001b[0;36mfull\u001b[0;34m(shape, fill_value, dtype, order, like)\u001b[0m\n\u001b[1;32m    338\u001b[0m     \u001b[38;5;28;01mreturn\u001b[39;00m _full_with_like(shape, fill_value, dtype\u001b[38;5;241m=\u001b[39mdtype, order\u001b[38;5;241m=\u001b[39morder, like\u001b[38;5;241m=\u001b[39mlike)\n\u001b[1;32m    340\u001b[0m \u001b[38;5;28;01mif\u001b[39;00m dtype \u001b[38;5;129;01mis\u001b[39;00m \u001b[38;5;28;01mNone\u001b[39;00m:\n\u001b[0;32m--> 341\u001b[0m     fill_value \u001b[38;5;241m=\u001b[39m \u001b[43masarray\u001b[49m\u001b[43m(\u001b[49m\u001b[43mfill_value\u001b[49m\u001b[43m)\u001b[49m\n\u001b[1;32m    342\u001b[0m     dtype \u001b[38;5;241m=\u001b[39m fill_value\u001b[38;5;241m.\u001b[39mdtype\n\u001b[1;32m    343\u001b[0m a \u001b[38;5;241m=\u001b[39m empty(shape, dtype, order)\n",
      "\u001b[0;31mKeyboardInterrupt\u001b[0m: "
     ]
    }
   ],
   "source": [
    "with alive_bar(len(x),force_tty=True) as bar:\n",
    "    for i in x.iterrows():\n",
    "        bar()\n",
    "        if(isinstance((i[1]['symbol']),str) or not math.isnan(i[1]['symbol'])):\n",
    "            if(os.path.exists('daily_stocks/' + i[1]['symbol'] +\"/\"+i[1]['date'].replace(\"/\",\"-\") +\".csv\")):\n",
    "                aux = pd.read_csv('daily_stocks/' + i[1]['symbol'] +\"/\"+i[1]['date'].replace(\"/\",\"-\") +\".csv\")\n",
    "            else:\n",
    "                continue\n",
    "                date = i[1]['date']\n",
    "                day = datetime.datetime.strptime(date,\"%m/%d/%Y\") + datetime.timedelta(days=1)\n",
    "                day_4 = datetime.datetime.combine(day,hour_4)\n",
    "                day_9 = datetime.datetime.combine(day,hour_9)\n",
    "                day_16 = datetime.datetime.combine(day,hour_16)\n",
    "                aux = client.get_aggregate_bars(i[1]['symbol'],day_4,day_16,timespan='min')\n",
    "                if(aux['status']=='OK' and aux['queryCount']!=0):\n",
    "                    df = pd.DataFrame(aux['results'])\n",
    "                    df['symbol'] = i[1]\n",
    "                    df.to_csv(os.path.join(os.getcwd(),\"daily_stocks\",i[1],i[0].replace('/','-')+\".csv\"))"
   ]
  },
  {
   "cell_type": "code",
   "execution_count": null,
   "id": "b21d6cf1-f68e-4f7c-929b-a7691a33266f",
   "metadata": {},
   "outputs": [],
   "source": []
  },
  {
   "cell_type": "code",
   "execution_count": 26,
   "id": "4a00ed01-d1d2-46e8-831b-c4cc4404fd56",
   "metadata": {},
   "outputs": [
    {
     "name": "stdout",
     "output_type": "stream",
     "text": [
      "Probability of a Red Close for SmallCaps that GAP\n",
      "True:0.2714460139359619\n",
      "False:0.7285539860640381\n"
     ]
    }
   ],
   "source": [
    "print(\"Probability of a Red Close for SmallCaps that GAP\")\n",
    "probaility_of_red_close = (len(days)-len(red_closes))/len(days)\n",
    "\n",
    "print(\"True:\" + str(1-probaility_of_red_close))\n",
    "print(\"False:\" + str(probaility_of_red_close))"
   ]
  },
  {
   "cell_type": "code",
   "execution_count": null,
   "id": "5ae0c971-b5a1-4bf1-bb02-def7a57f2891",
   "metadata": {},
   "outputs": [],
   "source": []
  },
  {
   "cell_type": "code",
   "execution_count": null,
   "id": "4f7762d0-e96f-4730-bf6c-449d41455935",
   "metadata": {},
   "outputs": [],
   "source": []
  }
 ],
 "metadata": {
  "kernelspec": {
   "display_name": "Python 3 (ipykernel)",
   "language": "python",
   "name": "python3"
  },
  "language_info": {
   "codemirror_mode": {
    "name": "ipython",
    "version": 3
   },
   "file_extension": ".py",
   "mimetype": "text/x-python",
   "name": "python",
   "nbconvert_exporter": "python",
   "pygments_lexer": "ipython3",
   "version": "3.10.10"
  }
 },
 "nbformat": 4,
 "nbformat_minor": 5
}
