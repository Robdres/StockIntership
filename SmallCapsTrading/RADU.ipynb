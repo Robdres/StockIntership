{
 "cells": [
  {
   "cell_type": "code",
   "execution_count": 2,
   "id": "65b5b35e-b41f-4527-baae-ce871833ca66",
   "metadata": {
    "tags": []
   },
   "outputs": [],
   "source": [
    "import numpy as np \n",
    "import matplotlib.pyplot as plt \n",
    "import pandas as pd\n",
    "import datetime \n",
    "from polygon import StocksClient\n",
    "from env import POLYGON_API_KEY as api_key\n",
    "import yfinance as yf\n",
    "from tqdm import tqdm\n",
    "from alive_progress import alive_bar\n",
    "import os\n",
    "#Polygon api\n",
    "client = StocksClient(api_key, connect_timeout=10)"
   ]
  },
  {
   "cell_type": "code",
   "execution_count": 3,
   "id": "110f1da6-68d7-4f71-a840-0262bbde2f69",
   "metadata": {
    "tags": []
   },
   "outputs": [],
   "source": [
    "days = pd.read_csv('matchDays.csv',index_col=False)\n",
    "c=50000\n",
    "data = []\n",
    "days.columns = ['date','symbol']\n",
    "hour_4 = datetime.time(hour=4)\n",
    "hour_9 = datetime.time(hour=9)\n",
    "hour_16 = datetime.time(hour=16)\n",
    "\n",
    "#os.mkdir(\"daily_stocks\")"
   ]
  },
  {
   "cell_type": "code",
   "execution_count": 102,
   "id": "d7a47c5f-0b46-41f3-8a91-5b42fb93a03e",
   "metadata": {
    "tags": []
   },
   "outputs": [
    {
     "data": {
      "text/html": [
       "<div>\n",
       "<style scoped>\n",
       "    .dataframe tbody tr th:only-of-type {\n",
       "        vertical-align: middle;\n",
       "    }\n",
       "\n",
       "    .dataframe tbody tr th {\n",
       "        vertical-align: top;\n",
       "    }\n",
       "\n",
       "    .dataframe thead th {\n",
       "        text-align: right;\n",
       "    }\n",
       "</style>\n",
       "<table border=\"1\" class=\"dataframe\">\n",
       "  <thead>\n",
       "    <tr style=\"text-align: right;\">\n",
       "      <th></th>\n",
       "      <th>date</th>\n",
       "      <th>symbol</th>\n",
       "    </tr>\n",
       "  </thead>\n",
       "  <tbody>\n",
       "    <tr>\n",
       "      <th>0</th>\n",
       "      <td>03/12/2020</td>\n",
       "      <td>AA</td>\n",
       "    </tr>\n",
       "    <tr>\n",
       "      <th>1</th>\n",
       "      <td>03/13/2020</td>\n",
       "      <td>AA</td>\n",
       "    </tr>\n",
       "    <tr>\n",
       "      <th>2</th>\n",
       "      <td>03/18/2020</td>\n",
       "      <td>AA</td>\n",
       "    </tr>\n",
       "    <tr>\n",
       "      <th>3</th>\n",
       "      <td>03/19/2020</td>\n",
       "      <td>AA</td>\n",
       "    </tr>\n",
       "    <tr>\n",
       "      <th>4</th>\n",
       "      <td>03/23/2020</td>\n",
       "      <td>AA</td>\n",
       "    </tr>\n",
       "    <tr>\n",
       "      <th>...</th>\n",
       "      <td>...</td>\n",
       "      <td>...</td>\n",
       "    </tr>\n",
       "    <tr>\n",
       "      <th>95001</th>\n",
       "      <td>04/14/2023</td>\n",
       "      <td>HUBC</td>\n",
       "    </tr>\n",
       "    <tr>\n",
       "      <th>95002</th>\n",
       "      <td>04/14/2023</td>\n",
       "      <td>CRBP</td>\n",
       "    </tr>\n",
       "    <tr>\n",
       "      <th>95003</th>\n",
       "      <td>04/14/2023</td>\n",
       "      <td>BITF</td>\n",
       "    </tr>\n",
       "    <tr>\n",
       "      <th>95004</th>\n",
       "      <td>04/14/2023</td>\n",
       "      <td>ALLR</td>\n",
       "    </tr>\n",
       "    <tr>\n",
       "      <th>95005</th>\n",
       "      <td>04/14/2023</td>\n",
       "      <td>MNMD</td>\n",
       "    </tr>\n",
       "  </tbody>\n",
       "</table>\n",
       "<p>95006 rows × 2 columns</p>\n",
       "</div>"
      ],
      "text/plain": [
       "             date symbol\n",
       "0      03/12/2020     AA\n",
       "1      03/13/2020     AA\n",
       "2      03/18/2020     AA\n",
       "3      03/19/2020     AA\n",
       "4      03/23/2020     AA\n",
       "...           ...    ...\n",
       "95001  04/14/2023   HUBC\n",
       "95002  04/14/2023   CRBP\n",
       "95003  04/14/2023   BITF\n",
       "95004  04/14/2023   ALLR\n",
       "95005  04/14/2023   MNMD\n",
       "\n",
       "[95006 rows x 2 columns]"
      ]
     },
     "execution_count": 102,
     "metadata": {},
     "output_type": "execute_result"
    }
   ],
   "source": [
    "days"
   ]
  },
  {
   "cell_type": "markdown",
   "id": "4e753d7f-0411-40a0-a093-b8bee30ddc4a",
   "metadata": {
    "tags": []
   },
   "source": [
    "# Creating the database"
   ]
  },
  {
   "cell_type": "code",
   "execution_count": 122,
   "id": "9decaf9a-59ef-4835-9256-49024384bb62",
   "metadata": {
    "tags": []
   },
   "outputs": [
    {
     "name": "stdout",
     "output_type": "stream",
     "text": [
      "|⚠︎                                       | (!) 1/42263 [0%] in 0.0s (1485.71/s) \n"
     ]
    },
    {
     "ename": "AttributeError",
     "evalue": "'float' object has no attribute 'upper'",
     "output_type": "error",
     "traceback": [
      "\u001b[0;31m---------------------------------------------------------------------------\u001b[0m",
      "\u001b[0;31mAttributeError\u001b[0m                            Traceback (most recent call last)",
      "Cell \u001b[0;32mIn[122], line 15\u001b[0m\n\u001b[1;32m     13\u001b[0m day_16 \u001b[38;5;241m=\u001b[39m datetime\u001b[38;5;241m.\u001b[39mdatetime\u001b[38;5;241m.\u001b[39mcombine(day,hour_16)\n\u001b[1;32m     14\u001b[0m bar()\n\u001b[0;32m---> 15\u001b[0m aux \u001b[38;5;241m=\u001b[39m \u001b[43mclient\u001b[49m\u001b[38;5;241;43m.\u001b[39;49m\u001b[43mget_aggregate_bars\u001b[49m\u001b[43m(\u001b[49m\u001b[43mi\u001b[49m\u001b[43m[\u001b[49m\u001b[38;5;241;43m1\u001b[39;49m\u001b[43m]\u001b[49m\u001b[43m,\u001b[49m\u001b[43mday_4\u001b[49m\u001b[43m,\u001b[49m\u001b[43mday_16\u001b[49m\u001b[43m,\u001b[49m\u001b[43mtimespan\u001b[49m\u001b[38;5;241;43m=\u001b[39;49m\u001b[38;5;124;43m'\u001b[39;49m\u001b[38;5;124;43mmin\u001b[39;49m\u001b[38;5;124;43m'\u001b[39;49m\u001b[43m)\u001b[49m\n\u001b[1;32m     16\u001b[0m \u001b[38;5;28;01mif\u001b[39;00m(\u001b[38;5;129;01mnot\u001b[39;00m os\u001b[38;5;241m.\u001b[39mpath\u001b[38;5;241m.\u001b[39mexists(os\u001b[38;5;241m.\u001b[39mpath\u001b[38;5;241m.\u001b[39mjoin(\u001b[38;5;124m\"\u001b[39m\u001b[38;5;124mdaily_stocks\u001b[39m\u001b[38;5;124m\"\u001b[39m,i[\u001b[38;5;241m1\u001b[39m]))):\n\u001b[1;32m     17\u001b[0m     os\u001b[38;5;241m.\u001b[39mmkdir(os\u001b[38;5;241m.\u001b[39mpath\u001b[38;5;241m.\u001b[39mjoin(\u001b[38;5;124m\"\u001b[39m\u001b[38;5;124mdaily_stocks\u001b[39m\u001b[38;5;124m\"\u001b[39m,i[\u001b[38;5;241m1\u001b[39m]))\n",
      "File \u001b[0;32m~/.local/lib/python3.10/site-packages/polygon/stocks/stocks.py:412\u001b[0m, in \u001b[0;36mSyncStocksClient.get_aggregate_bars\u001b[0;34m(self, symbol, from_date, to_date, adjusted, sort, limit, multiplier, timespan, full_range, run_parallel, max_concurrent_workers, warnings, high_volatility, raw_response)\u001b[0m\n\u001b[1;32m    408\u001b[0m     timespan \u001b[38;5;241m=\u001b[39m \u001b[38;5;124m'\u001b[39m\u001b[38;5;124mminute\u001b[39m\u001b[38;5;124m'\u001b[39m\n\u001b[1;32m    410\u001b[0m timespan, sort \u001b[38;5;241m=\u001b[39m \u001b[38;5;28mself\u001b[39m\u001b[38;5;241m.\u001b[39m_change_enum(timespan, \u001b[38;5;28mstr\u001b[39m), \u001b[38;5;28mself\u001b[39m\u001b[38;5;241m.\u001b[39m_change_enum(sort, \u001b[38;5;28mstr\u001b[39m)\n\u001b[0;32m--> 412\u001b[0m _path \u001b[38;5;241m=\u001b[39m \u001b[38;5;124mf\u001b[39m\u001b[38;5;124m'\u001b[39m\u001b[38;5;124m/v2/aggs/ticker/\u001b[39m\u001b[38;5;132;01m{\u001b[39;00m\u001b[43msymbol\u001b[49m\u001b[38;5;241;43m.\u001b[39;49m\u001b[43mupper\u001b[49m()\u001b[38;5;132;01m}\u001b[39;00m\u001b[38;5;124m/range/\u001b[39m\u001b[38;5;132;01m{\u001b[39;00mmultiplier\u001b[38;5;132;01m}\u001b[39;00m\u001b[38;5;124m/\u001b[39m\u001b[38;5;132;01m{\u001b[39;00mtimespan\u001b[38;5;132;01m}\u001b[39;00m\u001b[38;5;124m/\u001b[39m\u001b[38;5;132;01m{\u001b[39;00mfrom_date\u001b[38;5;132;01m}\u001b[39;00m\u001b[38;5;124m/\u001b[39m\u001b[38;5;132;01m{\u001b[39;00mto_date\u001b[38;5;132;01m}\u001b[39;00m\u001b[38;5;124m'\u001b[39m\n\u001b[1;32m    414\u001b[0m _data \u001b[38;5;241m=\u001b[39m {\u001b[38;5;124m'\u001b[39m\u001b[38;5;124madjusted\u001b[39m\u001b[38;5;124m'\u001b[39m: \u001b[38;5;124m'\u001b[39m\u001b[38;5;124mtrue\u001b[39m\u001b[38;5;124m'\u001b[39m \u001b[38;5;28;01mif\u001b[39;00m adjusted \u001b[38;5;28;01melse\u001b[39;00m \u001b[38;5;124m'\u001b[39m\u001b[38;5;124mfalse\u001b[39m\u001b[38;5;124m'\u001b[39m,\n\u001b[1;32m    415\u001b[0m          \u001b[38;5;124m'\u001b[39m\u001b[38;5;124msort\u001b[39m\u001b[38;5;124m'\u001b[39m: sort,\n\u001b[1;32m    416\u001b[0m          \u001b[38;5;124m'\u001b[39m\u001b[38;5;124mlimit\u001b[39m\u001b[38;5;124m'\u001b[39m: limit}\n\u001b[1;32m    418\u001b[0m _res \u001b[38;5;241m=\u001b[39m \u001b[38;5;28mself\u001b[39m\u001b[38;5;241m.\u001b[39m_get_response(_path, params\u001b[38;5;241m=\u001b[39m_data)\n",
      "\u001b[0;31mAttributeError\u001b[0m: 'float' object has no attribute 'upper'"
     ]
    }
   ],
   "source": [
    "data = []\n",
    "hour_4 = datetime.time(hour=4)\n",
    "hour_9 = datetime.time(hour=9)\n",
    "hour_16 = datetime.time(hour=16)\n",
    "\n",
    "h=0\n",
    "with alive_bar(len(days)-c,force_tty=True) as bar:\n",
    "    for _,i in days[c:].iterrows():\n",
    "        c+=1\n",
    "        day = datetime.datetime.strptime(i[0],\"%m/%d/%Y\") + datetime.timedelta(days=1)\n",
    "        day_4 = datetime.datetime.combine(day,hour_4)\n",
    "        day_9 = datetime.datetime.combine(day,hour_9)\n",
    "        day_16 = datetime.datetime.combine(day,hour_16)\n",
    "        bar()\n",
    "        aux = client.get_aggregate_bars(i[1],day_4,day_16,timespan='min')\n",
    "        if(not os.path.exists(os.path.join(\"daily_stocks\",i[1]))):\n",
    "            os.mkdir(os.path.join(\"daily_stocks\",i[1]))\n",
    "        if(aux['status']=='OK' and aux['queryCount']!=0):\n",
    "            df = pd.DataFrame(aux['results'])\n",
    "            df['symbol'] = i[1]\n",
    "            df.to_csv(os.path.join(os.getcwd(),\"daily_stocks\",i[1],i[0].replace('/','-')+\".csv\"))"
   ]
  },
  {
   "cell_type": "markdown",
   "id": "4f44f342-f000-4ef6-8c94-54cbb6a0bc21",
   "metadata": {
    "tags": []
   },
   "source": [
    "# Important Functions to get data"
   ]
  },
  {
   "cell_type": "code",
   "execution_count": 17,
   "id": "a43c30ec-e68d-4c33-9a6e-d93075f706b5",
   "metadata": {
    "tags": []
   },
   "outputs": [],
   "source": [
    "#function to get files in a folder\n",
    "def process_files_in_folder(folder_path):\n",
    "    filenames =[] \n",
    "    for filename in os.listdir(folder_path):\n",
    "        file_path = os.path.join(folder_path, filename)\n",
    "        if os.path.isfile(file_path):\n",
    "            # Process the file here\n",
    "            filenames.append(file_path)\n",
    "        elif os.path.isdir(file_path):\n",
    "            # Recursively call this function for subfolders\n",
    "            process_files_in_folder(file_path)\n",
    "    return filenames\n",
    "\n",
    "\n",
    "#Function to get data from an specific date and stock\n",
    "def getDataDayStock(stock,date):\n",
    "    day = datetime.datetime.strptime(date,\"%m-%d-%Y\") + datetime.timedelta(days=1)\n",
    "    day_4 = datetime.datetime.combine(day,hour_4)\n",
    "    day_9 = datetime.datetime.combine(day,hour_9)\n",
    "    day_16 = datetime.datetime.combine(day,hour_16)\n",
    "    aux = client.get_aggregate_bars(stock,day_4,day_16,timespan='min')\n",
    "    if(not os.path.exists(os.path.join(\"daily_stocks\",stock))):\n",
    "        os.mkdir(os.path.join(\"daily_stocks\",stock))\n",
    "    if(aux['status']=='OK' and aux['queryCount']!=0):\n",
    "        df = pd.DataFrame(aux['results'])\n",
    "        df['symbol'] = stock\n",
    "        df.to_csv(os.path.join(os.getcwd(),\"daily_stocks\",stock,date+\".csv\"))\n",
    "    return pd.read_csv(os.path.join(os.getcwd(),\"daily_stocks\",stock,date+\".csv\"),index_col=False)\n",
    "\n",
    "#function to manage changes because of a split\n",
    "def checkChanges(path):\n",
    "    fileName = process_files_in_folder(path)\n",
    "    aux = fileName[0].split(\"/\")[1:]\n",
    "    stock = aux[0]\n",
    "    date = aux[1].split(\".\")[0]\n",
    "    temp_file = pd.read_csv(os.path.join(os.getcwd(),\"daily_stocks\",stock,date+\".csv\"),index_col=False)\n",
    "    df = getDataDayStock(stock,date)\n",
    "    if (temp_file.iloc[0].o == df.iloc[0].o):\n",
    "        print(\"No changes in \"+stock)\n",
    "    else:\n",
    "        for i in fileName:\n",
    "            aux = i.split(\"/\")[1:]\n",
    "            stock = aux[0]\n",
    "            date = aux[1].split(\".\")[0]\n",
    "            getDataDayStock(stock,date)\n",
    "\n",
    "def checkChangesDividends(path):\n",
    "    fileName = process_files_in_folder(path)\n",
    "    aux = fileName[0].split(\"/\")[1:]\n",
    "    stock = aux[0]\n",
    "    date = aux[1].split(\".\")[0]\n",
    "    temp_file = pd.read_csv(os.path.join(os.getcwd(),\"daily_stocks\",stock,date+\".csv\"),index_col=False)\n",
    "    df = getDataDayStock(stock,date)\n"
   ]
  },
  {
   "cell_type": "code",
   "execution_count": 18,
   "id": "c94b9c12-52cc-4ff3-b47f-ca23c5a05cf5",
   "metadata": {
    "tags": []
   },
   "outputs": [
    {
     "name": "stdout",
     "output_type": "stream",
     "text": [
      "No changes in AA\n"
     ]
    }
   ],
   "source": [
    "checkChanges(\"daily_stocks/AA\")"
   ]
  },
  {
   "cell_type": "code",
   "execution_count": 123,
   "id": "21844ea7-4a4e-4536-81df-4214b5289451",
   "metadata": {
    "tags": []
   },
   "outputs": [
    {
     "name": "stdout",
     "output_type": "stream",
     "text": [
      "|⚠︎                                       | (!) 7/5579 [0%] in 0.0s (10647.79/s) \n"
     ]
    },
    {
     "ename": "NameError",
     "evalue": "name 'process_files_in_folder' is not defined",
     "output_type": "error",
     "traceback": [
      "\u001b[0;31m---------------------------------------------------------------------------\u001b[0m",
      "\u001b[0;31mNameError\u001b[0m                                 Traceback (most recent call last)",
      "Cell \u001b[0;32mIn[123], line 19\u001b[0m\n\u001b[1;32m     17\u001b[0m match \u001b[38;5;241m=\u001b[39m re\u001b[38;5;241m.\u001b[39mmatch(pattern, i)\n\u001b[1;32m     18\u001b[0m \u001b[38;5;28;01mif\u001b[39;00m match:\n\u001b[0;32m---> 19\u001b[0m     files \u001b[38;5;241m=\u001b[39m \u001b[43mprocess_files_in_folder\u001b[49m(\u001b[38;5;124m'\u001b[39m\u001b[38;5;124mdaily_stocks/\u001b[39m\u001b[38;5;124m'\u001b[39m\u001b[38;5;241m+\u001b[39mi)\n\u001b[1;32m     20\u001b[0m     \u001b[38;5;28;01mfor\u001b[39;00m i \u001b[38;5;129;01min\u001b[39;00m files:\n\u001b[1;32m     21\u001b[0m         data \u001b[38;5;241m=\u001b[39m pd\u001b[38;5;241m.\u001b[39mconcat([data,pd\u001b[38;5;241m.\u001b[39mread_csv(i)])\n",
      "\u001b[0;31mNameError\u001b[0m: name 'process_files_in_folder' is not defined"
     ]
    }
   ],
   "source": [
    "# import necessary libraries\n",
    "import pandas as pd\n",
    "import os\n",
    "import glob\n",
    "import re\n",
    "path = os.path.join(os.getcwd(),\"daily_stocks\")\n",
    "stocks_data = pd.DataFrame()\n",
    "data_to_analyze = pd.DataFrame()\n",
    "\n",
    "    \n",
    "folders = next(os.walk(\"daily_stocks/\"))[1]\n",
    "data = pd.DataFrame()\n",
    "with alive_bar(len(folders),force_tty=True) as bar:\n",
    "    for i in folders: \n",
    "        bar()\n",
    "        pattern = \"^[A-D].*\"\n",
    "        match = re.match(pattern, i)\n",
    "        if match:\n",
    "            files = process_files_in_folder('daily_stocks/'+i)\n",
    "            for i in files:\n",
    "                data = pd.concat([data,pd.read_csv(i)])"
   ]
  },
  {
   "cell_type": "code",
   "execution_count": 82,
   "id": "a095385c-03dd-48e0-b53d-4dd3fec57646",
   "metadata": {
    "tags": []
   },
   "outputs": [
    {
     "data": {
      "text/html": [
       "<div>\n",
       "<style scoped>\n",
       "    .dataframe tbody tr th:only-of-type {\n",
       "        vertical-align: middle;\n",
       "    }\n",
       "\n",
       "    .dataframe tbody tr th {\n",
       "        vertical-align: top;\n",
       "    }\n",
       "\n",
       "    .dataframe thead th {\n",
       "        text-align: right;\n",
       "    }\n",
       "</style>\n",
       "<table border=\"1\" class=\"dataframe\">\n",
       "  <thead>\n",
       "    <tr style=\"text-align: right;\">\n",
       "      <th></th>\n",
       "      <th>Unnamed: 0</th>\n",
       "      <th>v</th>\n",
       "      <th>vw</th>\n",
       "      <th>o</th>\n",
       "      <th>c</th>\n",
       "      <th>h</th>\n",
       "      <th>l</th>\n",
       "      <th>t</th>\n",
       "      <th>n</th>\n",
       "      <th>symbol</th>\n",
       "    </tr>\n",
       "  </thead>\n",
       "  <tbody>\n",
       "    <tr>\n",
       "      <th>0</th>\n",
       "      <td>0</td>\n",
       "      <td>12324.0</td>\n",
       "      <td>36.6607</td>\n",
       "      <td>36.6600</td>\n",
       "      <td>36.6600</td>\n",
       "      <td>36.660</td>\n",
       "      <td>36.6600</td>\n",
       "      <td>1645108200000</td>\n",
       "      <td>70</td>\n",
       "      <td>AMCX</td>\n",
       "    </tr>\n",
       "    <tr>\n",
       "      <th>1</th>\n",
       "      <td>1</td>\n",
       "      <td>885.0</td>\n",
       "      <td>36.6457</td>\n",
       "      <td>36.5895</td>\n",
       "      <td>36.6500</td>\n",
       "      <td>36.745</td>\n",
       "      <td>36.5895</td>\n",
       "      <td>1645108260000</td>\n",
       "      <td>18</td>\n",
       "      <td>AMCX</td>\n",
       "    </tr>\n",
       "    <tr>\n",
       "      <th>2</th>\n",
       "      <td>2</td>\n",
       "      <td>3365.0</td>\n",
       "      <td>36.8999</td>\n",
       "      <td>36.8200</td>\n",
       "      <td>36.7803</td>\n",
       "      <td>36.980</td>\n",
       "      <td>36.7000</td>\n",
       "      <td>1645108320000</td>\n",
       "      <td>15</td>\n",
       "      <td>AMCX</td>\n",
       "    </tr>\n",
       "    <tr>\n",
       "      <th>3</th>\n",
       "      <td>3</td>\n",
       "      <td>2328.0</td>\n",
       "      <td>36.7223</td>\n",
       "      <td>36.6800</td>\n",
       "      <td>36.7200</td>\n",
       "      <td>36.850</td>\n",
       "      <td>36.6800</td>\n",
       "      <td>1645108380000</td>\n",
       "      <td>42</td>\n",
       "      <td>AMCX</td>\n",
       "    </tr>\n",
       "    <tr>\n",
       "      <th>4</th>\n",
       "      <td>4</td>\n",
       "      <td>1603.0</td>\n",
       "      <td>36.8695</td>\n",
       "      <td>36.8155</td>\n",
       "      <td>36.8750</td>\n",
       "      <td>36.945</td>\n",
       "      <td>36.8155</td>\n",
       "      <td>1645108440000</td>\n",
       "      <td>19</td>\n",
       "      <td>AMCX</td>\n",
       "    </tr>\n",
       "    <tr>\n",
       "      <th>...</th>\n",
       "      <td>...</td>\n",
       "      <td>...</td>\n",
       "      <td>...</td>\n",
       "      <td>...</td>\n",
       "      <td>...</td>\n",
       "      <td>...</td>\n",
       "      <td>...</td>\n",
       "      <td>...</td>\n",
       "      <td>...</td>\n",
       "      <td>...</td>\n",
       "    </tr>\n",
       "    <tr>\n",
       "      <th>155</th>\n",
       "      <td>155</td>\n",
       "      <td>144.0</td>\n",
       "      <td>16.9219</td>\n",
       "      <td>16.9300</td>\n",
       "      <td>16.9300</td>\n",
       "      <td>16.930</td>\n",
       "      <td>16.9300</td>\n",
       "      <td>1623254160000</td>\n",
       "      <td>4</td>\n",
       "      <td>ACRS</td>\n",
       "    </tr>\n",
       "    <tr>\n",
       "      <th>156</th>\n",
       "      <td>156</td>\n",
       "      <td>208.0</td>\n",
       "      <td>16.9105</td>\n",
       "      <td>16.9300</td>\n",
       "      <td>16.8900</td>\n",
       "      <td>16.930</td>\n",
       "      <td>16.8900</td>\n",
       "      <td>1623254220000</td>\n",
       "      <td>5</td>\n",
       "      <td>ACRS</td>\n",
       "    </tr>\n",
       "    <tr>\n",
       "      <th>157</th>\n",
       "      <td>157</td>\n",
       "      <td>817.0</td>\n",
       "      <td>16.9334</td>\n",
       "      <td>16.9400</td>\n",
       "      <td>16.9200</td>\n",
       "      <td>16.940</td>\n",
       "      <td>16.9200</td>\n",
       "      <td>1623254280000</td>\n",
       "      <td>16</td>\n",
       "      <td>ACRS</td>\n",
       "    </tr>\n",
       "    <tr>\n",
       "      <th>158</th>\n",
       "      <td>158</td>\n",
       "      <td>621.0</td>\n",
       "      <td>16.9620</td>\n",
       "      <td>16.9500</td>\n",
       "      <td>16.9750</td>\n",
       "      <td>16.975</td>\n",
       "      <td>16.9500</td>\n",
       "      <td>1623254340000</td>\n",
       "      <td>17</td>\n",
       "      <td>ACRS</td>\n",
       "    </tr>\n",
       "    <tr>\n",
       "      <th>159</th>\n",
       "      <td>159</td>\n",
       "      <td>496.0</td>\n",
       "      <td>16.9585</td>\n",
       "      <td>16.9401</td>\n",
       "      <td>16.9650</td>\n",
       "      <td>16.965</td>\n",
       "      <td>16.9401</td>\n",
       "      <td>1623254400000</td>\n",
       "      <td>10</td>\n",
       "      <td>ACRS</td>\n",
       "    </tr>\n",
       "  </tbody>\n",
       "</table>\n",
       "<p>165228 rows × 10 columns</p>\n",
       "</div>"
      ],
      "text/plain": [
       "     Unnamed: 0        v       vw        o        c       h        l  \\\n",
       "0             0  12324.0  36.6607  36.6600  36.6600  36.660  36.6600   \n",
       "1             1    885.0  36.6457  36.5895  36.6500  36.745  36.5895   \n",
       "2             2   3365.0  36.8999  36.8200  36.7803  36.980  36.7000   \n",
       "3             3   2328.0  36.7223  36.6800  36.7200  36.850  36.6800   \n",
       "4             4   1603.0  36.8695  36.8155  36.8750  36.945  36.8155   \n",
       "..          ...      ...      ...      ...      ...     ...      ...   \n",
       "155         155    144.0  16.9219  16.9300  16.9300  16.930  16.9300   \n",
       "156         156    208.0  16.9105  16.9300  16.8900  16.930  16.8900   \n",
       "157         157    817.0  16.9334  16.9400  16.9200  16.940  16.9200   \n",
       "158         158    621.0  16.9620  16.9500  16.9750  16.975  16.9500   \n",
       "159         159    496.0  16.9585  16.9401  16.9650  16.965  16.9401   \n",
       "\n",
       "                 t   n symbol  \n",
       "0    1645108200000  70   AMCX  \n",
       "1    1645108260000  18   AMCX  \n",
       "2    1645108320000  15   AMCX  \n",
       "3    1645108380000  42   AMCX  \n",
       "4    1645108440000  19   AMCX  \n",
       "..             ...  ..    ...  \n",
       "155  1623254160000   4   ACRS  \n",
       "156  1623254220000   5   ACRS  \n",
       "157  1623254280000  16   ACRS  \n",
       "158  1623254340000  17   ACRS  \n",
       "159  1623254400000  10   ACRS  \n",
       "\n",
       "[165228 rows x 10 columns]"
      ]
     },
     "execution_count": 82,
     "metadata": {},
     "output_type": "execute_result"
    }
   ],
   "source": [
    "data"
   ]
  },
  {
   "cell_type": "code",
   "execution_count": 93,
   "id": "97fa3a5c-d3c5-4df5-8462-3cd6f6df14ee",
   "metadata": {},
   "outputs": [
    {
     "data": {
      "text/plain": [
       "datetime.date(2022, 2, 17)"
      ]
     },
     "execution_count": 93,
     "metadata": {},
     "output_type": "execute_result"
    }
   ],
   "source": [
    "#start premarket hour\n",
    "hour_4 = datetime.time(hour=4)\n",
    "#start market hour\n",
    "hour_9 = datetime.time(hour=9)\n",
    "#closed time \n",
    "hour_16 = datetime.time(hour=16)\n",
    "data_market = []\n",
    "\n",
    "data.columns = [\"index\",\"volume\",\"w_volumen\",\"open\",\"close\",\"high\",\"low\",\"time\",\"#transactions\",\"symbol\"]\n",
    "datetime.date.fromtimestamp(data.time.iloc[0]/1000)\n",
    "#data['time'] = pd.to_datetime(data.time)\n",
    "#print(data.loc[0].head())"
   ]
  },
  {
   "cell_type": "code",
   "execution_count": 83,
   "id": "2e925747-be79-425d-85c4-759678ad0b46",
   "metadata": {},
   "outputs": [
    {
     "name": "stdout",
     "output_type": "stream",
     "text": [
      "|████████████████████████████████████████| 42265/42265 [100%] in 2:13:49.9 (5.26\n"
     ]
    }
   ],
   "source": [
    "#get red closes\n",
    "red_closes = []\n",
    "last_symbol = \"\"\n",
    "last_date = None\n",
    "data = []\n",
    "import math\n",
    "with alive_bar(len(days)-(30499+22242),force_tty=True) as bar:\n",
    "    for i in range(30499+22242,len(days)):\n",
    "        bar()\n",
    "        date_aux = datetime.datetime.strptime(days.iloc[i]['date'],'%m/%d/%Y')\n",
    "        if(isinstance((days.iloc[i]['symbol']),str) or not math.isnan(days.iloc[i]['symbol'])):\n",
    "            aux = client.get_daily_open_close(days.iloc[i]['symbol'],date_aux)\n",
    "            data.append(aux)\n",
    "            if (aux['close']-aux['open'])/aux['open'] <0:\n",
    "                red_closes.append(days.iloc[i])"
   ]
  },
  {
   "cell_type": "code",
   "execution_count": 16,
   "id": "f1b8db81-0004-467e-b147-539954df0fbd",
   "metadata": {
    "tags": []
   },
   "outputs": [
    {
     "name": "stdout",
     "output_type": "stream",
     "text": [
      "             date symbol\n",
      "0      03/12/2020     AA\n",
      "1      03/13/2020     AA\n",
      "2      03/18/2020     AA\n",
      "3      03/19/2020     AA\n",
      "4      03/23/2020     AA\n",
      "...           ...    ...\n",
      "95001  04/14/2023   HUBC\n",
      "95002  04/14/2023   CRBP\n",
      "95003  04/14/2023   BITF\n",
      "95004  04/14/2023   ALLR\n",
      "95005  04/14/2023   MNMD\n",
      "\n",
      "[95006 rows x 2 columns]\n"
     ]
    }
   ],
   "source": [
    "print(days.)"
   ]
  },
  {
   "cell_type": "code",
   "execution_count": 22,
   "id": "468f9e97-875b-479c-bbc2-78c886d88a35",
   "metadata": {
    "tags": []
   },
   "outputs": [
    {
     "name": "stdout",
     "output_type": "stream",
     "text": [
      "22241\n",
      "95006\n"
     ]
    }
   ],
   "source": [
    "red_closes1=red_closes\n",
    "x = pd.read_csv(\"data3.csv\")\n",
    "print(len(x))\n",
    "print(len(days))"
   ]
  },
  {
   "cell_type": "code",
   "execution_count": 62,
   "id": "619277b0-046d-4a9e-a6bf-16a40ed0a118",
   "metadata": {
    "tags": []
   },
   "outputs": [],
   "source": [
    "pd.DataFrame(data).to_csv(\"data3.csv\")\n",
    "pd.DataFrame(np.array(red_closes)).to_csv(\"red_3.csv\")"
   ]
  },
  {
   "cell_type": "code",
   "execution_count": 71,
   "id": "bdf72ed1-5125-4521-9531-eac28f035ab6",
   "metadata": {
    "tags": []
   },
   "outputs": [
    {
     "name": "stdout",
     "output_type": "stream",
     "text": [
      "<class 'pandas.core.frame.DataFrame'>\n"
     ]
    }
   ],
   "source": [
    "red_closes = pd.DataFrame(np.array(red_closes))\n",
    "red_closes.columns=['date','symbol']\n",
    "red_closes.to_csv('red_3.csv')\n",
    "print(type(red_closes))"
   ]
  },
  {
   "cell_type": "code",
   "execution_count": 73,
   "id": "83827009-3bbd-4ad2-a6ee-dad54e9c49ba",
   "metadata": {
    "tags": []
   },
   "outputs": [
    {
     "data": {
      "text/html": [
       "<div>\n",
       "<style scoped>\n",
       "    .dataframe tbody tr th:only-of-type {\n",
       "        vertical-align: middle;\n",
       "    }\n",
       "\n",
       "    .dataframe tbody tr th {\n",
       "        vertical-align: top;\n",
       "    }\n",
       "\n",
       "    .dataframe thead th {\n",
       "        text-align: right;\n",
       "    }\n",
       "</style>\n",
       "<table border=\"1\" class=\"dataframe\">\n",
       "  <thead>\n",
       "    <tr style=\"text-align: right;\">\n",
       "      <th></th>\n",
       "      <th>Unnamed: 0</th>\n",
       "      <th>date</th>\n",
       "      <th>symbol</th>\n",
       "    </tr>\n",
       "  </thead>\n",
       "  <tbody>\n",
       "    <tr>\n",
       "      <th>0</th>\n",
       "      <td>0</td>\n",
       "      <td>03/18/2020</td>\n",
       "      <td>NAC</td>\n",
       "    </tr>\n",
       "    <tr>\n",
       "      <th>1</th>\n",
       "      <td>1</td>\n",
       "      <td>03/18/2020</td>\n",
       "      <td>NAD</td>\n",
       "    </tr>\n",
       "    <tr>\n",
       "      <th>2</th>\n",
       "      <td>2</td>\n",
       "      <td>02/10/2021</td>\n",
       "      <td>NAII</td>\n",
       "    </tr>\n",
       "    <tr>\n",
       "      <th>3</th>\n",
       "      <td>3</td>\n",
       "      <td>08/16/2021</td>\n",
       "      <td>NAII</td>\n",
       "    </tr>\n",
       "    <tr>\n",
       "      <th>4</th>\n",
       "      <td>4</td>\n",
       "      <td>02/25/2020</td>\n",
       "      <td>NAIL</td>\n",
       "    </tr>\n",
       "    <tr>\n",
       "      <th>5</th>\n",
       "      <td>5</td>\n",
       "      <td>02/28/2020</td>\n",
       "      <td>NAIL</td>\n",
       "    </tr>\n",
       "    <tr>\n",
       "      <th>6</th>\n",
       "      <td>6</td>\n",
       "      <td>03/09/2020</td>\n",
       "      <td>NAIL</td>\n",
       "    </tr>\n",
       "    <tr>\n",
       "      <th>7</th>\n",
       "      <td>7</td>\n",
       "      <td>03/11/2020</td>\n",
       "      <td>NAIL</td>\n",
       "    </tr>\n",
       "    <tr>\n",
       "      <th>8</th>\n",
       "      <td>8</td>\n",
       "      <td>03/12/2020</td>\n",
       "      <td>NAIL</td>\n",
       "    </tr>\n",
       "    <tr>\n",
       "      <th>9</th>\n",
       "      <td>9</td>\n",
       "      <td>03/13/2020</td>\n",
       "      <td>NAIL</td>\n",
       "    </tr>\n",
       "  </tbody>\n",
       "</table>\n",
       "</div>"
      ],
      "text/plain": [
       "   Unnamed: 0        date symbol\n",
       "0           0  03/18/2020    NAC\n",
       "1           1  03/18/2020    NAD\n",
       "2           2  02/10/2021   NAII\n",
       "3           3  08/16/2021   NAII\n",
       "4           4  02/25/2020   NAIL\n",
       "5           5  02/28/2020   NAIL\n",
       "6           6  03/09/2020   NAIL\n",
       "7           7  03/11/2020   NAIL\n",
       "8           8  03/12/2020   NAIL\n",
       "9           9  03/13/2020   NAIL"
      ]
     },
     "execution_count": 73,
     "metadata": {},
     "output_type": "execute_result"
    }
   ],
   "source": [
    "red1 = pd.read_csv('red_1.csv')\n",
    "red2 = pd.read_csv('red_2.csv')\n",
    "red3 = pd.read_csv('red_3.csv')"
   ]
  },
  {
   "cell_type": "code",
   "execution_count": 101,
   "id": "3de8cf2c-0664-4254-9b8c-3a438b5540cb",
   "metadata": {
    "tags": []
   },
   "outputs": [
    {
     "data": {
      "text/plain": [
       "25789"
      ]
     },
     "execution_count": 101,
     "metadata": {},
     "output_type": "execute_result"
    }
   ],
   "source": [
    "x = pd.concat([red1,red2,red3])\n",
    "len(x['symbol'])"
   ]
  },
  {
   "cell_type": "code",
   "execution_count": 124,
   "id": "5349a236-72b2-426c-8ecb-24fca337546d",
   "metadata": {
    "tags": []
   },
   "outputs": [
    {
     "name": "stdout",
     "output_type": "stream",
     "text": [
      "|████████████████████████████████████████| 25789/25789 [100%] in 10:44.8 (39.39/\n"
     ]
    }
   ],
   "source": [
    "with alive_bar(len(x),force_tty=True) as bar:\n",
    "    for i in x.iterrows():\n",
    "        bar()\n",
    "        if(isinstance((i[1]['symbol']),str) or not math.isnan(i[1]['symbol'])):\n",
    "            if(os.path.exists('daily_stocks/' + i[1]['symbol'] +\"/\"+i[1]['date'].replace(\"/\",\"-\") +\".csv\")):\n",
    "                aux = pd.read_csv('daily_stocks/' + i[1]['symbol'] +\"/\"+i[1]['date'].replace(\"/\",\"-\") +\".csv\")\n",
    "            else:\n",
    "                date = i[1]['date']\n",
    "                day = datetime.datetime.strptime(date,\"%m/%d/%Y\") + datetime.timedelta(days=1)\n",
    "                day_4 = datetime.datetime.combine(day,hour_4)\n",
    "                day_9 = datetime.datetime.combine(day,hour_9)\n",
    "                day_16 = datetime.datetime.combine(day,hour_16)\n",
    "                aux = client.get_aggregate_bars(i[1]['symbol'],day_4,day_16,timespan='min')\n",
    "                if(aux['status']=='OK' and aux['queryCount']!=0):\n",
    "                    df = pd.DataFrame(aux['results'])\n",
    "                    df['symbol'] = i[1]\n",
    "                    df.to_csv(os.path.join(os.getcwd(),\"daily_stocks\",i[1],i[0].replace('/','-')+\".csv\"))"
   ]
  },
  {
   "cell_type": "code",
   "execution_count": null,
   "id": "4a00ed01-d1d2-46e8-831b-c4cc4404fd56",
   "metadata": {},
   "outputs": [],
   "source": []
  },
  {
   "cell_type": "code",
   "execution_count": null,
   "id": "5ae0c971-b5a1-4bf1-bb02-def7a57f2891",
   "metadata": {},
   "outputs": [],
   "source": []
  },
  {
   "cell_type": "code",
   "execution_count": null,
   "id": "4f7762d0-e96f-4730-bf6c-449d41455935",
   "metadata": {},
   "outputs": [],
   "source": []
  }
 ],
 "metadata": {
  "kernelspec": {
   "display_name": "Python 3 (ipykernel)",
   "language": "python",
   "name": "python3"
  },
  "language_info": {
   "codemirror_mode": {
    "name": "ipython",
    "version": 3
   },
   "file_extension": ".py",
   "mimetype": "text/x-python",
   "name": "python",
   "nbconvert_exporter": "python",
   "pygments_lexer": "ipython3",
   "version": "3.10.10"
  }
 },
 "nbformat": 4,
 "nbformat_minor": 5
}
