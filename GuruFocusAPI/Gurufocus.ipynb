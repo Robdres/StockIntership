{
 "cells": [
  {
   "cell_type": "code",
   "execution_count": 428,
   "id": "5278e520-0256-43f5-9721-114929838c87",
   "metadata": {
    "tags": []
   },
   "outputs": [],
   "source": [
    "import requests\n",
    "import pandas as pd\n",
    "import json\n",
    "import matplotlib.pyplot as plt\n",
    "from alive_progress import alive_bar\n",
    "api_token = \"55bb5f7a051cefa4483b892d4115fb49:afd837a03ca494a823f6b20cb016f142\""
   ]
  },
  {
   "cell_type": "code",
   "execution_count": 442,
   "id": "c31a38a5-320f-4ae1-acaf-6023bb8fe95d",
   "metadata": {
    "tags": []
   },
   "outputs": [],
   "source": [
    "symbols = ['AAPL','ANET','ASML',\"CHGCY\",\"KO\",\"COST\",\"DLICY\",\"DBSM\",\"DTEGN\",\"LLY\",\"XOM\",\"RACE\",\"GETIB\",\"HON\",\"ICBK\",\"ITX\",\"JPM\",\"LGFRY\",\"OREP\",\"LULU\",\"MQG\",\"MSFT\",\"MSCI\",\"NESN\",\"NKE\",\"NTDOY\",\"NOVO\",\"ORSTED\",\"RIO\",\"SSDIF\",\"SHIN\",\"TCS\",\"TE\",\"V\",\"WEGE3\",\"WLSN\"]"
   ]
  },
  {
   "cell_type": "code",
   "execution_count": 443,
   "id": "1c0baa08-f1d8-4eef-ab30-63c9997afc82",
   "metadata": {
    "tags": []
   },
   "outputs": [
    {
     "data": {
      "text/plain": [
       "36"
      ]
     },
     "execution_count": 443,
     "metadata": {},
     "output_type": "execute_result"
    }
   ],
   "source": [
    "len(symbols)"
   ]
  },
  {
   "cell_type": "markdown",
   "id": "63351fce-5c16-45e8-8471-da9a1f3a675d",
   "metadata": {},
   "source": [
    "# Get indicators"
   ]
  },
  {
   "cell_type": "code",
   "execution_count": 54,
   "id": "14d2445d-014b-4bf9-a026-3df20f1e9f3b",
   "metadata": {
    "tags": []
   },
   "outputs": [],
   "source": [
    "# DO not run again\n",
    "indicators =requests.get('https://api.gurufocus.com/public/user/55bb5f7a051cefa4483b892d4115fb49:afd837a03ca494a823f6b20cb016f142/stock/indicators')\n",
    "content = indicators.content\n",
    "data = json.loads(content.decode('utf8'))"
   ]
  },
  {
   "cell_type": "code",
   "execution_count": 444,
   "id": "77ab08fa-4619-4767-b85d-7a293eb9a635",
   "metadata": {
    "tags": []
   },
   "outputs": [
    {
     "data": {
      "text/html": [
       "<div>\n",
       "<style scoped>\n",
       "    .dataframe tbody tr th:only-of-type {\n",
       "        vertical-align: middle;\n",
       "    }\n",
       "\n",
       "    .dataframe tbody tr th {\n",
       "        vertical-align: top;\n",
       "    }\n",
       "\n",
       "    .dataframe thead th {\n",
       "        text-align: right;\n",
       "    }\n",
       "</style>\n",
       "<table border=\"1\" class=\"dataframe\">\n",
       "  <thead>\n",
       "    <tr style=\"text-align: right;\">\n",
       "      <th></th>\n",
       "      <th>Unnamed: 0</th>\n",
       "      <th>key</th>\n",
       "      <th>name</th>\n",
       "    </tr>\n",
       "  </thead>\n",
       "  <tbody>\n",
       "    <tr>\n",
       "      <th>0</th>\n",
       "      <td>0</td>\n",
       "      <td>price</td>\n",
       "      <td>Price</td>\n",
       "    </tr>\n",
       "    <tr>\n",
       "      <th>1</th>\n",
       "      <td>1</td>\n",
       "      <td>revenue</td>\n",
       "      <td>Revenue</td>\n",
       "    </tr>\n",
       "    <tr>\n",
       "      <th>2</th>\n",
       "      <td>2</td>\n",
       "      <td>revenue_estimate</td>\n",
       "      <td>Revenue with Estimate</td>\n",
       "    </tr>\n",
       "    <tr>\n",
       "      <th>3</th>\n",
       "      <td>3</td>\n",
       "      <td>net_income</td>\n",
       "      <td>Net Income</td>\n",
       "    </tr>\n",
       "    <tr>\n",
       "      <th>4</th>\n",
       "      <td>4</td>\n",
       "      <td>pettm</td>\n",
       "      <td>PE Ratio (TTM)</td>\n",
       "    </tr>\n",
       "    <tr>\n",
       "      <th>...</th>\n",
       "      <td>...</td>\n",
       "      <td>...</td>\n",
       "      <td>...</td>\n",
       "    </tr>\n",
       "    <tr>\n",
       "      <th>231</th>\n",
       "      <td>231</td>\n",
       "      <td>guru_buy</td>\n",
       "      <td>Number of Premium Guru Buys</td>\n",
       "    </tr>\n",
       "    <tr>\n",
       "      <th>232</th>\n",
       "      <td>232</td>\n",
       "      <td>guru_hold</td>\n",
       "      <td>Number of Premium Guru Holds</td>\n",
       "    </tr>\n",
       "    <tr>\n",
       "      <th>233</th>\n",
       "      <td>233</td>\n",
       "      <td>guru_buy_volume</td>\n",
       "      <td>Shares of Premium Guru Buys</td>\n",
       "    </tr>\n",
       "    <tr>\n",
       "      <th>234</th>\n",
       "      <td>234</td>\n",
       "      <td>guru_sell_volume</td>\n",
       "      <td>Shares of Premium Guru Sells</td>\n",
       "    </tr>\n",
       "    <tr>\n",
       "      <th>235</th>\n",
       "      <td>235</td>\n",
       "      <td>guru_hold_volume</td>\n",
       "      <td>Shares of Premium Guru Holds</td>\n",
       "    </tr>\n",
       "  </tbody>\n",
       "</table>\n",
       "<p>236 rows × 3 columns</p>\n",
       "</div>"
      ],
      "text/plain": [
       "     Unnamed: 0               key                          name\n",
       "0             0             price                         Price\n",
       "1             1           revenue                       Revenue\n",
       "2             2  revenue_estimate         Revenue with Estimate\n",
       "3             3        net_income                    Net Income\n",
       "4             4             pettm                PE Ratio (TTM)\n",
       "..          ...               ...                           ...\n",
       "231         231          guru_buy   Number of Premium Guru Buys\n",
       "232         232         guru_hold  Number of Premium Guru Holds\n",
       "233         233   guru_buy_volume   Shares of Premium Guru Buys\n",
       "234         234  guru_sell_volume  Shares of Premium Guru Sells\n",
       "235         235  guru_hold_volume  Shares of Premium Guru Holds\n",
       "\n",
       "[236 rows x 3 columns]"
      ]
     },
     "execution_count": 444,
     "metadata": {},
     "output_type": "execute_result"
    }
   ],
   "source": [
    "indicators = pd.read_csv(\"indicators.csv\")\n",
    "indicators"
   ]
  },
  {
   "cell_type": "markdown",
   "id": "01115789-cae2-4519-95d3-5a13f52c57d1",
   "metadata": {
    "tags": []
   },
   "source": [
    "# Price"
   ]
  },
  {
   "cell_type": "code",
   "execution_count": 445,
   "id": "aa89e324-b627-4fa6-a566-8463a553af13",
   "metadata": {
    "tags": []
   },
   "outputs": [],
   "source": [
    "api_token = \"55bb5f7a051cefa4483b892d4115fb49:afd837a03ca494a823f6b20cb016f142\"\n",
    "symbol = symbols[1]\n",
    "response = requests.get(f'https://api.gurufocus.com/public/user/{api_token}/stock/{symbol}/price?type=a')\n",
    "content = response.content\n",
    "price_data = json.loads(content.decode('utf8'))\n",
    "price = pd.DataFrame(price_data)"
   ]
  },
  {
   "cell_type": "code",
   "execution_count": 451,
   "id": "735e724e-9fa1-469c-820d-8ff188817a0d",
   "metadata": {
    "tags": []
   },
   "outputs": [],
   "source": [
    "price.columns = [\"date\",'price']\n",
    "price[\"date\"] = pd.to_datetime(price[\"date\"])"
   ]
  },
  {
   "cell_type": "markdown",
   "id": "13c853ec-5f65-4c1a-8389-13603da3ce7b",
   "metadata": {},
   "source": [
    "# Indicators"
   ]
  },
  {
   "cell_type": "code",
   "execution_count": 452,
   "id": "236afd4c-ca2c-42d1-b717-385d58129b55",
   "metadata": {},
   "outputs": [
    {
     "data": {
      "text/plain": [
       "['price',\n",
       " 'revenue',\n",
       " 'revenue_estimate',\n",
       " 'net_income',\n",
       " 'pettm',\n",
       " 'price_to_owner_earnings',\n",
       " 'ps_ratio',\n",
       " 'pb_ratio',\n",
       " 'peg_ratio',\n",
       " 'yield']"
      ]
     },
     "execution_count": 452,
     "metadata": {},
     "output_type": "execute_result"
    }
   ],
   "source": [
    "indicator = indicators.iloc[4:20].key\n",
    "indicators_list = list(indicators['key'])\n",
    "indicator = indicators_list[0:10]\n",
    "indicator"
   ]
  },
  {
   "cell_type": "code",
   "execution_count": 453,
   "id": "be9425ea-b37b-428a-ba3a-aaf908c8c35e",
   "metadata": {
    "tags": []
   },
   "outputs": [],
   "source": [
    "indicator = indicators_list[0:10]\n",
    "aux = [\"enterprise_value_to_revenue\",\"enterprise_value_to_ebitda\",\"enterprise_value_to_ebit\",\"earning_yield_greenblatt\",\"rate_of_return_value\",\"shiller_pe_ratio\",\"price_to_tangible_book\"\n",
    "       ,\"price_to_free_cash_flow\",\"price_to_operating_cash_flow\"]\n",
    "for i in aux:\n",
    "    indicator.append(i)\n",
    "indicator.pop(0)\n",
    "indicator.pop(0)\n",
    "indicator.pop(0)\n",
    "a =indicator.pop(0)"
   ]
  },
  {
   "cell_type": "code",
   "execution_count": 457,
   "id": "7fbb1cbf-3bfd-4c1f-9550-5248391ddcc2",
   "metadata": {},
   "outputs": [
    {
     "name": "stdout",
     "output_type": "stream",
     "text": [
      "|████████████████████████████████████████| 15/15 [100%] in 9.3s (1.67/s)        \n"
     ]
    }
   ],
   "source": [
    "data=price\n",
    "with alive_bar(len(indicator),force_tty=True) as bar:\n",
    "    for i in range(len(indicator)):\n",
    "        bar()\n",
    "        ind = indicator[i]\n",
    "        response = requests.get(f'https://api.gurufocus.com/public/user/{api_token}/stock/{symbol}/{ind}?type=a')\n",
    "        content = response.content\n",
    "        indicator_data = json.loads(content.decode('utf8'))\n",
    "        if(len(indicator_data)==0):\n",
    "            continue\n",
    "        else:\n",
    "            indicator_df = pd.DataFrame(indicator_data)\n",
    "            indicator_df[0] = pd.to_datetime(indicator_df[0])\n",
    "            indicator_df.columns = [\"date\",ind]\n",
    "            data = pd.merge(data,indicator_df,how=\"left\",on=[\"date\"])\n",
    "data.to_csv(symbol+\".csv\")"
   ]
  },
  {
   "cell_type": "code",
   "execution_count": 458,
   "id": "db9e56f3-52f9-42ca-8bfc-6970b907165a",
   "metadata": {
    "tags": []
   },
   "outputs": [
    {
     "data": {
      "text/html": [
       "<div>\n",
       "<style scoped>\n",
       "    .dataframe tbody tr th:only-of-type {\n",
       "        vertical-align: middle;\n",
       "    }\n",
       "\n",
       "    .dataframe tbody tr th {\n",
       "        vertical-align: top;\n",
       "    }\n",
       "\n",
       "    .dataframe thead th {\n",
       "        text-align: right;\n",
       "    }\n",
       "</style>\n",
       "<table border=\"1\" class=\"dataframe\">\n",
       "  <thead>\n",
       "    <tr style=\"text-align: right;\">\n",
       "      <th></th>\n",
       "      <th>date</th>\n",
       "      <th>price</th>\n",
       "      <th>pettm</th>\n",
       "      <th>price_to_owner_earnings</th>\n",
       "      <th>ps_ratio</th>\n",
       "      <th>pb_ratio</th>\n",
       "      <th>peg_ratio</th>\n",
       "      <th>enterprise_value_to_revenue</th>\n",
       "      <th>enterprise_value_to_ebitda</th>\n",
       "      <th>enterprise_value_to_ebit</th>\n",
       "      <th>earning_yield_greenblatt</th>\n",
       "      <th>rate_of_return_value</th>\n",
       "      <th>shiller_pe_ratio</th>\n",
       "      <th>price_to_tangible_book</th>\n",
       "      <th>price_to_free_cash_flow</th>\n",
       "      <th>price_to_operating_cash_flow</th>\n",
       "    </tr>\n",
       "  </thead>\n",
       "  <tbody>\n",
       "    <tr>\n",
       "      <th>0</th>\n",
       "      <td>2014-06-06</td>\n",
       "      <td>13.750</td>\n",
       "      <td>165.66</td>\n",
       "      <td>NaN</td>\n",
       "      <td>9.82</td>\n",
       "      <td>36.18</td>\n",
       "      <td>NaN</td>\n",
       "      <td>8.42</td>\n",
       "      <td>41.12</td>\n",
       "      <td>44.58</td>\n",
       "      <td>2.24</td>\n",
       "      <td>NaN</td>\n",
       "      <td>NaN</td>\n",
       "      <td>36.18</td>\n",
       "      <td>136.14</td>\n",
       "      <td>80.88</td>\n",
       "    </tr>\n",
       "    <tr>\n",
       "      <th>1</th>\n",
       "      <td>2014-06-09</td>\n",
       "      <td>13.800</td>\n",
       "      <td>166.27</td>\n",
       "      <td>NaN</td>\n",
       "      <td>9.86</td>\n",
       "      <td>36.32</td>\n",
       "      <td>NaN</td>\n",
       "      <td>8.45</td>\n",
       "      <td>41.27</td>\n",
       "      <td>44.74</td>\n",
       "      <td>2.23</td>\n",
       "      <td>NaN</td>\n",
       "      <td>NaN</td>\n",
       "      <td>36.32</td>\n",
       "      <td>136.63</td>\n",
       "      <td>81.18</td>\n",
       "    </tr>\n",
       "    <tr>\n",
       "      <th>2</th>\n",
       "      <td>2014-06-10</td>\n",
       "      <td>15.000</td>\n",
       "      <td>180.72</td>\n",
       "      <td>NaN</td>\n",
       "      <td>10.71</td>\n",
       "      <td>39.47</td>\n",
       "      <td>NaN</td>\n",
       "      <td>9.18</td>\n",
       "      <td>44.85</td>\n",
       "      <td>48.62</td>\n",
       "      <td>2.06</td>\n",
       "      <td>NaN</td>\n",
       "      <td>NaN</td>\n",
       "      <td>39.47</td>\n",
       "      <td>148.51</td>\n",
       "      <td>88.24</td>\n",
       "    </tr>\n",
       "    <tr>\n",
       "      <th>3</th>\n",
       "      <td>2014-06-11</td>\n",
       "      <td>15.875</td>\n",
       "      <td>191.27</td>\n",
       "      <td>NaN</td>\n",
       "      <td>11.34</td>\n",
       "      <td>41.78</td>\n",
       "      <td>NaN</td>\n",
       "      <td>9.71</td>\n",
       "      <td>47.46</td>\n",
       "      <td>51.45</td>\n",
       "      <td>1.94</td>\n",
       "      <td>NaN</td>\n",
       "      <td>NaN</td>\n",
       "      <td>41.78</td>\n",
       "      <td>157.18</td>\n",
       "      <td>93.38</td>\n",
       "    </tr>\n",
       "    <tr>\n",
       "      <th>4</th>\n",
       "      <td>2014-06-12</td>\n",
       "      <td>16.500</td>\n",
       "      <td>198.80</td>\n",
       "      <td>NaN</td>\n",
       "      <td>11.79</td>\n",
       "      <td>43.42</td>\n",
       "      <td>NaN</td>\n",
       "      <td>10.09</td>\n",
       "      <td>49.32</td>\n",
       "      <td>53.47</td>\n",
       "      <td>1.87</td>\n",
       "      <td>NaN</td>\n",
       "      <td>NaN</td>\n",
       "      <td>43.42</td>\n",
       "      <td>163.37</td>\n",
       "      <td>97.06</td>\n",
       "    </tr>\n",
       "    <tr>\n",
       "      <th>...</th>\n",
       "      <td>...</td>\n",
       "      <td>...</td>\n",
       "      <td>...</td>\n",
       "      <td>...</td>\n",
       "      <td>...</td>\n",
       "      <td>...</td>\n",
       "      <td>...</td>\n",
       "      <td>...</td>\n",
       "      <td>...</td>\n",
       "      <td>...</td>\n",
       "      <td>...</td>\n",
       "      <td>...</td>\n",
       "      <td>...</td>\n",
       "      <td>...</td>\n",
       "      <td>...</td>\n",
       "      <td>...</td>\n",
       "    </tr>\n",
       "    <tr>\n",
       "      <th>2250</th>\n",
       "      <td>2023-05-15</td>\n",
       "      <td>137.980</td>\n",
       "      <td>28.75</td>\n",
       "      <td>122.11</td>\n",
       "      <td>8.97</td>\n",
       "      <td>7.93</td>\n",
       "      <td>NaN</td>\n",
       "      <td>8.03</td>\n",
       "      <td>21.62</td>\n",
       "      <td>22.50</td>\n",
       "      <td>4.45</td>\n",
       "      <td>NaN</td>\n",
       "      <td>73.79</td>\n",
       "      <td>8.54</td>\n",
       "      <td>70.83</td>\n",
       "      <td>66.66</td>\n",
       "    </tr>\n",
       "    <tr>\n",
       "      <th>2251</th>\n",
       "      <td>2023-05-16</td>\n",
       "      <td>136.140</td>\n",
       "      <td>28.36</td>\n",
       "      <td>120.48</td>\n",
       "      <td>8.85</td>\n",
       "      <td>7.83</td>\n",
       "      <td>NaN</td>\n",
       "      <td>7.92</td>\n",
       "      <td>21.30</td>\n",
       "      <td>22.17</td>\n",
       "      <td>4.51</td>\n",
       "      <td>NaN</td>\n",
       "      <td>72.80</td>\n",
       "      <td>8.42</td>\n",
       "      <td>69.89</td>\n",
       "      <td>65.77</td>\n",
       "    </tr>\n",
       "    <tr>\n",
       "      <th>2252</th>\n",
       "      <td>2023-05-17</td>\n",
       "      <td>135.830</td>\n",
       "      <td>28.30</td>\n",
       "      <td>120.20</td>\n",
       "      <td>8.83</td>\n",
       "      <td>7.81</td>\n",
       "      <td>NaN</td>\n",
       "      <td>7.90</td>\n",
       "      <td>21.25</td>\n",
       "      <td>22.12</td>\n",
       "      <td>4.52</td>\n",
       "      <td>NaN</td>\n",
       "      <td>72.64</td>\n",
       "      <td>8.41</td>\n",
       "      <td>69.73</td>\n",
       "      <td>65.62</td>\n",
       "    </tr>\n",
       "    <tr>\n",
       "      <th>2253</th>\n",
       "      <td>2023-05-18</td>\n",
       "      <td>141.460</td>\n",
       "      <td>29.47</td>\n",
       "      <td>125.19</td>\n",
       "      <td>9.20</td>\n",
       "      <td>8.13</td>\n",
       "      <td>NaN</td>\n",
       "      <td>8.25</td>\n",
       "      <td>22.21</td>\n",
       "      <td>23.11</td>\n",
       "      <td>4.33</td>\n",
       "      <td>NaN</td>\n",
       "      <td>75.65</td>\n",
       "      <td>8.75</td>\n",
       "      <td>72.62</td>\n",
       "      <td>68.34</td>\n",
       "    </tr>\n",
       "    <tr>\n",
       "      <th>2254</th>\n",
       "      <td>2023-05-19</td>\n",
       "      <td>143.910</td>\n",
       "      <td>29.98</td>\n",
       "      <td>127.35</td>\n",
       "      <td>9.36</td>\n",
       "      <td>8.28</td>\n",
       "      <td>NaN</td>\n",
       "      <td>8.41</td>\n",
       "      <td>22.62</td>\n",
       "      <td>23.54</td>\n",
       "      <td>4.25</td>\n",
       "      <td>NaN</td>\n",
       "      <td>76.96</td>\n",
       "      <td>8.91</td>\n",
       "      <td>73.88</td>\n",
       "      <td>69.52</td>\n",
       "    </tr>\n",
       "  </tbody>\n",
       "</table>\n",
       "<p>2255 rows × 16 columns</p>\n",
       "</div>"
      ],
      "text/plain": [
       "           date    price   pettm  price_to_owner_earnings  ps_ratio  pb_ratio  \\\n",
       "0    2014-06-06   13.750  165.66                      NaN      9.82     36.18   \n",
       "1    2014-06-09   13.800  166.27                      NaN      9.86     36.32   \n",
       "2    2014-06-10   15.000  180.72                      NaN     10.71     39.47   \n",
       "3    2014-06-11   15.875  191.27                      NaN     11.34     41.78   \n",
       "4    2014-06-12   16.500  198.80                      NaN     11.79     43.42   \n",
       "...         ...      ...     ...                      ...       ...       ...   \n",
       "2250 2023-05-15  137.980   28.75                   122.11      8.97      7.93   \n",
       "2251 2023-05-16  136.140   28.36                   120.48      8.85      7.83   \n",
       "2252 2023-05-17  135.830   28.30                   120.20      8.83      7.81   \n",
       "2253 2023-05-18  141.460   29.47                   125.19      9.20      8.13   \n",
       "2254 2023-05-19  143.910   29.98                   127.35      9.36      8.28   \n",
       "\n",
       "      peg_ratio  enterprise_value_to_revenue  enterprise_value_to_ebitda  \\\n",
       "0           NaN                         8.42                       41.12   \n",
       "1           NaN                         8.45                       41.27   \n",
       "2           NaN                         9.18                       44.85   \n",
       "3           NaN                         9.71                       47.46   \n",
       "4           NaN                        10.09                       49.32   \n",
       "...         ...                          ...                         ...   \n",
       "2250        NaN                         8.03                       21.62   \n",
       "2251        NaN                         7.92                       21.30   \n",
       "2252        NaN                         7.90                       21.25   \n",
       "2253        NaN                         8.25                       22.21   \n",
       "2254        NaN                         8.41                       22.62   \n",
       "\n",
       "      enterprise_value_to_ebit  earning_yield_greenblatt  \\\n",
       "0                        44.58                      2.24   \n",
       "1                        44.74                      2.23   \n",
       "2                        48.62                      2.06   \n",
       "3                        51.45                      1.94   \n",
       "4                        53.47                      1.87   \n",
       "...                        ...                       ...   \n",
       "2250                     22.50                      4.45   \n",
       "2251                     22.17                      4.51   \n",
       "2252                     22.12                      4.52   \n",
       "2253                     23.11                      4.33   \n",
       "2254                     23.54                      4.25   \n",
       "\n",
       "      rate_of_return_value  shiller_pe_ratio  price_to_tangible_book  \\\n",
       "0                      NaN               NaN                   36.18   \n",
       "1                      NaN               NaN                   36.32   \n",
       "2                      NaN               NaN                   39.47   \n",
       "3                      NaN               NaN                   41.78   \n",
       "4                      NaN               NaN                   43.42   \n",
       "...                    ...               ...                     ...   \n",
       "2250                   NaN             73.79                    8.54   \n",
       "2251                   NaN             72.80                    8.42   \n",
       "2252                   NaN             72.64                    8.41   \n",
       "2253                   NaN             75.65                    8.75   \n",
       "2254                   NaN             76.96                    8.91   \n",
       "\n",
       "      price_to_free_cash_flow  price_to_operating_cash_flow  \n",
       "0                      136.14                         80.88  \n",
       "1                      136.63                         81.18  \n",
       "2                      148.51                         88.24  \n",
       "3                      157.18                         93.38  \n",
       "4                      163.37                         97.06  \n",
       "...                       ...                           ...  \n",
       "2250                    70.83                         66.66  \n",
       "2251                    69.89                         65.77  \n",
       "2252                    69.73                         65.62  \n",
       "2253                    72.62                         68.34  \n",
       "2254                    73.88                         69.52  \n",
       "\n",
       "[2255 rows x 16 columns]"
      ]
     },
     "execution_count": 458,
     "metadata": {},
     "output_type": "execute_result"
    }
   ],
   "source": [
    "data"
   ]
  },
  {
   "cell_type": "code",
   "execution_count": 459,
   "id": "7e35b0b5-71a7-444a-80c3-40ba825a7610",
   "metadata": {
    "tags": []
   },
   "outputs": [],
   "source": [
    "data = pd.read_csv(symbol+\".csv\")"
   ]
  },
  {
   "cell_type": "code",
   "execution_count": 460,
   "id": "d0db4474-5af0-434e-9c37-de4a7393473d",
   "metadata": {
    "tags": []
   },
   "outputs": [],
   "source": [
    "data.replace(0, np.nan, inplace=True)\n",
    "metrics_correlation = data.corr()['price'].iloc[1:]\n",
    "metrics_correlation_abs = metrics_correlation.map(abs)\n",
    "metrics_correlation_abs = pd.DataFrame(metrics_correlation_abs)\n",
    "metrics_correlation = pd.DataFrame(metrics_correlation)\n",
    "metrics = pd.concat([metrics_correlation,metrics_correlation_abs],axis=1)\n",
    "metrics.columns=['Correlation', 'abs']\n",
    "metrics = metrics.sort_values(by=\"abs\",ascending=False)\n",
    "metrics.to_csv(symbol+\"_results.csv\")"
   ]
  },
  {
   "cell_type": "markdown",
   "id": "a72b8a26-470c-4d6f-b0e1-b4b341dcaa0e",
   "metadata": {},
   "source": [
    "# Script for symbol"
   ]
  },
  {
   "cell_type": "code",
   "execution_count": 477,
   "id": "55d1c191-6333-4be9-b81c-2a66286cd6ba",
   "metadata": {
    "tags": []
   },
   "outputs": [],
   "source": [
    "#Please run this command if this is the first time getting the information, if not run get results Correlation\n",
    "def getCorrelations(symbol):\n",
    "    indicators = pd.read_csv(\"indicators.csv\")\n",
    "    api_token = \"55bb5f7a051cefa4483b892d4115fb49:afd837a03ca494a823f6b20cb016f142\"\n",
    "    response = requests.get(f'https://api.gurufocus.com/public/user/{api_token}/stock/{symbol}/price?type=a')\n",
    "    content = response.content\n",
    "    price_data = json.loads(content.decode('utf8'))\n",
    "    price = pd.DataFrame(price_data)\n",
    "    price.columns = [\"date\",'price']\n",
    "    price[\"date\"] = pd.to_datetime(price[\"date\"])\n",
    "    data=price\n",
    "    with alive_bar(len(indicator),force_tty=True) as bar:\n",
    "        for i in range(len(indicator)):\n",
    "            bar()\n",
    "            ind = indicator[i]\n",
    "            response = requests.get(f'https://api.gurufocus.com/public/user/{api_token}/stock/{symbol}/{ind}?type=a')\n",
    "            content = response.content\n",
    "            indicator_data = json.loads(content.decode('utf8'))\n",
    "            if(len(indicator_data)==0):\n",
    "                continue\n",
    "            else:\n",
    "                indicator_df = pd.DataFrame(indicator_data)\n",
    "                indicator_df[0] = pd.to_datetime(indicator_df[0])\n",
    "                indicator_df.columns = [\"date\",ind]\n",
    "                data = pd.merge(data,indicator_df,how=\"left\",on=[\"date\"])\n",
    "    data.to_csv(symbol+\".csv\")\n",
    "    data = pd.read_csv(symbol+\".csv\")\n",
    "    data.replace(0, np.nan, inplace=True)\n",
    "    metrics_correlation = data.corr()['price'].iloc[1:]\n",
    "    metrics_correlation_abs = metrics_correlation.map(abs)\n",
    "    metrics_correlation_abs = pd.DataFrame(metrics_correlation_abs)\n",
    "    metrics_correlation = pd.DataFrame(metrics_correlation)\n",
    "    metrics = pd.concat([metrics_correlation,metrics_correlation_abs],axis=1)\n",
    "    metrics.columns=['Correlation', 'abs']\n",
    "    metrics = metrics.sort_values(by=\"abs\",ascending=False)\n",
    "    metrics= metrics.to_csv(symbol+\"_results.csv\")\n",
    "    print(f\"The best historical metric is {metrics.iloc[1][0]} with correlation {metrics.iloc[1]['Correlation']}\")"
   ]
  },
  {
   "cell_type": "code",
   "execution_count": 482,
   "id": "e021b5c4-6a47-4f7e-b44e-e2a311056383",
   "metadata": {
    "tags": []
   },
   "outputs": [],
   "source": [
    "def getCorrelationResults(symbol):\n",
    "    metrics = pd.read_csv(symbol+\"_results.csv\")\n",
    "    print(metrics.head())\n",
    "    print(f\"The best historical metric is {metrics.iloc[1][0]} with correlation {metrics.iloc[1]['Correlation']}\")"
   ]
  },
  {
   "cell_type": "code",
   "execution_count": 485,
   "id": "df8b9d52-e28c-4feb-be5f-fe3bb2a53de1",
   "metadata": {
    "tags": []
   },
   "outputs": [
    {
     "name": "stdout",
     "output_type": "stream",
     "text": [
      "                    Unnamed: 0  Correlation       abs\n",
      "0                        price     1.000000  1.000000\n",
      "1                     pb_ratio     0.957862  0.957862\n",
      "2       price_to_tangible_book     0.956442  0.956442\n",
      "3  enterprise_value_to_revenue     0.927827  0.927827\n",
      "4                     ps_ratio     0.926664  0.926664\n",
      "The best historical metric is pb_ratio with correlation 0.9578621580311536\n"
     ]
    }
   ],
   "source": [
    "getCorrelationResults(symbols[3])"
   ]
  },
  {
   "cell_type": "markdown",
   "id": "bcf87fe4-184a-49d9-8f8e-1d917f8a66a8",
   "metadata": {},
   "source": [
    "# Getting results"
   ]
  },
  {
   "cell_type": "code",
   "execution_count": 489,
   "id": "464fbdb7-9f9c-4188-8154-8ca7e53dcad9",
   "metadata": {
    "tags": []
   },
   "outputs": [
    {
     "ename": "SyntaxError",
     "evalue": "invalid syntax (1937107246.py, line 4)",
     "output_type": "error",
     "traceback": [
      "\u001b[0;36m  Cell \u001b[0;32mIn[489], line 4\u001b[0;36m\u001b[0m\n\u001b[0;31m    if(!os.path.exists(i+\".csv\")):\u001b[0m\n\u001b[0m       ^\u001b[0m\n\u001b[0;31mSyntaxError\u001b[0m\u001b[0;31m:\u001b[0m invalid syntax\n"
     ]
    }
   ],
   "source": [
    "import os\n",
    "for i in symbols:\n",
    "    print(\"Getting data for \" + i) \n",
    "    if(not os.path.exists(i+\".csv\")):\n",
    "        getCorrelations(i)\n",
    "    else:\n",
    "        getCorrelationResults(i)"
   ]
  }
 ],
 "metadata": {
  "kernelspec": {
   "display_name": "Python 3 (ipykernel)",
   "language": "python",
   "name": "python3"
  },
  "language_info": {
   "codemirror_mode": {
    "name": "ipython",
    "version": 3
   },
   "file_extension": ".py",
   "mimetype": "text/x-python",
   "name": "python",
   "nbconvert_exporter": "python",
   "pygments_lexer": "ipython3",
   "version": "3.10.10"
  }
 },
 "nbformat": 4,
 "nbformat_minor": 5
}
