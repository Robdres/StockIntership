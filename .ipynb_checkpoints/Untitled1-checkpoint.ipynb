{
 "cells": [
  {
   "cell_type": "code",
   "execution_count": 3,
   "id": "d4308ac9-ce61-4239-9582-f90c29b5860a",
   "metadata": {
    "tags": []
   },
   "outputs": [],
   "source": [
    "import requests\n",
    "import pandas"
   ]
  },
  {
   "cell_type": "code",
   "execution_count": 5,
   "id": "64d91015-cc1a-4b1b-b6f8-9173a163fbda",
   "metadata": {
    "tags": []
   },
   "outputs": [],
   "source": [
    "api_token = '4fca5ecf1027bed7de99a4deef21ca5b:54e5759a98ca73a76a93958616b89da4'"
   ]
  },
  {
   "cell_type": "code",
   "execution_count": 6,
   "id": "f9ce0ba4-446f-4cae-8f70-fb6a89c7a15f",
   "metadata": {
    "tags": []
   },
   "outputs": [],
   "source": [
    "symbol = 'AAPL'"
   ]
  },
  {
   "cell_type": "code",
   "execution_count": 9,
   "id": "a2dd77ea-76c6-4b43-b1af-059a70be2a62",
   "metadata": {
    "tags": []
   },
   "outputs": [],
   "source": [
    "url = f'https://api.gurufocus.com/public/user/{api_token}/stock/{symbol}/financials'"
   ]
  },
  {
   "cell_type": "code",
   "execution_count": 12,
   "id": "173b4c1c-1fb6-494f-9218-47fc9e63b7f1",
   "metadata": {
    "tags": []
   },
   "outputs": [],
   "source": [
    "response = requests.get(url)\n",
    "data = response.json()"
   ]
  },
  {
   "cell_type": "code",
   "execution_count": 14,
   "id": "a7ea845b-dcb0-489e-9d03-4af275a89e40",
   "metadata": {
    "tags": []
   },
   "outputs": [
    {
     "data": {
      "text/plain": [
       "{'error': 'You have reached the limit of your API queries. Please upgrade your membership to increase your limit: https://www.gurufocus.com/membership/new/index.html#/ 0 2023-04'}"
      ]
     },
     "execution_count": 14,
     "metadata": {},
     "output_type": "execute_result"
    }
   ],
   "source": [
    "data"
   ]
  }
 ],
 "metadata": {
  "kernelspec": {
   "display_name": "Python 3 (ipykernel)",
   "language": "python",
   "name": "python3"
  },
  "language_info": {
   "codemirror_mode": {
    "name": "ipython",
    "version": 3
   },
   "file_extension": ".py",
   "mimetype": "text/x-python",
   "name": "python",
   "nbconvert_exporter": "python",
   "pygments_lexer": "ipython3",
   "version": "3.10.10"
  }
 },
 "nbformat": 4,
 "nbformat_minor": 5
}
